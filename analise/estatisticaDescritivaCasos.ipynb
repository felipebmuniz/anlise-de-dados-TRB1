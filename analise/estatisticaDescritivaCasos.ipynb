{
  "nbformat": 4,
  "nbformat_minor": 0,
  "metadata": {
    "colab": {
      "name": "estatisticaDescritivaCasos.ipynb",
      "provenance": [],
      "collapsed_sections": [],
      "include_colab_link": true
    },
    "kernelspec": {
      "name": "python3",
      "display_name": "Python 3"
    }
  },
  "cells": [
    {
      "cell_type": "markdown",
      "metadata": {
        "id": "view-in-github",
        "colab_type": "text"
      },
      "source": [
        "<a href=\"https://colab.research.google.com/github/felipebmuniz/anlise-de-dados-TRB1/blob/main/analise/estatisticaDescritivaCasos.ipynb\" target=\"_parent\"><img src=\"https://colab.research.google.com/assets/colab-badge.svg\" alt=\"Open In Colab\"/></a>"
      ]
    },
    {
      "cell_type": "markdown",
      "metadata": {
        "id": "mDMdS0t7J9X9"
      },
      "source": [
        "# Medidas de Posição e Tendência Central"
      ]
    },
    {
      "cell_type": "markdown",
      "metadata": {
        "id": "QZ67sEcFcVh1"
      },
      "source": [
        "Importando as bibliotecas"
      ]
    },
    {
      "cell_type": "code",
      "metadata": {
        "id": "-R8H-nC4ZHvd"
      },
      "source": [
        "import numpy as np\n",
        "import matplotlib.pyplot as plt\n",
        "from cycler import cycler"
      ],
      "execution_count": 6,
      "outputs": []
    },
    {
      "cell_type": "code",
      "metadata": {
        "id": "ZE9QzUD2ZZpB"
      },
      "source": [
        "from scipy.stats.mstats import gmean,hmean\n",
        "from scipy import stats"
      ],
      "execution_count": 7,
      "outputs": []
    },
    {
      "cell_type": "markdown",
      "metadata": {
        "id": "GiS4OoANKLu5"
      },
      "source": [
        "**Média Aritmética (MA) - É a soma de todos os elementos do conjunto, divididos pelo número de elementos que compõe o conjunto.**\n",
        "\n",
        "![alt text](https://wikimedia.org/api/rest_v1/media/math/render/svg/c938ca170f8c4a5d2dddecabc5ae1d5eb5f35a2b)"
      ]
    },
    {
      "cell_type": "code",
      "metadata": {
        "id": "pvKTuLnHZMFx"
      },
      "source": [
        "dados = [1,2,5,3,4]"
      ],
      "execution_count": null,
      "outputs": []
    },
    {
      "cell_type": "code",
      "metadata": {
        "id": "glWMxJx0ZTG5",
        "colab": {
          "base_uri": "https://localhost:8080/"
        },
        "outputId": "f810a5f8-aa8c-414d-d8e9-653c6c929573"
      },
      "source": [
        "np.mean(dados)"
      ],
      "execution_count": null,
      "outputs": [
        {
          "output_type": "execute_result",
          "data": {
            "text/plain": [
              "3.0"
            ]
          },
          "metadata": {},
          "execution_count": 7
        }
      ]
    },
    {
      "cell_type": "markdown",
      "metadata": {
        "id": "nttS850jbM-r"
      },
      "source": [
        "**Média Geométrica (MG) - É a raíz n-ésima do produto de todos os elementos que compõe o conjunto.**\n",
        "\n",
        "![alt text](https://wikimedia.org/api/rest_v1/media/math/render/svg/82fb3d898a5de7ae016b07855c335ce570350410)"
      ]
    },
    {
      "cell_type": "code",
      "metadata": {
        "id": "RFuuguTHclir",
        "colab": {
          "base_uri": "https://localhost:8080/"
        },
        "outputId": "3ed38402-be63-4337-8fcb-302ce94c4c0c"
      },
      "source": [
        "gmean(dados)"
      ],
      "execution_count": null,
      "outputs": [
        {
          "output_type": "execute_result",
          "data": {
            "text/plain": [
              "2.6051710846973517"
            ]
          },
          "metadata": {},
          "execution_count": 8
        }
      ]
    },
    {
      "cell_type": "markdown",
      "metadata": {
        "id": "eDTRVRAYbo3o"
      },
      "source": [
        "**Média Harmônica (MH) - É o número de elementos, divididos pela soma dos inversos dos elementos que compõem o conjunto.**\n",
        "\n",
        "![alt text](https://wikimedia.org/api/rest_v1/media/math/render/svg/5335415727099e38ba27a1775613020dc4b584de)"
      ]
    },
    {
      "cell_type": "code",
      "metadata": {
        "id": "Lazfd7f-cvJo",
        "colab": {
          "base_uri": "https://localhost:8080/"
        },
        "outputId": "d6708015-91a0-47ab-a20a-e865bd60e4c5"
      },
      "source": [
        "hmean(dados)"
      ],
      "execution_count": null,
      "outputs": [
        {
          "output_type": "execute_result",
          "data": {
            "text/plain": [
              "2.18978102189781"
            ]
          },
          "metadata": {},
          "execution_count": 9
        }
      ]
    },
    {
      "cell_type": "markdown",
      "metadata": {
        "id": "lddpRaNov0pA"
      },
      "source": [
        "## Quando usar cada uma das médias?"
      ]
    },
    {
      "cell_type": "markdown",
      "metadata": {
        "id": "0P0vlEpViPk5"
      },
      "source": [
        "### Funções para plotar gráficos"
      ]
    },
    {
      "cell_type": "code",
      "metadata": {
        "id": "gkUgx5aTwFvh"
      },
      "source": [
        "def plot_lines(dados, valor_central):\n",
        "  if valor_central in dados:\n",
        "    posicao_central = dados.index(valor_central)+1\n",
        "  else:\n",
        "    dados.append(valor_central)\n",
        "    dados.sort()\n",
        "    posicao_central = dados.index(valor_central)+1\n",
        "  \n",
        "  posicoes = np.arange(1,len(dados)+1,1)\n",
        "  plt.figure(figsize=(8,6))\n",
        "  plt.plot(posicoes,dados,'o-', color='red',ms=15)\n",
        "  plt.plot(posicao_central, valor_central, 'o-',color='blue',ms=15)\n",
        "  plt.show()"
      ],
      "execution_count": 1,
      "outputs": []
    },
    {
      "cell_type": "code",
      "metadata": {
        "id": "eynTjAwxrvCq"
      },
      "source": [
        "def plot_line_means(dados, mean, gmean,hmean):\n",
        "  posicoes_centrais=[]\n",
        "  y=[]\n",
        "  x = dados\n",
        "  \n",
        "  for m in [mean,gmean,hmean]:\n",
        "    x.append(m)\n",
        "  \n",
        "  x.sort()\n",
        "  for m in [mean,gmean,hmean]:\n",
        "    if m in x:\n",
        "      posicoes_centrais.append(x.index(m)+1)\n",
        "  \n",
        "  print(\"Dados: {}\".format(x))\n",
        "  print(\"Media aritmética: {}, Média Geométrica: {}, Média Harmonica: {}\".format(mean,gmean,hmean))\n",
        "  \n",
        "  y = np.arange(1,len(x)+1,1)\n",
        "  \n",
        "  plt.figure(figsize=(8,6))\n",
        "  plt.rc('axes', prop_cycle=(cycler('color', ['r', 'g', 'b'])))\n",
        "  plt.plot(y,x,'o-', color='black',ms=15)\n",
        "  medias = ['MA','MG','MH'] \n",
        "  i=0\n",
        "  for posicao_central,valor_central in zip(posicoes_centrais,[mean,gmean,hmean]):\n",
        "    plt.plot(posicao_central, valor_central, 'o-',ms=15)\n",
        "    plt.text(x=posicao_central+0.2, y=valor_central+0.2, s=medias[i], alpha=0.7, color='#334f8d')\n",
        "    i+=1\n",
        "\n",
        "  plt.show()"
      ],
      "execution_count": 2,
      "outputs": []
    },
    {
      "cell_type": "code",
      "metadata": {
        "id": "rjpQ2OLsSgqe"
      },
      "source": [
        "def plot_lines_horizontal(dados,valor_central):\n",
        "  plt.figure(figsize=(10,6))\n",
        "  y = 0\n",
        "  plt.hlines(y, min(dados), max(dados))\n",
        "  for n in dados:\n",
        "    if n == valor_central:\n",
        "      plt.plot(n,y, 'o', ms = 15, color='blue')\n",
        "      continue  \n",
        "    plt.plot(n,y, 'o', ms = 15, color = 'red')"
      ],
      "execution_count": 3,
      "outputs": []
    },
    {
      "cell_type": "markdown",
      "metadata": {
        "id": "v3SzrUJav73B"
      },
      "source": [
        "### Considere os cenários"
      ]
    },
    {
      "cell_type": "markdown",
      "metadata": {
        "id": "1dV32Nmd1MGP"
      },
      "source": [
        "Exemplo de dados gerados a partir de uma **operação de adição**, a soma do valor 3 em cada elemento do vetor (relacionamento linear)"
      ]
    },
    {
      "cell_type": "code",
      "metadata": {
        "id": "4-IY90hFv_sR"
      },
      "source": [
        "dados_linear = [1, 4, 7, 10, 13, 16, 19]"
      ],
      "execution_count": 4,
      "outputs": []
    },
    {
      "cell_type": "markdown",
      "metadata": {
        "id": "6Gy6dcjQ082B"
      },
      "source": [
        "Calculando a média aritmética"
      ]
    },
    {
      "cell_type": "code",
      "metadata": {
        "id": "8NeF5SCI06Fx"
      },
      "source": [
        "media = int(np.mean(dados_linear))"
      ],
      "execution_count": 8,
      "outputs": []
    },
    {
      "cell_type": "code",
      "metadata": {
        "id": "2d0VPC2B1yLv",
        "colab": {
          "base_uri": "https://localhost:8080/"
        },
        "outputId": "bf013b2d-d2be-4687-b2eb-6476b55c8e1d"
      },
      "source": [
        "print(\"Valor da média aritmética dos dados: {}\".format(media))"
      ],
      "execution_count": null,
      "outputs": [
        {
          "output_type": "stream",
          "name": "stdout",
          "text": [
            "Valor da média aritmética dos dados: 10\n"
          ]
        }
      ]
    },
    {
      "cell_type": "markdown",
      "metadata": {
        "id": "l8y5mULb1A30"
      },
      "source": [
        "Plotando os dados e seu valor central"
      ]
    },
    {
      "cell_type": "code",
      "metadata": {
        "id": "P_RwW1Tn7YPC",
        "colab": {
          "base_uri": "https://localhost:8080/",
          "height": 374
        },
        "outputId": "aaaa8e42-01a6-4e24-e2e1-74c1d3897a25"
      },
      "source": [
        "plot_lines(dados_linear,media)"
      ],
      "execution_count": 9,
      "outputs": [
        {
          "output_type": "display_data",
          "data": {
            "text/plain": [
              "<Figure size 576x432 with 1 Axes>"
            ],
            "image/png": "[encoded data removed]"
          },
          "metadata": {
            "needs_background": "light"
          }
        }
      ]
    },
    {
      "cell_type": "code",
      "metadata": {
        "id": "_h0mcgTig4Vh",
        "colab": {
          "base_uri": "https://localhost:8080/",
          "height": 374
        },
        "outputId": "e6455ce7-6133-45f4-89b6-a158f0234abd"
      },
      "source": [
        "plot_lines_horizontal(dados_linear,media)"
      ],
      "execution_count": null,
      "outputs": [
        {
          "output_type": "display_data",
          "data": {
            "text/plain": [
              "<Figure size 720x432 with 1 Axes>"
            ],
            "image/png": "[encoded data removed]"
          },
          "metadata": {
            "needs_background": "light"
          }
        }
      ]
    },
    {
      "cell_type": "markdown",
      "metadata": {
        "id": "3GIj5J5q3HdP"
      },
      "source": [
        "Exemplo de dados gerados a partir de uma **operação de multiplicação**, a multiplicação de cada elemento pelo valor de 3 (relacionamento exponencial)"
      ]
    },
    {
      "cell_type": "code",
      "metadata": {
        "id": "sQIB1e3t9cWi"
      },
      "source": [
        "dados_exponencial = [1, 3, 9, 27, 81, 243, 729]"
      ],
      "execution_count": 10,
      "outputs": []
    },
    {
      "cell_type": "markdown",
      "metadata": {
        "id": "zB_YzIi_3qAi"
      },
      "source": [
        "Calculando a média aritmética."
      ]
    },
    {
      "cell_type": "markdown",
      "metadata": {
        "id": "pVDyPnKRAKi_"
      },
      "source": [
        "(1 + 3 + 9 + 27 + 81 + 243 + 729) ÷ 7 = **156.1**"
      ]
    },
    {
      "cell_type": "code",
      "metadata": {
        "id": "KK_0MedZ3oq5"
      },
      "source": [
        "media = int(np.mean(dados_exponencial))"
      ],
      "execution_count": 11,
      "outputs": []
    },
    {
      "cell_type": "code",
      "metadata": {
        "id": "oUQECliJRNuZ",
        "colab": {
          "base_uri": "https://localhost:8080/"
        },
        "outputId": "81f9cead-9a02-4e9b-a991-7332c449fa4a"
      },
      "source": [
        "print(\"Valor da média aritmética dos dados: {}\".format(media))"
      ],
      "execution_count": 12,
      "outputs": [
        {
          "output_type": "stream",
          "name": "stdout",
          "text": [
            "Valor da média aritmética dos dados: 156\n"
          ]
        }
      ]
    },
    {
      "cell_type": "markdown",
      "metadata": {
        "id": "yDdqGi4d32zw"
      },
      "source": [
        "Plotando os dados e seu valor central."
      ]
    },
    {
      "cell_type": "code",
      "metadata": {
        "id": "o0IKSoFs9xm7",
        "colab": {
          "base_uri": "https://localhost:8080/",
          "height": 374
        },
        "outputId": "9cdd23bf-0d95-46f4-9eb8-8fb66983a8cb"
      },
      "source": [
        "plot_lines(dados_exponencial,media)"
      ],
      "execution_count": 13,
      "outputs": [
        {
          "output_type": "display_data",
          "data": {
            "text/plain": [
              "<Figure size 576x432 with 1 Axes>"
            ],
            "image/png": "[encoded data removed]"
          },
          "metadata": {
            "needs_background": "light"
          }
        }
      ]
    },
    {
      "cell_type": "code",
      "metadata": {
        "id": "mIGMgM0_grXk",
        "colab": {
          "base_uri": "https://localhost:8080/",
          "height": 374
        },
        "outputId": "2081d251-0fd9-4a47-d173-82029c02df9e"
      },
      "source": [
        "plot_lines_horizontal(dados_exponencial,media)"
      ],
      "execution_count": 14,
      "outputs": [
        {
          "output_type": "display_data",
          "data": {
            "text/plain": [
              "<Figure size 720x432 with 1 Axes>"
            ],
            "image/png": "[encoded data removed]"
          },
          "metadata": {
            "needs_background": "light"
          }
        }
      ]
    },
    {
      "cell_type": "markdown",
      "metadata": {
        "id": "J-zgMiqX45aR"
      },
      "source": [
        "Considerando agora a aplicação da média geométrica."
      ]
    },
    {
      "cell_type": "markdown",
      "metadata": {
        "id": "TGP9Cq2u5AjZ"
      },
      "source": [
        "Especificando os mesmos dados com um relacionando exponencial."
      ]
    },
    {
      "cell_type": "code",
      "metadata": {
        "id": "06kWRxjv5Qfe"
      },
      "source": [
        "dados_exponencial = [1, 3, 9, 27, 81, 243, 729]"
      ],
      "execution_count": 15,
      "outputs": []
    },
    {
      "cell_type": "markdown",
      "metadata": {
        "id": "_db-X-w05R2A"
      },
      "source": [
        "Calculando a média geométrica."
      ]
    },
    {
      "cell_type": "markdown",
      "metadata": {
        "id": "Kg5t87iS_Q9H"
      },
      "source": [
        "(1 * 3 * 9 * 27 * 81 * 243 * 729) = 10,460,353,203\n",
        "\n",
        "Raiz sétima (7) de **10,460,353,203** = 27"
      ]
    },
    {
      "cell_type": "code",
      "metadata": {
        "id": "e8k0jsNB5hKI"
      },
      "source": [
        "media_geo = int(gmean(dados_exponencial))"
      ],
      "execution_count": 16,
      "outputs": []
    },
    {
      "cell_type": "code",
      "metadata": {
        "id": "Q0OQZfNE5yvg",
        "colab": {
          "base_uri": "https://localhost:8080/"
        },
        "outputId": "5976d24a-7e2e-4395-c143-68d1b8e7846f"
      },
      "source": [
        "print(\"Valor da média geométrica dos dados: {}\".format(media_geo))"
      ],
      "execution_count": 17,
      "outputs": [
        {
          "output_type": "stream",
          "name": "stdout",
          "text": [
            "Valor da média geométrica dos dados: 27\n"
          ]
        }
      ]
    },
    {
      "cell_type": "markdown",
      "metadata": {
        "id": "Ugpty5ul5-tQ"
      },
      "source": [
        "Plotando os dados e seu valor central."
      ]
    },
    {
      "cell_type": "code",
      "metadata": {
        "id": "Nq9pLeZU57iy",
        "colab": {
          "base_uri": "https://localhost:8080/",
          "height": 374
        },
        "outputId": "424bb4d6-2605-4579-93c3-a62e38f00396"
      },
      "source": [
        "plot_lines(dados_exponencial,media_geo)"
      ],
      "execution_count": 18,
      "outputs": [
        {
          "output_type": "display_data",
          "data": {
            "text/plain": [
              "<Figure size 576x432 with 1 Axes>"
            ],
            "image/png": "[encoded data removed]"
          },
          "metadata": {
            "needs_background": "light"
          }
        }
      ]
    },
    {
      "cell_type": "code",
      "metadata": {
        "id": "LkILBQWX6ETA",
        "colab": {
          "base_uri": "https://localhost:8080/",
          "height": 374
        },
        "outputId": "54e2583b-aed5-49b1-d087-b6f8e8e5b028"
      },
      "source": [
        "plot_lines_horizontal(dados_exponencial,media_geo)"
      ],
      "execution_count": 19,
      "outputs": [
        {
          "output_type": "display_data",
          "data": {
            "text/plain": [
              "<Figure size 720x432 with 1 Axes>"
            ],
            "image/png": "[encoded data removed]"
          },
          "metadata": {
            "needs_background": "light"
          }
        }
      ]
    },
    {
      "cell_type": "markdown",
      "metadata": {
        "id": "DvM1mXke8Ajo"
      },
      "source": [
        "### Considerações importantes\n",
        "\n",
        "*   A **média aritmética** produz um resultado interessante quando temos um **relacionamento aditivo** entre os números da amostra.\n",
        "*   Este relacionamento é chamado linear pois, ao exibir graficamente os valores tendem a seguir uma linha ascendente ou descendente.\n",
        "*   Já a **média geométrica** é mais apropriada quando temos uma amostra com um **relacionamento multiplicativo** ou exponencial.\n",
        "\n",
        "\n",
        "*   A diferença entre as médias é que enquanto a média aritmética faz a **soma** de todos os elementos e depois a **divisão**, a média geométrica atua com a **multiplicação** entre os elementos e depois reescala através da **raiz** os valores para a mesma unidade da amostra.\n",
        "\n",
        "\n",
        "\n",
        "\n",
        "\n",
        "\n"
      ]
    },
    {
      "cell_type": "markdown",
      "metadata": {
        "id": "hOX4MOkiCiT4"
      },
      "source": [
        "# Comparando as médidas em um cenário real.\n",
        "### Verificando os valores de avaliações de dois cafés.\n",
        "### Hard Rock Café Gramado vs Hard Rock Café Curitiba."
      ]
    },
    {
      "cell_type": "markdown",
      "metadata": {
        "id": "y84QuoR-Cfr2"
      },
      "source": [
        "![alt text](https://media-cdn.tripadvisor.com/media/photo-s/13/df/fc/f0/fachada-hard-rock-cafe.jpg)\n",
        "![alt text](https://media-cdn.tripadvisor.com/media/photo-s/1a/2e/c8/db/hard-rock-cafe-curitiba.jpg)"
      ]
    },
    {
      "cell_type": "markdown",
      "metadata": {
        "id": "U4tXULdhEuW4"
      },
      "source": [
        "**Hard Rock Café Gramado**\n",
        "*   Avaliações no TripAdvisor: 3,5\n",
        "*   Índice de Satisfação dos Clientes: 89%\n",
        "\n",
        "**Hard Rock Café Curitiba**\n",
        "*   Avaliaçõs no TripAdvisor: 4,5\n",
        "*   Índice de Satisfação dos Clientes: 75%\n"
      ]
    },
    {
      "cell_type": "markdown",
      "metadata": {
        "id": "E23TQ2y9HRl2"
      },
      "source": [
        "Aplicação de verificar o estabelecimento com a melhor avaliação em diferentes escalas."
      ]
    },
    {
      "cell_type": "markdown",
      "metadata": {
        "id": "ZYVsCes_ITl3"
      },
      "source": [
        "Calculando a média aritmética"
      ]
    },
    {
      "cell_type": "code",
      "metadata": {
        "id": "x39nVkplEtkp"
      },
      "source": [
        "aval_gramado,aval_curitiba = 3.5, 4.5\n",
        "indice_gramado,indice_curitiba = 89, 75"
      ],
      "execution_count": 20,
      "outputs": []
    },
    {
      "cell_type": "code",
      "metadata": {
        "id": "dk8bZaFcKjf6",
        "colab": {
          "base_uri": "https://localhost:8080/"
        },
        "outputId": "806b8feb-456c-480b-c48f-3bc19a447874"
      },
      "source": [
        "print(\"Média para Gramado: {}\".format(np.mean([aval_gramado,indice_gramado])))\n",
        "print(\"Média para Curitiba: {}\".format(np.mean([aval_curitiba,indice_curitiba])))"
      ],
      "execution_count": 21,
      "outputs": [
        {
          "output_type": "stream",
          "name": "stdout",
          "text": [
            "Média para Gramado: 46.25\n",
            "Média para Curitiba: 39.75\n"
          ]
        }
      ]
    },
    {
      "cell_type": "markdown",
      "metadata": {
        "id": "Vgq0PtG-Pn38"
      },
      "source": [
        "Considerando a média aritmética o Hard Rock Café de Gramado é o estabelecimento melhor avaliado."
      ]
    },
    {
      "cell_type": "markdown",
      "metadata": {
        "id": "GzYJKv_vQjCd"
      },
      "source": [
        "Agora vamos considerar a possibilidade de fazer uma reescala dos dados de avaliação do trip advisor."
      ]
    },
    {
      "cell_type": "code",
      "metadata": {
        "id": "5SttJRUvQ8qJ",
        "colab": {
          "base_uri": "https://localhost:8080/"
        },
        "outputId": "8f273115-2f34-408d-814c-1669d45a6126"
      },
      "source": [
        "print(\"Valores reescalados: {},{}\".format(aval_gramado*20,aval_curitiba*20))"
      ],
      "execution_count": 22,
      "outputs": [
        {
          "output_type": "stream",
          "name": "stdout",
          "text": [
            "Valores reescalados: 70.0,90.0\n"
          ]
        }
      ]
    },
    {
      "cell_type": "markdown",
      "metadata": {
        "id": "7MdfLemHR6Rg"
      },
      "source": [
        "Calculando a média aritmética"
      ]
    },
    {
      "cell_type": "code",
      "metadata": {
        "id": "qVcDbx0ZR28o",
        "colab": {
          "base_uri": "https://localhost:8080/"
        },
        "outputId": "3cf6a555-f195-43b5-eb65-1462ac22192e"
      },
      "source": [
        "print(\"Média para Gramado: {}\".format(np.mean([aval_gramado*20,indice_gramado])))\n",
        "print(\"Média para Curitiba: {}\".format(np.mean([aval_curitiba*20,indice_curitiba])))"
      ],
      "execution_count": 23,
      "outputs": [
        {
          "output_type": "stream",
          "name": "stdout",
          "text": [
            "Média para Gramado: 79.5\n",
            "Média para Curitiba: 82.5\n"
          ]
        }
      ]
    },
    {
      "cell_type": "markdown",
      "metadata": {
        "id": "VZKjTZmfe9ai"
      },
      "source": [
        "Considerando o mesmo cenário agora utilizando a média geométrica."
      ]
    },
    {
      "cell_type": "code",
      "metadata": {
        "id": "wUqRfna9fqaX",
        "colab": {
          "base_uri": "https://localhost:8080/"
        },
        "outputId": "78832c4b-550d-40a8-d388-91cdee0ae790"
      },
      "source": [
        "print(\"Média Geométrica para Gramado: {}\".format(gmean([aval_gramado,indice_gramado])))\n",
        "print(\"Média Geométrica para Curitiba: {}\".format(gmean([aval_curitiba,indice_curitiba])))"
      ],
      "execution_count": 24,
      "outputs": [
        {
          "output_type": "stream",
          "name": "stdout",
          "text": [
            "Média Geométrica para Gramado: 17.64936259472279\n",
            "Média Geométrica para Curitiba: 18.371173070873837\n"
          ]
        }
      ]
    },
    {
      "cell_type": "markdown",
      "metadata": {
        "id": "VA_3GtxfDh4W"
      },
      "source": [
        "### Considerações\n",
        "*   Os valores alterados para a mesma escala nos deram **resultados diferentes** mais próximos da realidade.\n",
        "*   Utilizando a média geométrica já nos entrega o resultado \"correto\" pois considera o **relacionamento multiplicativo** entre os dados da amostra.\n",
        "*   É importante notar que aplicando a média geométrica para os dados em **diferentes escalas** o retorno não está na mesma unidade da amostra.\n",
        "\n",
        "\n"
      ]
    },
    {
      "cell_type": "markdown",
      "metadata": {
        "id": "3tFjwgjUo0HK"
      },
      "source": [
        "## Média harmônica."
      ]
    },
    {
      "cell_type": "markdown",
      "metadata": {
        "id": "RlTZ7Bi9LQiB"
      },
      "source": [
        "![alt text](https://images.unsplash.com/photo-1469854523086-cc02fe5d8800?ixlib=rb-1.2.1&ixid=eyJhcHBfaWQiOjEyMDd9&auto=format&fit=crop&w=500&q=60)\n",
        "\n",
        "\n",
        "Percurso Total da Viagem 10km\n",
        "*   CAMINHO DE IDA = 30km/h\n",
        "*   CAMINHO DE VOLTA = 10km/h\n",
        "\n",
        "\n"
      ]
    },
    {
      "cell_type": "markdown",
      "metadata": {
        "id": "rq1AgTOwL81C"
      },
      "source": [
        "**Qual a velocidade média da viagem?**"
      ]
    },
    {
      "cell_type": "markdown",
      "metadata": {
        "id": "5DdHJOV-MAjw"
      },
      "source": [
        "Usando a média aritmética"
      ]
    },
    {
      "cell_type": "code",
      "metadata": {
        "id": "dQUp2bL7MCrP",
        "colab": {
          "base_uri": "https://localhost:8080/"
        },
        "outputId": "7f3fd022-4da2-445d-ce29-54c8c9c89463"
      },
      "source": [
        "np.mean([30,10])"
      ],
      "execution_count": 25,
      "outputs": [
        {
          "output_type": "execute_result",
          "data": {
            "text/plain": [
              "20.0"
            ]
          },
          "metadata": {},
          "execution_count": 25
        }
      ]
    },
    {
      "cell_type": "markdown",
      "metadata": {
        "id": "Puroq9bhMHWa"
      },
      "source": [
        "**VIAGEM DE IDA - 5km à 30km/h**\n",
        "*   30 km por 60 minutos = 1 km a cada 2 minutos = 1/2 km por minuto.\n",
        "*   5km a 1/2 km por minuto = 10 minutos.\n"
      ]
    },
    {
      "cell_type": "markdown",
      "metadata": {
        "id": "8ROIpoCUMvrY"
      },
      "source": [
        "**VIAGEM DE VOLTA - 5km à 10km/h**\n",
        "*   10 km por 60 minutos = 1 km a cada 6 minutos = 1/6 km por minuto.\n",
        "*   5 km a 1/6 km por minuto = 30 minutos."
      ]
    },
    {
      "cell_type": "markdown",
      "metadata": {
        "id": "jn_J4LC1Nbgv"
      },
      "source": [
        "Tempo total da viagem = 40 minutos"
      ]
    },
    {
      "cell_type": "markdown",
      "metadata": {
        "id": "Wp9UKdKUNeIr"
      },
      "source": [
        "Proporção da viagem de ida em relação ao tempo total da viagem."
      ]
    },
    {
      "cell_type": "code",
      "metadata": {
        "id": "udmHdBEONlts",
        "colab": {
          "base_uri": "https://localhost:8080/"
        },
        "outputId": "8b7f5a54-a850-435f-b4a0-397b96d3cc03"
      },
      "source": [
        "print(\"Proporção de tempo da viagem de ida em relação ao tempo total da viagem: {}%\".format((10/40)*100))"
      ],
      "execution_count": 26,
      "outputs": [
        {
          "output_type": "stream",
          "name": "stdout",
          "text": [
            "Proporção de tempo da viagem de ida em relação ao tempo total da viagem: 25.0%\n"
          ]
        }
      ]
    },
    {
      "cell_type": "code",
      "metadata": {
        "id": "wiMymk_kN4GQ",
        "colab": {
          "base_uri": "https://localhost:8080/"
        },
        "outputId": "2da9352d-2c36-426c-8f10-d0cf664e2925"
      },
      "source": [
        "print(\"Proporção de tempo da viagem de volta em relação ao tempo total da viagem: {}%\".format((30/40)*100))"
      ],
      "execution_count": 27,
      "outputs": [
        {
          "output_type": "stream",
          "name": "stdout",
          "text": [
            "Proporção de tempo da viagem de volta em relação ao tempo total da viagem: 75.0%\n"
          ]
        }
      ]
    },
    {
      "cell_type": "markdown",
      "metadata": {
        "id": "DLEUHTG5OhfT"
      },
      "source": [
        "Calculando a Média Aritmética Ponderada."
      ]
    },
    {
      "cell_type": "code",
      "metadata": {
        "id": "nusGgidhOICo",
        "colab": {
          "base_uri": "https://localhost:8080/"
        },
        "outputId": "825ebfd1-6bc0-4fbd-f64f-249af1c03b5c"
      },
      "source": [
        "np.average([30,10], weights=[.25,.75])"
      ],
      "execution_count": 28,
      "outputs": [
        {
          "output_type": "execute_result",
          "data": {
            "text/plain": [
              "15.0"
            ]
          },
          "metadata": {},
          "execution_count": 28
        }
      ]
    },
    {
      "cell_type": "code",
      "metadata": {
        "id": "FUmdGfGYOzKn",
        "colab": {
          "base_uri": "https://localhost:8080/"
        },
        "outputId": "0ee83c80-02bb-4ddd-e4d2-01d328ee34cf"
      },
      "source": [
        "hmean([30,10])"
      ],
      "execution_count": 29,
      "outputs": [
        {
          "output_type": "execute_result",
          "data": {
            "text/plain": [
              "15.0"
            ]
          },
          "metadata": {},
          "execution_count": 29
        }
      ]
    },
    {
      "cell_type": "markdown",
      "metadata": {
        "id": "Pv7QcAODWiQO"
      },
      "source": [
        "### As médias seguem um relacionamento ordinal: **média harmônica < média geométrica < média aritmética**."
      ]
    },
    {
      "cell_type": "markdown",
      "metadata": {
        "id": "C0YTVp4jXWff"
      },
      "source": [
        "Considerando os dados com o relacionamento aditivo."
      ]
    },
    {
      "cell_type": "code",
      "metadata": {
        "id": "e3NhRbvm5lDQ"
      },
      "source": [
        "dados = [1, 4, 7, 10, 13, 16, 19]"
      ],
      "execution_count": 30,
      "outputs": []
    },
    {
      "cell_type": "code",
      "metadata": {
        "id": "kvSWHH3cInuI"
      },
      "source": [
        "media_aritmetica,media_geometrica,media_harmonica = round(np.mean(dados),2),round(gmean(dados),2),round(hmean(dados),2)"
      ],
      "execution_count": 31,
      "outputs": []
    },
    {
      "cell_type": "code",
      "metadata": {
        "id": "4ZYD_FsQKCxR",
        "colab": {
          "base_uri": "https://localhost:8080/"
        },
        "outputId": "6d1fdbed-bbcd-4ca4-c7e2-a0833784a7ed"
      },
      "source": [
        "media_aritmetica,media_geometrica,media_harmonica"
      ],
      "execution_count": 32,
      "outputs": [
        {
          "output_type": "execute_result",
          "data": {
            "text/plain": [
              "(10.0, 7.3, 4.15)"
            ]
          },
          "metadata": {},
          "execution_count": 32
        }
      ]
    },
    {
      "cell_type": "markdown",
      "metadata": {
        "id": "JhVIFn9oXb4T"
      },
      "source": [
        "Visualizando graficamente."
      ]
    },
    {
      "cell_type": "code",
      "metadata": {
        "id": "lcDJoUTG5pmd",
        "colab": {
          "base_uri": "https://localhost:8080/",
          "height": 409
        },
        "outputId": "e8581f5b-bb3f-4852-e5c2-a5c48a57e9ca"
      },
      "source": [
        "plot_line_means(dados,media_aritmetica,media_geometrica,media_harmonica)"
      ],
      "execution_count": 33,
      "outputs": [
        {
          "output_type": "stream",
          "name": "stdout",
          "text": [
            "Dados: [1, 4, 4.15, 7, 7.3, 10, 10.0, 13, 16, 19]\n",
            "Media aritmética: 10.0, Média Geométrica: 7.3, Média Harmonica: 4.15\n"
          ]
        },
        {
          "output_type": "display_data",
          "data": {
            "text/plain": [
              "<Figure size 576x432 with 1 Axes>"
            ],
            "image/png": "[encoded data removed]"
          },
          "metadata": {
            "needs_background": "light"
          }
        }
      ]
    },
    {
      "cell_type": "markdown",
      "metadata": {
        "id": "GJBRL-yhXe5V"
      },
      "source": [
        "Considerando os dados com o relacionamento multiplicativo."
      ]
    },
    {
      "cell_type": "code",
      "metadata": {
        "id": "K_SIYROiwXg0"
      },
      "source": [
        "dados = [1, 3, 9, 27, 81, 243, 729]"
      ],
      "execution_count": 34,
      "outputs": []
    },
    {
      "cell_type": "code",
      "metadata": {
        "id": "MEFonWSmQOZw"
      },
      "source": [
        "media_aritmetica,media_geometrica,media_harmonica = round(np.mean(dados),2),round(gmean(dados),2),round(hmean(dados),2)"
      ],
      "execution_count": 35,
      "outputs": []
    },
    {
      "cell_type": "code",
      "metadata": {
        "id": "qDlf65sSQO-d",
        "colab": {
          "base_uri": "https://localhost:8080/"
        },
        "outputId": "9169decf-9968-4c3c-fe2d-996fcbf2c353"
      },
      "source": [
        "media_aritmetica,media_geometrica,media_harmonica"
      ],
      "execution_count": 36,
      "outputs": [
        {
          "output_type": "execute_result",
          "data": {
            "text/plain": [
              "(156.14, 27.0, 4.67)"
            ]
          },
          "metadata": {},
          "execution_count": 36
        }
      ]
    },
    {
      "cell_type": "markdown",
      "metadata": {
        "id": "5LDtiaNqXoMW"
      },
      "source": [
        "Visualizando graficamente."
      ]
    },
    {
      "cell_type": "code",
      "metadata": {
        "id": "_5T8CtKpQQ9T",
        "colab": {
          "base_uri": "https://localhost:8080/",
          "height": 409
        },
        "outputId": "2c1c6cb8-798f-4da5-bf78-64a3864dcfe0"
      },
      "source": [
        "plot_line_means(dados,media_aritmetica,media_geometrica,media_harmonica)"
      ],
      "execution_count": 37,
      "outputs": [
        {
          "output_type": "stream",
          "name": "stdout",
          "text": [
            "Dados: [1, 3, 4.67, 9, 27, 27.0, 81, 156.14, 243, 729]\n",
            "Media aritmética: 156.14, Média Geométrica: 27.0, Média Harmonica: 4.67\n"
          ]
        },
        {
          "output_type": "display_data",
          "data": {
            "text/plain": [
              "<Figure size 576x432 with 1 Axes>"
            ],
            "image/png": "[encoded data removed]"
          },
          "metadata": {
            "needs_background": "light"
          }
        }
      ]
    },
    {
      "cell_type": "markdown",
      "metadata": {
        "id": "cLUMxLrsKPhI"
      },
      "source": [
        "**Moda - Valores mais frequentes da distribuição**"
      ]
    },
    {
      "cell_type": "code",
      "metadata": {
        "id": "kYSd6b9OfVwY"
      },
      "source": [
        "dados=[4,5,4,6,5,8,4]"
      ],
      "execution_count": 38,
      "outputs": []
    },
    {
      "cell_type": "code",
      "metadata": {
        "id": "2oE4M8bXfzex",
        "colab": {
          "base_uri": "https://localhost:8080/"
        },
        "outputId": "94b9fca9-f5d6-4d56-a3eb-43565bfec846"
      },
      "source": [
        "stats.mode(dados)"
      ],
      "execution_count": 39,
      "outputs": [
        {
          "output_type": "execute_result",
          "data": {
            "text/plain": [
              "ModeResult(mode=array([4]), count=array([3]))"
            ]
          },
          "metadata": {},
          "execution_count": 39
        }
      ]
    },
    {
      "cell_type": "code",
      "metadata": {
        "id": "Fo_jLni1XHcA"
      },
      "source": [
        "dados_bimodal=[4,5,4,6,5,8,4,4,5,5]"
      ],
      "execution_count": 40,
      "outputs": []
    },
    {
      "cell_type": "code",
      "metadata": {
        "id": "Hf-SVQKh7axy"
      },
      "source": [
        "from collections import Counter"
      ],
      "execution_count": 41,
      "outputs": []
    },
    {
      "cell_type": "code",
      "metadata": {
        "id": "7nuDt03sfv0c"
      },
      "source": [
        "def calcula_moda(dados):\n",
        "  number_counts = Counter(dados)\n",
        "  print(number_counts)\n",
        "  modes = [val for val,count in number_counts.items() if count == max(number_counts.values())]\n",
        "  return modes"
      ],
      "execution_count": 42,
      "outputs": []
    },
    {
      "cell_type": "code",
      "metadata": {
        "id": "dBroOcLkXTDy",
        "colab": {
          "base_uri": "https://localhost:8080/"
        },
        "outputId": "0bc1e8b8-5e43-4f9a-af37-5aedbc3d009b"
      },
      "source": [
        "calcula_moda(dados_bimodal)"
      ],
      "execution_count": 43,
      "outputs": [
        {
          "output_type": "stream",
          "name": "stdout",
          "text": [
            "Counter({4: 4, 5: 4, 6: 1, 8: 1})\n"
          ]
        },
        {
          "output_type": "execute_result",
          "data": {
            "text/plain": [
              "[4, 5]"
            ]
          },
          "metadata": {},
          "execution_count": 43
        }
      ]
    },
    {
      "cell_type": "code",
      "metadata": {
        "id": "2xAmiAi7Xrzo"
      },
      "source": [
        "dados_amodal=[1,2,3,4,5]"
      ],
      "execution_count": 44,
      "outputs": []
    },
    {
      "cell_type": "code",
      "metadata": {
        "id": "rjV57RNJgqP_",
        "colab": {
          "base_uri": "https://localhost:8080/"
        },
        "outputId": "ce629761-61e0-445c-f5d4-47ce087bfe1a"
      },
      "source": [
        "calcula_moda(dados_amodal)"
      ],
      "execution_count": 45,
      "outputs": [
        {
          "output_type": "stream",
          "name": "stdout",
          "text": [
            "Counter({1: 1, 2: 1, 3: 1, 4: 1, 5: 1})\n"
          ]
        },
        {
          "output_type": "execute_result",
          "data": {
            "text/plain": [
              "[1, 2, 3, 4, 5]"
            ]
          },
          "metadata": {},
          "execution_count": 45
        }
      ]
    },
    {
      "cell_type": "markdown",
      "metadata": {
        "id": "yLfFLbVEKP9J"
      },
      "source": [
        "**Mediana - É o valor da variável que divide os dados ordenados em duas partes de igual frequência.**"
      ]
    },
    {
      "cell_type": "code",
      "metadata": {
        "id": "ciTxDV5etNw6"
      },
      "source": [
        "dados_mediana7 = [7,1,5,2,3,1,6]"
      ],
      "execution_count": 46,
      "outputs": []
    },
    {
      "cell_type": "code",
      "metadata": {
        "id": "_DKfdkLRumFj",
        "colab": {
          "base_uri": "https://localhost:8080/"
        },
        "outputId": "6edc84e3-9d7b-417b-af76-5b306b0a9ff9"
      },
      "source": [
        "np.sort(dados_mediana7)"
      ],
      "execution_count": 47,
      "outputs": [
        {
          "output_type": "execute_result",
          "data": {
            "text/plain": [
              "array([1, 1, 2, 3, 5, 6, 7])"
            ]
          },
          "metadata": {},
          "execution_count": 47
        }
      ]
    },
    {
      "cell_type": "code",
      "metadata": {
        "id": "eDGhZOZntYf_",
        "colab": {
          "base_uri": "https://localhost:8080/"
        },
        "outputId": "87c385e4-27b8-4e5d-c66f-277053cd31b9"
      },
      "source": [
        "np.median(dados_mediana7)"
      ],
      "execution_count": 48,
      "outputs": [
        {
          "output_type": "execute_result",
          "data": {
            "text/plain": [
              "3.0"
            ]
          },
          "metadata": {},
          "execution_count": 48
        }
      ]
    },
    {
      "cell_type": "code",
      "metadata": {
        "id": "rWkL3hsiKY3q"
      },
      "source": [
        "dados_mediana8 = [1,2,1,1,4,5,3,6]"
      ],
      "execution_count": 49,
      "outputs": []
    },
    {
      "cell_type": "code",
      "metadata": {
        "id": "HDy0_g95uu6I",
        "colab": {
          "base_uri": "https://localhost:8080/"
        },
        "outputId": "696cc77f-8b42-4e9b-de28-84b547618101"
      },
      "source": [
        "np.sort(dados_mediana8)"
      ],
      "execution_count": 50,
      "outputs": [
        {
          "output_type": "execute_result",
          "data": {
            "text/plain": [
              "array([1, 1, 1, 2, 3, 4, 5, 6])"
            ]
          },
          "metadata": {},
          "execution_count": 50
        }
      ]
    },
    {
      "cell_type": "code",
      "metadata": {
        "id": "JyEACdIpuFzI",
        "colab": {
          "base_uri": "https://localhost:8080/"
        },
        "outputId": "624d03e6-b177-47e0-87cf-40242590c2c3"
      },
      "source": [
        "np.median(dados_mediana8)"
      ],
      "execution_count": 51,
      "outputs": [
        {
          "output_type": "execute_result",
          "data": {
            "text/plain": [
              "2.5"
            ]
          },
          "metadata": {},
          "execution_count": 51
        }
      ]
    },
    {
      "cell_type": "markdown",
      "metadata": {
        "id": "hsgSxTj7KQFg"
      },
      "source": [
        "# Medidas Separatrizes"
      ]
    },
    {
      "cell_type": "code",
      "metadata": {
        "id": "8TPGX7OgrYQX"
      },
      "source": [
        "notas = [13,25,69,72,33,41,28,17,65]"
      ],
      "execution_count": 52,
      "outputs": []
    },
    {
      "cell_type": "code",
      "metadata": {
        "id": "wdlvMgV3wCn5",
        "outputId": "4e86da37-577c-4beb-80e7-a8afe5fa2729",
        "colab": {
          "base_uri": "https://localhost:8080/"
        }
      },
      "source": [
        "np.sort(notas)"
      ],
      "execution_count": 53,
      "outputs": [
        {
          "output_type": "execute_result",
          "data": {
            "text/plain": [
              "array([13, 17, 25, 28, 33, 41, 65, 69, 72])"
            ]
          },
          "metadata": {},
          "execution_count": 53
        }
      ]
    },
    {
      "cell_type": "markdown",
      "metadata": {
        "id": "eLQnsttezVO2"
      },
      "source": [
        "**Q1 - Primeiro Quartil**"
      ]
    },
    {
      "cell_type": "code",
      "metadata": {
        "id": "fAGdGABNwo7-",
        "outputId": "4c7f8f3e-341b-4b2b-fbc9-5c0d2fbae6dd",
        "colab": {
          "base_uri": "https://localhost:8080/"
        }
      },
      "source": [
        "np.quantile(notas,.25)"
      ],
      "execution_count": 54,
      "outputs": [
        {
          "output_type": "execute_result",
          "data": {
            "text/plain": [
              "25.0"
            ]
          },
          "metadata": {},
          "execution_count": 54
        }
      ]
    },
    {
      "cell_type": "markdown",
      "metadata": {
        "id": "0hMYdvm4zch-"
      },
      "source": [
        "**Q2 - Segundo Quartil**"
      ]
    },
    {
      "cell_type": "code",
      "metadata": {
        "id": "GxyOye9-xjYN",
        "outputId": "7711bd23-4cb1-44c5-f58f-3ca91975ca29",
        "colab": {
          "base_uri": "https://localhost:8080/"
        }
      },
      "source": [
        "np.quantile(notas,.50)"
      ],
      "execution_count": 55,
      "outputs": [
        {
          "output_type": "execute_result",
          "data": {
            "text/plain": [
              "33.0"
            ]
          },
          "metadata": {},
          "execution_count": 55
        }
      ]
    },
    {
      "cell_type": "markdown",
      "metadata": {
        "id": "ctNCMCDi1jCD"
      },
      "source": [
        "Comparando com o valor da Mediana"
      ]
    },
    {
      "cell_type": "code",
      "metadata": {
        "id": "NIi79oqa1mTG",
        "outputId": "c8125079-3047-46bd-d3ef-e0cb0fc3a6de",
        "colab": {
          "base_uri": "https://localhost:8080/"
        }
      },
      "source": [
        "np.median(notas)"
      ],
      "execution_count": 56,
      "outputs": [
        {
          "output_type": "execute_result",
          "data": {
            "text/plain": [
              "33.0"
            ]
          },
          "metadata": {},
          "execution_count": 56
        }
      ]
    },
    {
      "cell_type": "markdown",
      "metadata": {
        "id": "T0R8upGzzfZM"
      },
      "source": [
        "**Q3 - Terceiro Quartil**"
      ]
    },
    {
      "cell_type": "code",
      "metadata": {
        "id": "LfRbaWQFxjKV",
        "outputId": "ada384dc-75f5-4c15-bac1-b5210aa4088f",
        "colab": {
          "base_uri": "https://localhost:8080/"
        }
      },
      "source": [
        "np.quantile(notas,.75)"
      ],
      "execution_count": 57,
      "outputs": [
        {
          "output_type": "execute_result",
          "data": {
            "text/plain": [
              "65.0"
            ]
          },
          "metadata": {},
          "execution_count": 57
        }
      ]
    },
    {
      "cell_type": "markdown",
      "metadata": {
        "id": "S1JYS8Wj70Mh"
      },
      "source": [
        "**P25 - Percentil 25 = Q1**"
      ]
    },
    {
      "cell_type": "code",
      "metadata": {
        "id": "K0YrgDin1EoD",
        "outputId": "b968edf1-20db-4445-a6ca-41f7c87c2958",
        "colab": {
          "base_uri": "https://localhost:8080/"
        }
      },
      "source": [
        "np.percentile(notas,25)"
      ],
      "execution_count": 58,
      "outputs": [
        {
          "output_type": "execute_result",
          "data": {
            "text/plain": [
              "25.0"
            ]
          },
          "metadata": {},
          "execution_count": 58
        }
      ]
    },
    {
      "cell_type": "markdown",
      "metadata": {
        "id": "cQrKlLbb8Zwe"
      },
      "source": [
        "**P50 - Percentil 50 = Q2**\n"
      ]
    },
    {
      "cell_type": "code",
      "metadata": {
        "id": "-AxJlUmw8HYe",
        "outputId": "225356c5-202d-4df4-94fd-45ac6ce173a6",
        "colab": {
          "base_uri": "https://localhost:8080/"
        }
      },
      "source": [
        "np.percentile(notas,50)"
      ],
      "execution_count": 59,
      "outputs": [
        {
          "output_type": "execute_result",
          "data": {
            "text/plain": [
              "33.0"
            ]
          },
          "metadata": {},
          "execution_count": 59
        }
      ]
    },
    {
      "cell_type": "markdown",
      "metadata": {
        "id": "vBnkRaEh8KK2"
      },
      "source": [
        "**P75 - Percentil 75 = Q3**"
      ]
    },
    {
      "cell_type": "code",
      "metadata": {
        "id": "Z_-CRb0P8LF_",
        "outputId": "f5201c18-f334-4f8e-ae2e-95caf6c29924",
        "colab": {
          "base_uri": "https://localhost:8080/"
        }
      },
      "source": [
        "np.percentile(notas,75)"
      ],
      "execution_count": 60,
      "outputs": [
        {
          "output_type": "execute_result",
          "data": {
            "text/plain": [
              "65.0"
            ]
          },
          "metadata": {},
          "execution_count": 60
        }
      ]
    },
    {
      "cell_type": "markdown",
      "metadata": {
        "id": "0rfhERIXKQNw"
      },
      "source": [
        "## Medidas de Variação e Dispersão"
      ]
    },
    {
      "cell_type": "code",
      "metadata": {
        "id": "_eI5nwzR0Ph6"
      },
      "source": [
        "dados_dispersao = [10,20,30,40,50,60,70,80,90,100]"
      ],
      "execution_count": 61,
      "outputs": []
    },
    {
      "cell_type": "markdown",
      "metadata": {
        "id": "SMpUvp880giq"
      },
      "source": [
        "**Média**"
      ]
    },
    {
      "cell_type": "code",
      "metadata": {
        "id": "ihucagrh0ihn",
        "outputId": "bd165dcf-5937-41e3-d036-3be8f0295c7b",
        "colab": {
          "base_uri": "https://localhost:8080/"
        }
      },
      "source": [
        "np.mean(dados_dispersao)"
      ],
      "execution_count": 62,
      "outputs": [
        {
          "output_type": "execute_result",
          "data": {
            "text/plain": [
              "55.0"
            ]
          },
          "metadata": {},
          "execution_count": 62
        }
      ]
    },
    {
      "cell_type": "markdown",
      "metadata": {
        "id": "B1M62ymNKhbw"
      },
      "source": [
        "**Variância**\n",
        "\n",
        "![alt text](https://wikimedia.org/api/rest_v1/media/math/render/svg/c2446a06b779245a22147449fc523f2b1b0013ef)"
      ]
    },
    {
      "cell_type": "code",
      "metadata": {
        "id": "rFqROpyiKq5O",
        "outputId": "6bee96a6-07ac-45d1-a96e-d336bafe304e",
        "colab": {
          "base_uri": "https://localhost:8080/"
        }
      },
      "source": [
        "np.var(dados_dispersao)"
      ],
      "execution_count": 63,
      "outputs": [
        {
          "output_type": "execute_result",
          "data": {
            "text/plain": [
              "825.0"
            ]
          },
          "metadata": {},
          "execution_count": 63
        }
      ]
    },
    {
      "cell_type": "markdown",
      "metadata": {
        "id": "4-oBtLcnKQVh"
      },
      "source": [
        "**Desvio Padrão**\n",
        "\n",
        "![alt text](https://wikimedia.org/api/rest_v1/media/math/render/svg/cc45b72e1fd6a3de3ec4977f42367f104f57583f)"
      ]
    },
    {
      "cell_type": "code",
      "metadata": {
        "id": "bv1jLqB2KgHo",
        "outputId": "293ff630-047e-49bc-8c45-d0c86bac42b5",
        "colab": {
          "base_uri": "https://localhost:8080/"
        }
      },
      "source": [
        "np.std(dados_dispersao)"
      ],
      "execution_count": 64,
      "outputs": [
        {
          "output_type": "execute_result",
          "data": {
            "text/plain": [
              "28.722813232690143"
            ]
          },
          "metadata": {},
          "execution_count": 64
        }
      ]
    },
    {
      "cell_type": "markdown",
      "metadata": {
        "id": "quE0vzU2KigB"
      },
      "source": [
        "**Coeficiente de Variação**"
      ]
    },
    {
      "cell_type": "code",
      "metadata": {
        "id": "-pulTCl-1IQf",
        "outputId": "cbb3215c-2915-4ab2-963d-e063883966e7",
        "colab": {
          "base_uri": "https://localhost:8080/"
        }
      },
      "source": [
        "stats.variation(dados_dispersao)"
      ],
      "execution_count": 65,
      "outputs": [
        {
          "output_type": "execute_result",
          "data": {
            "text/plain": [
              "0.5222329678670935"
            ]
          },
          "metadata": {},
          "execution_count": 65
        }
      ]
    },
    {
      "cell_type": "markdown",
      "metadata": {
        "id": "ikOkDTuaZIvf"
      },
      "source": [
        "Importante: Um coeficiente de variação **menor que 25%** é um bom indicativo de homogeneidade dos dados, ou seja, os dados não variam tanto a partir da média."
      ]
    },
    {
      "cell_type": "code",
      "metadata": {
        "id": "Ln66W8PPKpXh"
      },
      "source": [
        "media=np.mean(dados_dispersao)\n",
        "desvio_padrao = np.std(dados_dispersao)"
      ],
      "execution_count": 66,
      "outputs": []
    },
    {
      "cell_type": "code",
      "metadata": {
        "id": "jZOMqLYc1d40",
        "outputId": "3faaf8be-9f20-4bbe-eb82-5f8184039e8c",
        "colab": {
          "base_uri": "https://localhost:8080/"
        }
      },
      "source": [
        "desvio_padrao/media"
      ],
      "execution_count": 67,
      "outputs": [
        {
          "output_type": "execute_result",
          "data": {
            "text/plain": [
              "0.5222329678670935"
            ]
          },
          "metadata": {},
          "execution_count": 67
        }
      ]
    },
    {
      "cell_type": "markdown",
      "metadata": {
        "id": "6_ZtdOoG0XRV"
      },
      "source": [
        "# Exemplo usando o Pandas"
      ]
    },
    {
      "cell_type": "markdown",
      "metadata": {
        "id": "aY_ma9QR9wQq"
      },
      "source": [
        "Importando as bibliotecas."
      ]
    },
    {
      "cell_type": "code",
      "metadata": {
        "id": "IM3LHKiy0Wcs"
      },
      "source": [
        "import pandas as pd               \n",
        "import numpy as np\n",
        "import seaborn as sns\n",
        "import matplotlib.pyplot as plt"
      ],
      "execution_count": 81,
      "outputs": []
    },
    {
      "cell_type": "markdown",
      "metadata": {
        "id": "W5mg0_Qn9zGZ"
      },
      "source": [
        "Carregando a base de dados."
      ]
    },
    {
      "cell_type": "code",
      "source": [
        "#montando conexão com o Drive\n",
        "# from google.colab import drive\n",
        "# drive.mount('/content/drive')"
      ],
      "metadata": {
        "id": "4Kic2RnTXrw7",
        "colab": {
          "base_uri": "https://localhost:8080/"
        },
        "outputId": "329589e4-eb10-4ccf-b84a-7a6d46e3cf1d"
      },
      "execution_count": null,
      "outputs": [
        {
          "output_type": "stream",
          "name": "stdout",
          "text": [
            "Mounted at /content/drive\n"
          ]
        }
      ]
    },
    {
      "cell_type": "code",
      "metadata": {
        "id": "TQZu8udy054-"
      },
      "source": [
        "#copiar o diretório do arquivo CSV no seu Drive com o dataset a ser analisado\n",
        "# df = pd.read_csv(\"/content/drive/MyDrive/Ciencia-Dados/cars.csv\")\n",
        "url=\"https://raw.githubusercontent.com/felipebmuniz/anlise-de-dados-TRB1/main/base/cars.csv\"\n",
        "df = pd.read_csv(url)"
      ],
      "execution_count": 93,
      "outputs": []
    },
    {
      "cell_type": "markdown",
      "metadata": {
        "id": "EHmo2YK291nD"
      },
      "source": [
        "Verificando os dados."
      ]
    },
    {
      "cell_type": "code",
      "metadata": {
        "id": "9U2gxtoo1NTf",
        "outputId": "dfe17540-02e2-43b0-f9f6-7eb7eafdd708",
        "colab": {
          "base_uri": "https://localhost:8080/",
          "height": 206
        }
      },
      "source": [
        "df.head(5)"
      ],
      "execution_count": 96,
      "outputs": [
        {
          "output_type": "execute_result",
          "data": {
            "text/plain": [
              "    Make           Model   Type Origin DriveTrain     MSRP  Invoice  \\\n",
              "0  Acura             MDX    SUV   Asia        All  $36,945  $33,337   \n",
              "1  Acura  RSX Type S 2dr  Sedan   Asia      Front  $23,820  $21,761   \n",
              "2  Acura         TSX 4dr  Sedan   Asia      Front  $26,990  $24,647   \n",
              "3  Acura          TL 4dr  Sedan   Asia      Front  $33,195  $30,299   \n",
              "4  Acura      3.5 RL 4dr  Sedan   Asia      Front  $43,755  $39,014   \n",
              "\n",
              "   EngineSize  Cylinders  Horsepower  MPG_City  MPG_Highway  Weight  \\\n",
              "0         3.5        6.0         265        17           23    4451   \n",
              "1         2.0        4.0         200        24           31    2778   \n",
              "2         2.4        4.0         200        22           29    3230   \n",
              "3         3.2        6.0         270        20           28    3575   \n",
              "4         3.5        6.0         225        18           24    3880   \n",
              "\n",
              "   Wheelbase  Length  \n",
              "0        106     189  \n",
              "1        101     172  \n",
              "2        105     183  \n",
              "3        108     186  \n",
              "4        115     197  "
            ],
            "text/html": [
              "\n",
              "  <div id=\"df-8f88bb9e-ac26-4107-92d2-539bf3e21ee3\">\n",
              "    <div class=\"colab-df-container\">\n",
              "      <div>\n",
              "<style scoped>\n",
              "    .dataframe tbody tr th:only-of-type {\n",
              "        vertical-align: middle;\n",
              "    }\n",
              "\n",
              "    .dataframe tbody tr th {\n",
              "        vertical-align: top;\n",
              "    }\n",
              "\n",
              "    .dataframe thead th {\n",
              "        text-align: right;\n",
              "    }\n",
              "</style>\n",
              "<table border=\"1\" class=\"dataframe\">\n",
              "  <thead>\n",
              "    <tr style=\"text-align: right;\">\n",
              "      <th></th>\n",
              "      <th>Make</th>\n",
              "      <th>Model</th>\n",
              "      <th>Type</th>\n",
              "      <th>Origin</th>\n",
              "      <th>DriveTrain</th>\n",
              "      <th>MSRP</th>\n",
              "      <th>Invoice</th>\n",
              "      <th>EngineSize</th>\n",
              "      <th>Cylinders</th>\n",
              "      <th>Horsepower</th>\n",
              "      <th>MPG_City</th>\n",
              "      <th>MPG_Highway</th>\n",
              "      <th>Weight</th>\n",
              "      <th>Wheelbase</th>\n",
              "      <th>Length</th>\n",
              "    </tr>\n",
              "  </thead>\n",
              "  <tbody>\n",
              "    <tr>\n",
              "      <th>0</th>\n",
              "      <td>Acura</td>\n",
              "      <td>MDX</td>\n",
              "      <td>SUV</td>\n",
              "      <td>Asia</td>\n",
              "      <td>All</td>\n",
              "      <td>$36,945</td>\n",
              "      <td>$33,337</td>\n",
              "      <td>3.5</td>\n",
              "      <td>6.0</td>\n",
              "      <td>265</td>\n",
              "      <td>17</td>\n",
              "      <td>23</td>\n",
              "      <td>4451</td>\n",
              "      <td>106</td>\n",
              "      <td>189</td>\n",
              "    </tr>\n",
              "    <tr>\n",
              "      <th>1</th>\n",
              "      <td>Acura</td>\n",
              "      <td>RSX Type S 2dr</td>\n",
              "      <td>Sedan</td>\n",
              "      <td>Asia</td>\n",
              "      <td>Front</td>\n",
              "      <td>$23,820</td>\n",
              "      <td>$21,761</td>\n",
              "      <td>2.0</td>\n",
              "      <td>4.0</td>\n",
              "      <td>200</td>\n",
              "      <td>24</td>\n",
              "      <td>31</td>\n",
              "      <td>2778</td>\n",
              "      <td>101</td>\n",
              "      <td>172</td>\n",
              "    </tr>\n",
              "    <tr>\n",
              "      <th>2</th>\n",
              "      <td>Acura</td>\n",
              "      <td>TSX 4dr</td>\n",
              "      <td>Sedan</td>\n",
              "      <td>Asia</td>\n",
              "      <td>Front</td>\n",
              "      <td>$26,990</td>\n",
              "      <td>$24,647</td>\n",
              "      <td>2.4</td>\n",
              "      <td>4.0</td>\n",
              "      <td>200</td>\n",
              "      <td>22</td>\n",
              "      <td>29</td>\n",
              "      <td>3230</td>\n",
              "      <td>105</td>\n",
              "      <td>183</td>\n",
              "    </tr>\n",
              "    <tr>\n",
              "      <th>3</th>\n",
              "      <td>Acura</td>\n",
              "      <td>TL 4dr</td>\n",
              "      <td>Sedan</td>\n",
              "      <td>Asia</td>\n",
              "      <td>Front</td>\n",
              "      <td>$33,195</td>\n",
              "      <td>$30,299</td>\n",
              "      <td>3.2</td>\n",
              "      <td>6.0</td>\n",
              "      <td>270</td>\n",
              "      <td>20</td>\n",
              "      <td>28</td>\n",
              "      <td>3575</td>\n",
              "      <td>108</td>\n",
              "      <td>186</td>\n",
              "    </tr>\n",
              "    <tr>\n",
              "      <th>4</th>\n",
              "      <td>Acura</td>\n",
              "      <td>3.5 RL 4dr</td>\n",
              "      <td>Sedan</td>\n",
              "      <td>Asia</td>\n",
              "      <td>Front</td>\n",
              "      <td>$43,755</td>\n",
              "      <td>$39,014</td>\n",
              "      <td>3.5</td>\n",
              "      <td>6.0</td>\n",
              "      <td>225</td>\n",
              "      <td>18</td>\n",
              "      <td>24</td>\n",
              "      <td>3880</td>\n",
              "      <td>115</td>\n",
              "      <td>197</td>\n",
              "    </tr>\n",
              "  </tbody>\n",
              "</table>\n",
              "</div>\n",
              "      <button class=\"colab-df-convert\" onclick=\"convertToInteractive('df-8f88bb9e-ac26-4107-92d2-539bf3e21ee3')\"\n",
              "              title=\"Convert this dataframe to an interactive table.\"\n",
              "              style=\"display:none;\">\n",
              "        \n",
              "  <svg xmlns=\"http://www.w3.org/2000/svg\" height=\"24px\"viewBox=\"0 0 24 24\"\n",
              "       width=\"24px\">\n",
              "    <path d=\"M0 0h24v24H0V0z\" fill=\"none\"/>\n",
              "    <path d=\"M18.56 5.44l.94 2.06.94-2.06 2.06-.94-2.06-.94-.94-2.06-.94 2.06-2.06.94zm-11 1L8.5 8.5l.94-2.06 2.06-.94-2.06-.94L8.5 2.5l-.94 2.06-2.06.94zm10 10l.94 2.06.94-2.06 2.06-.94-2.06-.94-.94-2.06-.94 2.06-2.06.94z\"/><path d=\"M17.41 7.96l-1.37-1.37c-.4-.4-.92-.59-1.43-.59-.52 0-1.04.2-1.43.59L10.3 9.45l-7.72 7.72c-.78.78-.78 2.05 0 2.83L4 21.41c.39.39.9.59 1.41.59.51 0 1.02-.2 1.41-.59l7.78-7.78 2.81-2.81c.8-.78.8-2.07 0-2.86zM5.41 20L4 18.59l7.72-7.72 1.47 1.35L5.41 20z\"/>\n",
              "  </svg>\n",
              "      </button>\n",
              "      \n",
              "  <style>\n",
              "    .colab-df-container {\n",
              "      display:flex;\n",
              "      flex-wrap:wrap;\n",
              "      gap: 12px;\n",
              "    }\n",
              "\n",
              "    .colab-df-convert {\n",
              "      background-color: #E8F0FE;\n",
              "      border: none;\n",
              "      border-radius: 50%;\n",
              "      cursor: pointer;\n",
              "      display: none;\n",
              "      fill: #1967D2;\n",
              "      height: 32px;\n",
              "      padding: 0 0 0 0;\n",
              "      width: 32px;\n",
              "    }\n",
              "\n",
              "    .colab-df-convert:hover {\n",
              "      background-color: #E2EBFA;\n",
              "      box-shadow: 0px 1px 2px rgba(60, 64, 67, 0.3), 0px 1px 3px 1px rgba(60, 64, 67, 0.15);\n",
              "      fill: #174EA6;\n",
              "    }\n",
              "\n",
              "    [theme=dark] .colab-df-convert {\n",
              "      background-color: #3B4455;\n",
              "      fill: #D2E3FC;\n",
              "    }\n",
              "\n",
              "    [theme=dark] .colab-df-convert:hover {\n",
              "      background-color: #434B5C;\n",
              "      box-shadow: 0px 1px 3px 1px rgba(0, 0, 0, 0.15);\n",
              "      filter: drop-shadow(0px 1px 2px rgba(0, 0, 0, 0.3));\n",
              "      fill: #FFFFFF;\n",
              "    }\n",
              "  </style>\n",
              "\n",
              "      <script>\n",
              "        const buttonEl =\n",
              "          document.querySelector('#df-8f88bb9e-ac26-4107-92d2-539bf3e21ee3 button.colab-df-convert');\n",
              "        buttonEl.style.display =\n",
              "          google.colab.kernel.accessAllowed ? 'block' : 'none';\n",
              "\n",
              "        async function convertToInteractive(key) {\n",
              "          const element = document.querySelector('#df-8f88bb9e-ac26-4107-92d2-539bf3e21ee3');\n",
              "          const dataTable =\n",
              "            await google.colab.kernel.invokeFunction('convertToInteractive',\n",
              "                                                     [key], {});\n",
              "          if (!dataTable) return;\n",
              "\n",
              "          const docLinkHtml = 'Like what you see? Visit the ' +\n",
              "            '<a target=\"_blank\" href=https://colab.research.google.com/notebooks/data_table.ipynb>data table notebook</a>'\n",
              "            + ' to learn more about interactive tables.';\n",
              "          element.innerHTML = '';\n",
              "          dataTable['output_type'] = 'display_data';\n",
              "          await google.colab.output.renderOutput(dataTable, element);\n",
              "          const docLink = document.createElement('div');\n",
              "          docLink.innerHTML = docLinkHtml;\n",
              "          element.appendChild(docLink);\n",
              "        }\n",
              "      </script>\n",
              "    </div>\n",
              "  </div>\n",
              "  "
            ]
          },
          "metadata": {},
          "execution_count": 96
        }
      ]
    },
    {
      "cell_type": "markdown",
      "metadata": {
        "id": "msmP07bj99fw"
      },
      "source": [
        "Verificando as informações do conjunto de dados."
      ]
    },
    {
      "cell_type": "code",
      "metadata": {
        "id": "dSf8ykDt3WgQ",
        "outputId": "e9ab2d6b-d756-4ee2-e118-ca0ed8c13a72",
        "colab": {
          "base_uri": "https://localhost:8080/"
        }
      },
      "source": [
        "df.info()"
      ],
      "execution_count": 97,
      "outputs": [
        {
          "output_type": "stream",
          "name": "stdout",
          "text": [
            "<class 'pandas.core.frame.DataFrame'>\n",
            "RangeIndex: 428 entries, 0 to 427\n",
            "Data columns (total 15 columns):\n",
            " #   Column       Non-Null Count  Dtype  \n",
            "---  ------       --------------  -----  \n",
            " 0   Make         428 non-null    object \n",
            " 1   Model        428 non-null    object \n",
            " 2   Type         428 non-null    object \n",
            " 3   Origin       428 non-null    object \n",
            " 4   DriveTrain   428 non-null    object \n",
            " 5   MSRP         428 non-null    object \n",
            " 6   Invoice      428 non-null    object \n",
            " 7   EngineSize   428 non-null    float64\n",
            " 8   Cylinders    426 non-null    float64\n",
            " 9   Horsepower   428 non-null    int64  \n",
            " 10  MPG_City     428 non-null    int64  \n",
            " 11  MPG_Highway  428 non-null    int64  \n",
            " 12  Weight       428 non-null    int64  \n",
            " 13  Wheelbase    428 non-null    int64  \n",
            " 14  Length       428 non-null    int64  \n",
            "dtypes: float64(2), int64(6), object(7)\n",
            "memory usage: 50.3+ KB\n"
          ]
        }
      ]
    },
    {
      "cell_type": "markdown",
      "metadata": {
        "id": "IkBocEye-CtR"
      },
      "source": [
        "Limpando os dados do atributo MSRP."
      ]
    },
    {
      "cell_type": "code",
      "metadata": {
        "id": "f9VYXpEO3W2X"
      },
      "source": [
        "df['MSRP'] = [x.replace('$', '') for x in df['MSRP']] \n",
        "df['MSRP'] = [x.replace(',', '') for x in df['MSRP']]"
      ],
      "execution_count": 98,
      "outputs": []
    },
    {
      "cell_type": "markdown",
      "metadata": {
        "id": "YRiUjfU5_S2R"
      },
      "source": [
        "Verificando os dados após limpeza."
      ]
    },
    {
      "cell_type": "code",
      "metadata": {
        "id": "8COuUjwe-Tj3",
        "outputId": "c79b0596-35fc-4dc6-ccdc-42f86822a8ff",
        "colab": {
          "base_uri": "https://localhost:8080/"
        }
      },
      "source": [
        "df['MSRP'].head(5)"
      ],
      "execution_count": 99,
      "outputs": [
        {
          "output_type": "execute_result",
          "data": {
            "text/plain": [
              "0    36945\n",
              "1    23820\n",
              "2    26990\n",
              "3    33195\n",
              "4    43755\n",
              "Name: MSRP, dtype: object"
            ]
          },
          "metadata": {},
          "execution_count": 99
        }
      ]
    },
    {
      "cell_type": "markdown",
      "metadata": {
        "id": "u6MPYZkI_XBm"
      },
      "source": [
        "Verificando as informações do conjunto de dados."
      ]
    },
    {
      "cell_type": "code",
      "metadata": {
        "id": "67KkkIAd_J0V",
        "outputId": "67998b60-567b-4ac3-a08d-950054104263",
        "colab": {
          "base_uri": "https://localhost:8080/"
        }
      },
      "source": [
        "df.info()"
      ],
      "execution_count": 100,
      "outputs": [
        {
          "output_type": "stream",
          "name": "stdout",
          "text": [
            "<class 'pandas.core.frame.DataFrame'>\n",
            "RangeIndex: 428 entries, 0 to 427\n",
            "Data columns (total 15 columns):\n",
            " #   Column       Non-Null Count  Dtype  \n",
            "---  ------       --------------  -----  \n",
            " 0   Make         428 non-null    object \n",
            " 1   Model        428 non-null    object \n",
            " 2   Type         428 non-null    object \n",
            " 3   Origin       428 non-null    object \n",
            " 4   DriveTrain   428 non-null    object \n",
            " 5   MSRP         428 non-null    object \n",
            " 6   Invoice      428 non-null    object \n",
            " 7   EngineSize   428 non-null    float64\n",
            " 8   Cylinders    426 non-null    float64\n",
            " 9   Horsepower   428 non-null    int64  \n",
            " 10  MPG_City     428 non-null    int64  \n",
            " 11  MPG_Highway  428 non-null    int64  \n",
            " 12  Weight       428 non-null    int64  \n",
            " 13  Wheelbase    428 non-null    int64  \n",
            " 14  Length       428 non-null    int64  \n",
            "dtypes: float64(2), int64(6), object(7)\n",
            "memory usage: 50.3+ KB\n"
          ]
        }
      ]
    },
    {
      "cell_type": "markdown",
      "metadata": {
        "id": "fLXk51It-LFY"
      },
      "source": [
        "Transformando os dados para o formato numérico."
      ]
    },
    {
      "cell_type": "code",
      "metadata": {
        "id": "moGMIr59-Pu2"
      },
      "source": [
        "df['MSRP']=pd.to_numeric(df['MSRP'],errors='coerce')"
      ],
      "execution_count": 101,
      "outputs": []
    },
    {
      "cell_type": "code",
      "metadata": {
        "id": "yck0iJT0_jPN",
        "outputId": "fd6ba3a8-4d23-4fc0-a8b2-f07649fc64cc",
        "colab": {
          "base_uri": "https://localhost:8080/"
        }
      },
      "source": [
        "df.info()"
      ],
      "execution_count": 102,
      "outputs": [
        {
          "output_type": "stream",
          "name": "stdout",
          "text": [
            "<class 'pandas.core.frame.DataFrame'>\n",
            "RangeIndex: 428 entries, 0 to 427\n",
            "Data columns (total 15 columns):\n",
            " #   Column       Non-Null Count  Dtype  \n",
            "---  ------       --------------  -----  \n",
            " 0   Make         428 non-null    object \n",
            " 1   Model        428 non-null    object \n",
            " 2   Type         428 non-null    object \n",
            " 3   Origin       428 non-null    object \n",
            " 4   DriveTrain   428 non-null    object \n",
            " 5   MSRP         428 non-null    int64  \n",
            " 6   Invoice      428 non-null    object \n",
            " 7   EngineSize   428 non-null    float64\n",
            " 8   Cylinders    426 non-null    float64\n",
            " 9   Horsepower   428 non-null    int64  \n",
            " 10  MPG_City     428 non-null    int64  \n",
            " 11  MPG_Highway  428 non-null    int64  \n",
            " 12  Weight       428 non-null    int64  \n",
            " 13  Wheelbase    428 non-null    int64  \n",
            " 14  Length       428 non-null    int64  \n",
            "dtypes: float64(2), int64(7), object(6)\n",
            "memory usage: 50.3+ KB\n"
          ]
        }
      ]
    },
    {
      "cell_type": "code",
      "metadata": {
        "id": "5ox0DXSg4FXa",
        "outputId": "f686d573-daaa-4517-fea0-7d7bd37ff123",
        "colab": {
          "base_uri": "https://localhost:8080/",
          "height": 300
        }
      },
      "source": [
        "df.describe()"
      ],
      "execution_count": 103,
      "outputs": [
        {
          "output_type": "execute_result",
          "data": {
            "text/plain": [
              "                MSRP  EngineSize   Cylinders  Horsepower    MPG_City  \\\n",
              "count     428.000000  428.000000  426.000000  428.000000  428.000000   \n",
              "mean    32774.855140    3.196729    5.807512  215.885514   20.060748   \n",
              "std     19431.716674    1.108595    1.558443   71.836032    5.238218   \n",
              "min     10280.000000    1.300000    3.000000   73.000000   10.000000   \n",
              "25%     20334.250000    2.375000    4.000000  165.000000   17.000000   \n",
              "50%     27635.000000    3.000000    6.000000  210.000000   19.000000   \n",
              "75%     39205.000000    3.900000    6.000000  255.000000   21.250000   \n",
              "max    192465.000000    8.300000   12.000000  500.000000   60.000000   \n",
              "\n",
              "       MPG_Highway       Weight   Wheelbase      Length  \n",
              "count   428.000000   428.000000  428.000000  428.000000  \n",
              "mean     26.843458  3577.953271  108.154206  186.362150  \n",
              "std       5.741201   758.983215    8.311813   14.357991  \n",
              "min      12.000000  1850.000000   89.000000  143.000000  \n",
              "25%      24.000000  3104.000000  103.000000  178.000000  \n",
              "50%      26.000000  3474.500000  107.000000  187.000000  \n",
              "75%      29.000000  3977.750000  112.000000  194.000000  \n",
              "max      66.000000  7190.000000  144.000000  238.000000  "
            ],
            "text/html": [
              "\n",
              "  <div id=\"df-8c6ae230-1a31-411d-86f0-8663133171e6\">\n",
              "    <div class=\"colab-df-container\">\n",
              "      <div>\n",
              "<style scoped>\n",
              "    .dataframe tbody tr th:only-of-type {\n",
              "        vertical-align: middle;\n",
              "    }\n",
              "\n",
              "    .dataframe tbody tr th {\n",
              "        vertical-align: top;\n",
              "    }\n",
              "\n",
              "    .dataframe thead th {\n",
              "        text-align: right;\n",
              "    }\n",
              "</style>\n",
              "<table border=\"1\" class=\"dataframe\">\n",
              "  <thead>\n",
              "    <tr style=\"text-align: right;\">\n",
              "      <th></th>\n",
              "      <th>MSRP</th>\n",
              "      <th>EngineSize</th>\n",
              "      <th>Cylinders</th>\n",
              "      <th>Horsepower</th>\n",
              "      <th>MPG_City</th>\n",
              "      <th>MPG_Highway</th>\n",
              "      <th>Weight</th>\n",
              "      <th>Wheelbase</th>\n",
              "      <th>Length</th>\n",
              "    </tr>\n",
              "  </thead>\n",
              "  <tbody>\n",
              "    <tr>\n",
              "      <th>count</th>\n",
              "      <td>428.000000</td>\n",
              "      <td>428.000000</td>\n",
              "      <td>426.000000</td>\n",
              "      <td>428.000000</td>\n",
              "      <td>428.000000</td>\n",
              "      <td>428.000000</td>\n",
              "      <td>428.000000</td>\n",
              "      <td>428.000000</td>\n",
              "      <td>428.000000</td>\n",
              "    </tr>\n",
              "    <tr>\n",
              "      <th>mean</th>\n",
              "      <td>32774.855140</td>\n",
              "      <td>3.196729</td>\n",
              "      <td>5.807512</td>\n",
              "      <td>215.885514</td>\n",
              "      <td>20.060748</td>\n",
              "      <td>26.843458</td>\n",
              "      <td>3577.953271</td>\n",
              "      <td>108.154206</td>\n",
              "      <td>186.362150</td>\n",
              "    </tr>\n",
              "    <tr>\n",
              "      <th>std</th>\n",
              "      <td>19431.716674</td>\n",
              "      <td>1.108595</td>\n",
              "      <td>1.558443</td>\n",
              "      <td>71.836032</td>\n",
              "      <td>5.238218</td>\n",
              "      <td>5.741201</td>\n",
              "      <td>758.983215</td>\n",
              "      <td>8.311813</td>\n",
              "      <td>14.357991</td>\n",
              "    </tr>\n",
              "    <tr>\n",
              "      <th>min</th>\n",
              "      <td>10280.000000</td>\n",
              "      <td>1.300000</td>\n",
              "      <td>3.000000</td>\n",
              "      <td>73.000000</td>\n",
              "      <td>10.000000</td>\n",
              "      <td>12.000000</td>\n",
              "      <td>1850.000000</td>\n",
              "      <td>89.000000</td>\n",
              "      <td>143.000000</td>\n",
              "    </tr>\n",
              "    <tr>\n",
              "      <th>25%</th>\n",
              "      <td>20334.250000</td>\n",
              "      <td>2.375000</td>\n",
              "      <td>4.000000</td>\n",
              "      <td>165.000000</td>\n",
              "      <td>17.000000</td>\n",
              "      <td>24.000000</td>\n",
              "      <td>3104.000000</td>\n",
              "      <td>103.000000</td>\n",
              "      <td>178.000000</td>\n",
              "    </tr>\n",
              "    <tr>\n",
              "      <th>50%</th>\n",
              "      <td>27635.000000</td>\n",
              "      <td>3.000000</td>\n",
              "      <td>6.000000</td>\n",
              "      <td>210.000000</td>\n",
              "      <td>19.000000</td>\n",
              "      <td>26.000000</td>\n",
              "      <td>3474.500000</td>\n",
              "      <td>107.000000</td>\n",
              "      <td>187.000000</td>\n",
              "    </tr>\n",
              "    <tr>\n",
              "      <th>75%</th>\n",
              "      <td>39205.000000</td>\n",
              "      <td>3.900000</td>\n",
              "      <td>6.000000</td>\n",
              "      <td>255.000000</td>\n",
              "      <td>21.250000</td>\n",
              "      <td>29.000000</td>\n",
              "      <td>3977.750000</td>\n",
              "      <td>112.000000</td>\n",
              "      <td>194.000000</td>\n",
              "    </tr>\n",
              "    <tr>\n",
              "      <th>max</th>\n",
              "      <td>192465.000000</td>\n",
              "      <td>8.300000</td>\n",
              "      <td>12.000000</td>\n",
              "      <td>500.000000</td>\n",
              "      <td>60.000000</td>\n",
              "      <td>66.000000</td>\n",
              "      <td>7190.000000</td>\n",
              "      <td>144.000000</td>\n",
              "      <td>238.000000</td>\n",
              "    </tr>\n",
              "  </tbody>\n",
              "</table>\n",
              "</div>\n",
              "      <button class=\"colab-df-convert\" onclick=\"convertToInteractive('df-8c6ae230-1a31-411d-86f0-8663133171e6')\"\n",
              "              title=\"Convert this dataframe to an interactive table.\"\n",
              "              style=\"display:none;\">\n",
              "        \n",
              "  <svg xmlns=\"http://www.w3.org/2000/svg\" height=\"24px\"viewBox=\"0 0 24 24\"\n",
              "       width=\"24px\">\n",
              "    <path d=\"M0 0h24v24H0V0z\" fill=\"none\"/>\n",
              "    <path d=\"M18.56 5.44l.94 2.06.94-2.06 2.06-.94-2.06-.94-.94-2.06-.94 2.06-2.06.94zm-11 1L8.5 8.5l.94-2.06 2.06-.94-2.06-.94L8.5 2.5l-.94 2.06-2.06.94zm10 10l.94 2.06.94-2.06 2.06-.94-2.06-.94-.94-2.06-.94 2.06-2.06.94z\"/><path d=\"M17.41 7.96l-1.37-1.37c-.4-.4-.92-.59-1.43-.59-.52 0-1.04.2-1.43.59L10.3 9.45l-7.72 7.72c-.78.78-.78 2.05 0 2.83L4 21.41c.39.39.9.59 1.41.59.51 0 1.02-.2 1.41-.59l7.78-7.78 2.81-2.81c.8-.78.8-2.07 0-2.86zM5.41 20L4 18.59l7.72-7.72 1.47 1.35L5.41 20z\"/>\n",
              "  </svg>\n",
              "      </button>\n",
              "      \n",
              "  <style>\n",
              "    .colab-df-container {\n",
              "      display:flex;\n",
              "      flex-wrap:wrap;\n",
              "      gap: 12px;\n",
              "    }\n",
              "\n",
              "    .colab-df-convert {\n",
              "      background-color: #E8F0FE;\n",
              "      border: none;\n",
              "      border-radius: 50%;\n",
              "      cursor: pointer;\n",
              "      display: none;\n",
              "      fill: #1967D2;\n",
              "      height: 32px;\n",
              "      padding: 0 0 0 0;\n",
              "      width: 32px;\n",
              "    }\n",
              "\n",
              "    .colab-df-convert:hover {\n",
              "      background-color: #E2EBFA;\n",
              "      box-shadow: 0px 1px 2px rgba(60, 64, 67, 0.3), 0px 1px 3px 1px rgba(60, 64, 67, 0.15);\n",
              "      fill: #174EA6;\n",
              "    }\n",
              "\n",
              "    [theme=dark] .colab-df-convert {\n",
              "      background-color: #3B4455;\n",
              "      fill: #D2E3FC;\n",
              "    }\n",
              "\n",
              "    [theme=dark] .colab-df-convert:hover {\n",
              "      background-color: #434B5C;\n",
              "      box-shadow: 0px 1px 3px 1px rgba(0, 0, 0, 0.15);\n",
              "      filter: drop-shadow(0px 1px 2px rgba(0, 0, 0, 0.3));\n",
              "      fill: #FFFFFF;\n",
              "    }\n",
              "  </style>\n",
              "\n",
              "      <script>\n",
              "        const buttonEl =\n",
              "          document.querySelector('#df-8c6ae230-1a31-411d-86f0-8663133171e6 button.colab-df-convert');\n",
              "        buttonEl.style.display =\n",
              "          google.colab.kernel.accessAllowed ? 'block' : 'none';\n",
              "\n",
              "        async function convertToInteractive(key) {\n",
              "          const element = document.querySelector('#df-8c6ae230-1a31-411d-86f0-8663133171e6');\n",
              "          const dataTable =\n",
              "            await google.colab.kernel.invokeFunction('convertToInteractive',\n",
              "                                                     [key], {});\n",
              "          if (!dataTable) return;\n",
              "\n",
              "          const docLinkHtml = 'Like what you see? Visit the ' +\n",
              "            '<a target=\"_blank\" href=https://colab.research.google.com/notebooks/data_table.ipynb>data table notebook</a>'\n",
              "            + ' to learn more about interactive tables.';\n",
              "          element.innerHTML = '';\n",
              "          dataTable['output_type'] = 'display_data';\n",
              "          await google.colab.output.renderOutput(dataTable, element);\n",
              "          const docLink = document.createElement('div');\n",
              "          docLink.innerHTML = docLinkHtml;\n",
              "          element.appendChild(docLink);\n",
              "        }\n",
              "      </script>\n",
              "    </div>\n",
              "  </div>\n",
              "  "
            ]
          },
          "metadata": {},
          "execution_count": 103
        }
      ]
    },
    {
      "cell_type": "markdown",
      "metadata": {
        "id": "ImsZg0Zs49vT"
      },
      "source": [
        "Calculando a média aritmética."
      ]
    },
    {
      "cell_type": "code",
      "metadata": {
        "id": "3seXVSmG4thu",
        "outputId": "ad023dbb-ef8b-4aad-cc43-c60aaaf92b30",
        "colab": {
          "base_uri": "https://localhost:8080/"
        }
      },
      "source": [
        "df[\"MSRP\"].mean()"
      ],
      "execution_count": 104,
      "outputs": [
        {
          "output_type": "execute_result",
          "data": {
            "text/plain": [
              "32774.85514018692"
            ]
          },
          "metadata": {},
          "execution_count": 104
        }
      ]
    },
    {
      "cell_type": "code",
      "metadata": {
        "id": "jVTusAT_5BrI"
      },
      "source": [
        "msrp = df[\"MSRP\"]"
      ],
      "execution_count": 105,
      "outputs": []
    },
    {
      "cell_type": "code",
      "metadata": {
        "id": "fUq9bx4f5KpR",
        "outputId": "3f47b6a9-2a68-42ea-8a83-86ca6a136cbe",
        "colab": {
          "base_uri": "https://localhost:8080/"
        }
      },
      "source": [
        "msrp.mean()"
      ],
      "execution_count": 106,
      "outputs": [
        {
          "output_type": "execute_result",
          "data": {
            "text/plain": [
              "32774.85514018692"
            ]
          },
          "metadata": {},
          "execution_count": 106
        }
      ]
    },
    {
      "cell_type": "markdown",
      "metadata": {
        "id": "yr9wH1gs7CZ3"
      },
      "source": [
        "Média geométrica"
      ]
    },
    {
      "cell_type": "code",
      "metadata": {
        "id": "H_Gcy9t46AZf",
        "outputId": "8d774dc0-9e14-4138-ad3d-c0eac82f63d4",
        "colab": {
          "base_uri": "https://localhost:8080/"
        }
      },
      "source": [
        "gmean(msrp)"
      ],
      "execution_count": 107,
      "outputs": [
        {
          "output_type": "execute_result",
          "data": {
            "text/plain": [
              "28841.635198804073"
            ]
          },
          "metadata": {},
          "execution_count": 107
        }
      ]
    },
    {
      "cell_type": "markdown",
      "metadata": {
        "id": "RZ5F94By7Eol"
      },
      "source": [
        "Média Harmônica"
      ]
    },
    {
      "cell_type": "code",
      "metadata": {
        "id": "jb53birq6ycT",
        "outputId": "967ca361-d442-4c55-ddad-b6014d2812fa",
        "colab": {
          "base_uri": "https://localhost:8080/"
        }
      },
      "source": [
        "hmean(msrp)"
      ],
      "execution_count": 108,
      "outputs": [
        {
          "output_type": "execute_result",
          "data": {
            "text/plain": [
              "25837.78463669279"
            ]
          },
          "metadata": {},
          "execution_count": 108
        }
      ]
    },
    {
      "cell_type": "markdown",
      "metadata": {
        "id": "VSKZh0yU7I5r"
      },
      "source": [
        "Mediana"
      ]
    },
    {
      "cell_type": "code",
      "metadata": {
        "id": "bKjUXqop5Ohr",
        "outputId": "2c319609-8ac3-4439-c3d7-0a15e9973bc8",
        "colab": {
          "base_uri": "https://localhost:8080/"
        }
      },
      "source": [
        "msrp.median()"
      ],
      "execution_count": 109,
      "outputs": [
        {
          "output_type": "execute_result",
          "data": {
            "text/plain": [
              "27635.0"
            ]
          },
          "metadata": {},
          "execution_count": 109
        }
      ]
    },
    {
      "cell_type": "markdown",
      "metadata": {
        "id": "mpcgkQFt7Kjx"
      },
      "source": [
        "Moda"
      ]
    },
    {
      "cell_type": "code",
      "metadata": {
        "id": "QXYVS8F15O1G",
        "outputId": "dab34ee2-b859-4f4f-b780-6966eca7e93f",
        "colab": {
          "base_uri": "https://localhost:8080/"
        }
      },
      "source": [
        "msrp.mode()"
      ],
      "execution_count": 110,
      "outputs": [
        {
          "output_type": "execute_result",
          "data": {
            "text/plain": [
              "0     13270\n",
              "1     15389\n",
              "2     19635\n",
              "3     19860\n",
              "4     21055\n",
              "5     21595\n",
              "6     23495\n",
              "7     23895\n",
              "8     25700\n",
              "9     27490\n",
              "10    28495\n",
              "11    29995\n",
              "12    31545\n",
              "13    33995\n",
              "14    34495\n",
              "15    35940\n",
              "16    49995\n",
              "17    74995\n",
              "dtype: int64"
            ]
          },
          "metadata": {},
          "execution_count": 110
        }
      ]
    },
    {
      "cell_type": "markdown",
      "metadata": {
        "id": "xMkxCcZH7L1p"
      },
      "source": [
        "Variação"
      ]
    },
    {
      "cell_type": "code",
      "metadata": {
        "id": "NmkXCMna5Pll",
        "outputId": "0221c336-6de5-4c62-a827-6e1c2e56d8b5",
        "colab": {
          "base_uri": "https://localhost:8080/"
        }
      },
      "source": [
        "msrp.var()"
      ],
      "execution_count": 111,
      "outputs": [
        {
          "output_type": "execute_result",
          "data": {
            "text/plain": [
              "377591612.88763136"
            ]
          },
          "metadata": {},
          "execution_count": 111
        }
      ]
    },
    {
      "cell_type": "markdown",
      "metadata": {
        "id": "HJrbuWPK7N56"
      },
      "source": [
        "Desvio padrão"
      ]
    },
    {
      "cell_type": "code",
      "metadata": {
        "id": "DG3C-Hp95PRt",
        "outputId": "a2708cb9-9682-47a1-c2ce-a6c19034169c",
        "colab": {
          "base_uri": "https://localhost:8080/"
        }
      },
      "source": [
        "msrp.std()"
      ],
      "execution_count": 112,
      "outputs": [
        {
          "output_type": "execute_result",
          "data": {
            "text/plain": [
              "19431.716673717518"
            ]
          },
          "metadata": {},
          "execution_count": 112
        }
      ]
    },
    {
      "cell_type": "markdown",
      "metadata": {
        "id": "JDt5DAiC7QwB"
      },
      "source": [
        "Valor máximo."
      ]
    },
    {
      "cell_type": "code",
      "metadata": {
        "id": "RM8QdsTK5QHo",
        "outputId": "33c42744-ca75-4852-9e8d-bd785bca464e",
        "colab": {
          "base_uri": "https://localhost:8080/"
        }
      },
      "source": [
        "msrp.max()"
      ],
      "execution_count": 113,
      "outputs": [
        {
          "output_type": "execute_result",
          "data": {
            "text/plain": [
              "192465"
            ]
          },
          "metadata": {},
          "execution_count": 113
        }
      ]
    },
    {
      "cell_type": "markdown",
      "metadata": {
        "id": "f5-eXcMC7Tom"
      },
      "source": [
        "Valor mínimo"
      ]
    },
    {
      "cell_type": "code",
      "metadata": {
        "id": "HR7oitrC5Qvn",
        "outputId": "26463cfd-91e5-4f48-d904-d4ddd69f305e",
        "colab": {
          "base_uri": "https://localhost:8080/"
        }
      },
      "source": [
        "msrp.min()"
      ],
      "execution_count": 114,
      "outputs": [
        {
          "output_type": "execute_result",
          "data": {
            "text/plain": [
              "10280"
            ]
          },
          "metadata": {},
          "execution_count": 114
        }
      ]
    },
    {
      "cell_type": "markdown",
      "metadata": {
        "id": "Y-GnN7OQ_Ozh"
      },
      "source": [
        "# Medidas de Assimetria\n",
        "Nos possibilitam analisar uma distribuição em relação a sua moda, mediana e média."
      ]
    },
    {
      "cell_type": "code",
      "metadata": {
        "id": "kLhqAiHgKQXl"
      },
      "source": [
        "import matplotlib.pyplot as plt\n",
        "import math\n",
        "import numpy as np\n",
        "import seaborn as sns\n",
        "import pandas as pd\n",
        "from scipy.stats import kurtosis, skew\n",
        "%matplotlib inline"
      ],
      "execution_count": 68,
      "outputs": []
    },
    {
      "cell_type": "markdown",
      "metadata": {
        "id": "qNCNECw3iTuL"
      },
      "source": [
        "Função para calcular estatísticas."
      ]
    },
    {
      "cell_type": "code",
      "metadata": {
        "id": "K0XMPqwHDW-k"
      },
      "source": [
        "def calcula_estatisticas(data):\n",
        "  mean = round(np.mean(data),2)\n",
        "  mode = round(stats.mode(data,)[0][0],2)\n",
        "  median = round(np.median(data),2)\n",
        "  var = round(np.var(data),2)\n",
        "  std = round(np.std(data),2)\n",
        "  coef_pearson = round(stats.skew(data),2)\n",
        "  coef_kurtosis = round(kurtosis(data),2)\n",
        "  msg = print(\"Media: {}\\nModa: {}\\nMediana: {}\\nVariância: {}\\nDesvio Padrão: {}\\nCoeficiente Person: {}\\nCoeficiente de Kurtosi: {}\".format(mean,median,mode,var,std,coef_pearson,coef_kurtosis))\n",
        "  return msg"
      ],
      "execution_count": 69,
      "outputs": []
    },
    {
      "cell_type": "markdown",
      "metadata": {
        "id": "Za5Hltx1l3pR"
      },
      "source": [
        "Considere a seguinte amostra."
      ]
    },
    {
      "cell_type": "code",
      "metadata": {
        "id": "NbLEtUIGbazs"
      },
      "source": [
        "s0 = [4,5,6,5,5,6,6,5,4,5,5,5]"
      ],
      "execution_count": 71,
      "outputs": []
    },
    {
      "cell_type": "code",
      "metadata": {
        "id": "ULWk2vH8e0Wp",
        "outputId": "77c55731-f37c-4140-8b7a-cd587782ac54",
        "colab": {
          "base_uri": "https://localhost:8080/"
        }
      },
      "source": [
        "calcula_estatisticas(s0)"
      ],
      "execution_count": 72,
      "outputs": [
        {
          "output_type": "stream",
          "name": "stdout",
          "text": [
            "Media: 5.08\n",
            "Moda: 5.0\n",
            "Mediana: 5\n",
            "Variância: 0.41\n",
            "Desvio Padrão: 0.64\n",
            "Coeficiente Person: -0.08\n",
            "Coeficiente de Kurtosi: -0.58\n"
          ]
        }
      ]
    },
    {
      "cell_type": "markdown",
      "metadata": {
        "id": "yyj7LY2Y3SCB"
      },
      "source": [
        "Distribuição Simétrica - Média = Moda = Mediana."
      ]
    },
    {
      "cell_type": "code",
      "metadata": {
        "id": "Fa1M1i4grycB",
        "outputId": "f59b31c0-a03c-4455-f133-c143a9e47842",
        "colab": {
          "base_uri": "https://localhost:8080/",
          "height": 479
        }
      },
      "source": [
        "fig = plt.figure(figsize=(12, 4))\n",
        "ax = sns.distplot(s0,rug=True,kde=True,hist=False)\n",
        "\n",
        "ax.annotate('Mode', xy=(5, 0.4), xytext=(4.7, 0.7),arrowprops={'arrowstyle': '-'})         \n",
        "ax.annotate('Median', xy=(5, 0.4), xytext=(5.3, 0.7),arrowprops={'arrowstyle': '-'})\n",
        "ax.annotate('Média', xy=(5, 0.4), xytext=(5.0, 1), arrowprops={'arrowstyle': '-'})\n",
        "plt.show()"
      ],
      "execution_count": 74,
      "outputs": [
        {
          "output_type": "stream",
          "name": "stderr",
          "text": [
            "/usr/local/lib/python3.7/dist-packages/seaborn/distributions.py:2619: FutureWarning: `distplot` is a deprecated function and will be removed in a future version. Please adapt your code to use either `displot` (a figure-level function with similar flexibility) or `kdeplot` (an axes-level function for kernel density plots).\n",
            "  warnings.warn(msg, FutureWarning)\n",
            "/usr/local/lib/python3.7/dist-packages/seaborn/distributions.py:2103: FutureWarning: The `axis` variable is no longer used and will be removed. Instead, assign variables directly to `x` or `y`.\n",
            "  warnings.warn(msg, FutureWarning)\n"
          ]
        },
        {
          "output_type": "display_data",
          "data": {
            "text/plain": [
              "<Figure size 864x288 with 1 Axes>"
            ],
            "image/png": "[encoded data removed]"
          },
          "metadata": {
            "needs_background": "light"
          }
        }
      ]
    },
    {
      "cell_type": "markdown",
      "metadata": {
        "id": "vZR0Ev4eFouu"
      },
      "source": [
        "Coeficiente de Pearson - O valor é próximo de zero a distribuição é simétrica.\n",
        "\n",
        "Coeficiente de Curtose - O valor é menor que 3 o grau de achatamento da distribuição normal é platicúrtica (mais achatada no platô)"
      ]
    },
    {
      "cell_type": "markdown",
      "metadata": {
        "id": "UKXix0t2V7C1"
      },
      "source": [
        "Considere a segunda amostra."
      ]
    },
    {
      "cell_type": "code",
      "metadata": {
        "id": "lb-A7Psve_sz"
      },
      "source": [
        "s1 = [12,8.0, 4, 3, 2,1,1]"
      ],
      "execution_count": 75,
      "outputs": []
    },
    {
      "cell_type": "code",
      "metadata": {
        "id": "_3GVdsIpfDrM",
        "outputId": "8e3fc8f4-4820-4127-c604-357852e59373",
        "colab": {
          "base_uri": "https://localhost:8080/"
        }
      },
      "source": [
        "calcula_estatisticas(s1)"
      ],
      "execution_count": 76,
      "outputs": [
        {
          "output_type": "stream",
          "name": "stdout",
          "text": [
            "Media: 4.43\n",
            "Moda: 3.0\n",
            "Mediana: 1.0\n",
            "Variância: 14.53\n",
            "Desvio Padrão: 3.81\n",
            "Coeficiente Person: 0.98\n",
            "Coeficiente de Kurtosi: -0.45\n"
          ]
        }
      ]
    },
    {
      "cell_type": "markdown",
      "metadata": {
        "id": "9GiXm6p73teq"
      },
      "source": [
        "Asimétrica Positiva / à direita - Média > Moda > Mediana"
      ]
    },
    {
      "cell_type": "code",
      "metadata": {
        "id": "_MFULXorva1t",
        "outputId": "5c29e2a8-630b-4f53-b649-a9883a03b52c",
        "colab": {
          "base_uri": "https://localhost:8080/",
          "height": 354
        }
      },
      "source": [
        "fig = plt.figure(figsize=(12, 4))\n",
        "ax = sns.distplot(s1,rug=True,kde=True,hist=False)\n",
        "\n",
        "ax.annotate('Moda', xy=(1,0.01), xytext=(1, 0.02),arrowprops={'arrowstyle': '-'})         \n",
        "ax.annotate('Mediana', xy=(3, 0.01), xytext=(3, 0.03),arrowprops={'arrowstyle': '-'})\n",
        "ax.annotate('Média', xy=(4.4, 0.01), xytext=(4.5, 0.02),arrowprops={'arrowstyle': '-'})\n",
        "plt.show()"
      ],
      "execution_count": 77,
      "outputs": [
        {
          "output_type": "stream",
          "name": "stderr",
          "text": [
            "/usr/local/lib/python3.7/dist-packages/seaborn/distributions.py:2619: FutureWarning: `distplot` is a deprecated function and will be removed in a future version. Please adapt your code to use either `displot` (a figure-level function with similar flexibility) or `kdeplot` (an axes-level function for kernel density plots).\n",
            "  warnings.warn(msg, FutureWarning)\n",
            "/usr/local/lib/python3.7/dist-packages/seaborn/distributions.py:2103: FutureWarning: The `axis` variable is no longer used and will be removed. Instead, assign variables directly to `x` or `y`.\n",
            "  warnings.warn(msg, FutureWarning)\n"
          ]
        },
        {
          "output_type": "display_data",
          "data": {
            "text/plain": [
              "<Figure size 864x288 with 1 Axes>"
            ],
            "image/png": "[encoded data removed]"
          },
          "metadata": {
            "needs_background": "light"
          }
        }
      ]
    },
    {
      "cell_type": "markdown",
      "metadata": {
        "id": "YgT3LUb0nu5S"
      },
      "source": [
        "Coeficiente de Pearson - O valor é próximo de 1 a distribuição é assimétrica positiva"
      ]
    },
    {
      "cell_type": "markdown",
      "metadata": {
        "id": "yM13rLkhjj1W"
      },
      "source": [
        "Considere a terceira amostra"
      ]
    },
    {
      "cell_type": "code",
      "metadata": {
        "id": "2Z6WDSsEfQtB"
      },
      "source": [
        "s2 = [-3,-1,4,2.5,4,3]"
      ],
      "execution_count": 78,
      "outputs": []
    },
    {
      "cell_type": "code",
      "metadata": {
        "id": "o9BhWeTCfTab",
        "outputId": "60f5f9f1-f086-4184-d3b5-6fa86da7adfc",
        "colab": {
          "base_uri": "https://localhost:8080/"
        }
      },
      "source": [
        "calcula_estatisticas(s2)"
      ],
      "execution_count": 79,
      "outputs": [
        {
          "output_type": "stream",
          "name": "stdout",
          "text": [
            "Media: 1.58\n",
            "Moda: 2.75\n",
            "Mediana: 4.0\n",
            "Variância: 7.03\n",
            "Desvio Padrão: 2.65\n",
            "Coeficiente Person: -0.73\n",
            "Coeficiente de Kurtosi: -1.12\n"
          ]
        }
      ]
    },
    {
      "cell_type": "markdown",
      "metadata": {
        "id": "cH_kVyzP36gf"
      },
      "source": [
        "Asimétrica negativa / à esquerda - Média < Moda < Mediana"
      ]
    },
    {
      "cell_type": "code",
      "metadata": {
        "id": "CMMlyXFt1Zsc",
        "outputId": "46eac3d5-2c7d-49c0-d778-ed460c31fb52",
        "colab": {
          "base_uri": "https://localhost:8080/",
          "height": 357
        }
      },
      "source": [
        "fig = plt.figure(figsize=(12, 4))\n",
        "ax = sns.distplot(s2,rug=True,kde=True,hist=False)\n",
        "\n",
        "ax.annotate('Moda', xy=(4,0.01), xytext=(5, 0.05),arrowprops={'arrowstyle': '-'})         \n",
        "ax.annotate('Mediana', xy=(2.75, 0.01), xytext=(3, 0.03),arrowprops={'arrowstyle': '-'})\n",
        "ax.annotate('Média', xy=(1.5, 0.01), xytext=(0.5, 0.05),arrowprops={'arrowstyle': '-'})\n",
        "plt.show()"
      ],
      "execution_count": 80,
      "outputs": [
        {
          "output_type": "stream",
          "name": "stderr",
          "text": [
            "/usr/local/lib/python3.7/dist-packages/seaborn/distributions.py:2619: FutureWarning: `distplot` is a deprecated function and will be removed in a future version. Please adapt your code to use either `displot` (a figure-level function with similar flexibility) or `kdeplot` (an axes-level function for kernel density plots).\n",
            "  warnings.warn(msg, FutureWarning)\n",
            "/usr/local/lib/python3.7/dist-packages/seaborn/distributions.py:2103: FutureWarning: The `axis` variable is no longer used and will be removed. Instead, assign variables directly to `x` or `y`.\n",
            "  warnings.warn(msg, FutureWarning)\n"
          ]
        },
        {
          "output_type": "display_data",
          "data": {
            "text/plain": [
              "<Figure size 864x288 with 1 Axes>"
            ],
            "image/png": "[encoded data removed]"
          },
          "metadata": {
            "needs_background": "light"
          }
        }
      ]
    },
    {
      "cell_type": "markdown",
      "metadata": {
        "id": "UKyKH5yLUClJ"
      },
      "source": [
        "Coeficiente de Pearson - O valor é próximo de -1 a distribuição é assimétrica negativa."
      ]
    },
    {
      "cell_type": "markdown",
      "metadata": {
        "id": "oF8uzpKnb3Rp"
      },
      "source": [
        "### Gerando dados aleatórios"
      ]
    },
    {
      "cell_type": "markdown",
      "metadata": {
        "id": "J6NW6-MxcAu-"
      },
      "source": [
        "Amostra seguindo uma distribuição normal"
      ]
    },
    {
      "cell_type": "code",
      "metadata": {
        "id": "6BfqAwCWb8yV"
      },
      "source": [
        "sample_normal = np.random.normal(1,0.5,500)"
      ],
      "execution_count": null,
      "outputs": []
    },
    {
      "cell_type": "code",
      "metadata": {
        "id": "zchoS29UcbyG"
      },
      "source": [
        "sample_normal[:10]"
      ],
      "execution_count": null,
      "outputs": []
    },
    {
      "cell_type": "code",
      "metadata": {
        "id": "_CYgTuMLccQG"
      },
      "source": [
        "calcula_estatisticas(sample_normal)"
      ],
      "execution_count": null,
      "outputs": []
    },
    {
      "cell_type": "markdown",
      "metadata": {
        "id": "0Q6_3QoVquiP"
      },
      "source": [
        "Visualizando a distribuição"
      ]
    },
    {
      "cell_type": "code",
      "metadata": {
        "id": "JrsQJ1Zecvbi"
      },
      "source": [
        "fig = plt.figure(figsize=(12, 4))\n",
        "sns.distplot(sample_normal)"
      ],
      "execution_count": null,
      "outputs": []
    },
    {
      "cell_type": "markdown",
      "metadata": {
        "id": "FV7S-RxqkKZV"
      },
      "source": [
        "Distribuição simétrica, com o coeficiente de pearson próximo a zero."
      ]
    },
    {
      "cell_type": "markdown",
      "metadata": {
        "id": "mAxxYa8gkbX7"
      },
      "source": [
        "Considere o seguinte exemplo"
      ]
    },
    {
      "cell_type": "code",
      "metadata": {
        "id": "uW3QO11DdQav"
      },
      "source": [
        "exp = np.arange(2,len(sample_normal),2)"
      ],
      "execution_count": null,
      "outputs": []
    },
    {
      "cell_type": "markdown",
      "metadata": {
        "id": "asXn1lqKp8y1"
      },
      "source": [
        "Verificando os expoentes"
      ]
    },
    {
      "cell_type": "code",
      "metadata": {
        "id": "46Qu1pdHqAB6"
      },
      "source": [
        "exp[:10]"
      ],
      "execution_count": null,
      "outputs": []
    },
    {
      "cell_type": "markdown",
      "metadata": {
        "id": "fMJhS8TXqUWh"
      },
      "source": [
        "Gerando uma distribuição assimétrica positiva"
      ]
    },
    {
      "cell_type": "code",
      "metadata": {
        "id": "sbVpQLxFqY0D"
      },
      "source": [
        "sample_assimetrica_positiva = []\n",
        "for s,e in zip(sample_normal,exp):\n",
        "    sample_assimetrica_positiva.append(s*e)"
      ],
      "execution_count": null,
      "outputs": []
    },
    {
      "cell_type": "code",
      "metadata": {
        "id": "I0LFL3ZidTvS"
      },
      "source": [
        "calcula_estatisticas(sample_assimetrica_positiva)"
      ],
      "execution_count": null,
      "outputs": []
    },
    {
      "cell_type": "markdown",
      "metadata": {
        "id": "oH0wf72Iq8zE"
      },
      "source": [
        "Visualizando a distribuição"
      ]
    },
    {
      "cell_type": "code",
      "metadata": {
        "id": "mxr5jPv0dg8F"
      },
      "source": [
        "sns.distplot(sample_assimetrica_positiva)"
      ],
      "execution_count": null,
      "outputs": []
    },
    {
      "cell_type": "markdown",
      "metadata": {
        "id": "_xvT6EIErDOz"
      },
      "source": [
        "Gerando uma distribuição assimétrica negativa."
      ]
    },
    {
      "cell_type": "code",
      "metadata": {
        "id": "myDjnY8ldt41"
      },
      "source": [
        "exp = (np.arange(2,len(sample_normal),2))*-1"
      ],
      "execution_count": null,
      "outputs": []
    },
    {
      "cell_type": "markdown",
      "metadata": {
        "id": "biub1ntFrONb"
      },
      "source": [
        "Verificando os expoêntes"
      ]
    },
    {
      "cell_type": "code",
      "metadata": {
        "id": "yDf_W-EfsbRx"
      },
      "source": [
        "exp[:10]"
      ],
      "execution_count": null,
      "outputs": []
    },
    {
      "cell_type": "code",
      "metadata": {
        "id": "c4wOPyxXrTmC"
      },
      "source": [
        "sample_assimetrica_negativa = []\n",
        "for s,e in zip(sample_normal,exp):\n",
        "    sample_assimetrica_negativa.append(s*e)"
      ],
      "execution_count": null,
      "outputs": []
    },
    {
      "cell_type": "code",
      "metadata": {
        "id": "HViRSD3cdzMu"
      },
      "source": [
        "calcula_estatisticas(sample_assimetrica_negativa)"
      ],
      "execution_count": null,
      "outputs": []
    },
    {
      "cell_type": "markdown",
      "metadata": {
        "id": "hHgdoCI4tAku"
      },
      "source": [
        "Visualizando a distribuição"
      ]
    },
    {
      "cell_type": "code",
      "metadata": {
        "id": "1uG0y8oRd-OH"
      },
      "source": [
        "sns.distplot(sample_assimetrica_negativa)"
      ],
      "execution_count": null,
      "outputs": []
    },
    {
      "cell_type": "markdown",
      "metadata": {
        "id": "ebLUdedG7BfB"
      },
      "source": [
        "Verificando graficamente as distribuições dos atributos do Dataframe"
      ]
    },
    {
      "cell_type": "code",
      "metadata": {
        "id": "kxPwresA9ZbP"
      },
      "source": [
        "import matplotlib.pyplot as plt\n",
        "\n",
        "fig, axes = plt.subplots(nrows=3, ncols=3,figsize=(16, 12))\n",
        "for i, column in enumerate(df.select_dtypes(include=np.number).columns.tolist()):\n",
        "    sns.distplot(df[column],ax=axes[i//3,i%3])"
      ],
      "execution_count": null,
      "outputs": []
    },
    {
      "cell_type": "markdown",
      "metadata": {
        "id": "0LUU8dMwzp7Q"
      },
      "source": [
        "Verificando a distribuição de probabilidade e a diferença entre a média e a mediana."
      ]
    },
    {
      "cell_type": "code",
      "metadata": {
        "id": "CIFmuOANerLw"
      },
      "source": [
        "for i, column in enumerate(df.select_dtypes(include=np.number).columns.tolist()):\n",
        "    media = round(df[column].mean(),2)\n",
        "    std = df[column].std()\n",
        "    cvar = round(std/media*100,2)\n",
        "    median = df[column].median()\n",
        "    print(\"Atributo: {}, Coeficiente de Variação: {} %, Media: {}, Mediana: {}\".format(column,cvar,media,median))"
      ],
      "execution_count": null,
      "outputs": []
    },
    {
      "cell_type": "markdown",
      "source": [
        "# <b>Exercício</b>\n",
        "\n",
        "## Faça a avaliação de quatro datasets atualmente recuperados pela biblioteca sktlearn, como segue:\n",
        "\n",
        "- Iris: https://scikit-learn.org/stable/datasets/toy_dataset.html#iris-plants-dataset\n",
        "- Diabetes: https://scikit-learn.org/stable/datasets/toy_dataset.html#diabetes-dataset\n",
        "- Wine (Vinhos): https://scikit-learn.org/stable/datasets/toy_dataset.html#wine-recognition-dataset\n",
        "- California Housing (imóveis na California): https://scikit-learn.org/stable/datasets/real_world.html#california-housing-dataset\n",
        "\n",
        "Observe como se comporta a distribuição dos dados em cada atributo e suas correspondentes estatíticas descritivas."
      ],
      "metadata": {
        "id": "bBu4Vd5naf9j"
      }
    },
    {
      "cell_type": "code",
      "source": [
        "# sugestões de como recuperar os datasets através da biblioteca scikit-learn\n",
        "# carregando dataset Iris\n",
        "from sklearn.datasets import load_iris\n",
        "dataIris = load_iris()\n",
        "\n",
        "# carregando dataset Diabetes\n",
        "from sklearn.datasets import load_diabetes\n",
        "dataDiabetes = load_diabetes()\n",
        "\n",
        "# carregando dataset Wine\n",
        "from sklearn.datasets import load_wine\n",
        "dataWine = load_wine()\n",
        "\n",
        "# carregando dataset California Housing\n",
        "from sklearn.datasets import fetch_california_housing\n",
        "dataCalifornia = fetch_california_housing()"
      ],
      "metadata": {
        "id": "NxEeIqvtJGxz"
      },
      "execution_count": null,
      "outputs": []
    },
    {
      "cell_type": "markdown",
      "source": [
        "# <b>Treinando a manipulação do dataset (IRIS)</b>\n",
        "\n",
        "## Usando os exemplos do site da Scikit Learn\n",
        "\n",
        "- IRIS:\n"
      ],
      "metadata": {
        "id": "-OHJgQMwCdfe"
      }
    },
    {
      "cell_type": "markdown",
      "source": [
        "Carregamento da biblioteca da iris"
      ],
      "metadata": {
        "id": "smgirqQ0DjbE"
      }
    },
    {
      "cell_type": "code",
      "source": [
        "from sklearn.datasets import load_iris"
      ],
      "metadata": {
        "id": "c4-EvNCMCfHu"
      },
      "execution_count": null,
      "outputs": []
    },
    {
      "cell_type": "markdown",
      "source": [
        "Chamada e set dos valores dos dados"
      ],
      "metadata": {
        "id": "nkWA8vmvDpKD"
      }
    },
    {
      "cell_type": "code",
      "source": [
        "iris = load_iris()\n",
        "iris.target[[10, 25, 50]]"
      ],
      "metadata": {
        "colab": {
          "base_uri": "https://localhost:8080/"
        },
        "id": "6NXFVgqlDVjX",
        "outputId": "1a371c15-2433-4da8-d082-ba4932c4606a"
      },
      "execution_count": null,
      "outputs": [
        {
          "output_type": "execute_result",
          "data": {
            "text/plain": [
              "array([0, 0, 1])"
            ]
          },
          "metadata": {},
          "execution_count": 70
        }
      ]
    },
    {
      "cell_type": "code",
      "source": [
        "list(iris.target_names)"
      ],
      "metadata": {
        "colab": {
          "base_uri": "https://localhost:8080/"
        },
        "id": "gP65LjR4DZtH",
        "outputId": "84019cdb-c86d-40a6-bf69-5db81dd54cd2"
      },
      "execution_count": null,
      "outputs": [
        {
          "output_type": "execute_result",
          "data": {
            "text/plain": [
              "['setosa', 'versicolor', 'virginica']"
            ]
          },
          "metadata": {},
          "execution_count": 71
        }
      ]
    },
    {
      "cell_type": "markdown",
      "source": [
        "Mudança da passagem dos valores para uma notação da scikit learn:"
      ],
      "metadata": {
        "id": "_MoQDF1dI4_D"
      }
    },
    {
      "cell_type": "code",
      "source": [
        "X,y = load_iris(return_X_y=True)"
      ],
      "metadata": {
        "id": "O6oNbuaQJD85"
      },
      "execution_count": null,
      "outputs": []
    },
    {
      "cell_type": "markdown",
      "source": [
        "Modificando os dados para uma visualização de dataframe usando o pandas:"
      ],
      "metadata": {
        "id": "Jbd5kjVlJ7Ap"
      }
    },
    {
      "cell_type": "markdown",
      "source": [
        "Importação da biblioteca de dataframe"
      ],
      "metadata": {
        "id": "yehYpw4dK3LA"
      }
    },
    {
      "cell_type": "code",
      "source": [
        "import pandas as pd"
      ],
      "metadata": {
        "id": "wbiJ0oOdKExB"
      },
      "execution_count": null,
      "outputs": []
    },
    {
      "cell_type": "markdown",
      "source": [
        "Definindo os valores para a tabela do dataframe da v=base de dados da iris."
      ],
      "metadata": {
        "id": "IYHGqXVHK_Oo"
      }
    },
    {
      "cell_type": "code",
      "source": [
        "iris_df = pd.DataFrame(data=iris.data, columns=iris.feature_names)"
      ],
      "metadata": {
        "id": "Kb-pNX9HKKXC"
      },
      "execution_count": null,
      "outputs": []
    },
    {
      "cell_type": "code",
      "source": [
        "iris_df"
      ],
      "metadata": {
        "colab": {
          "base_uri": "https://localhost:8080/",
          "height": 424
        },
        "id": "ckXP99pwKqhp",
        "outputId": "5a7741c0-58f5-4982-865e-d43a62568b52"
      },
      "execution_count": null,
      "outputs": [
        {
          "output_type": "execute_result",
          "data": {
            "text/plain": [
              "     sepal length (cm)  sepal width (cm)  petal length (cm)  petal width (cm)\n",
              "0                  5.1               3.5                1.4               0.2\n",
              "1                  4.9               3.0                1.4               0.2\n",
              "2                  4.7               3.2                1.3               0.2\n",
              "3                  4.6               3.1                1.5               0.2\n",
              "4                  5.0               3.6                1.4               0.2\n",
              "..                 ...               ...                ...               ...\n",
              "145                6.7               3.0                5.2               2.3\n",
              "146                6.3               2.5                5.0               1.9\n",
              "147                6.5               3.0                5.2               2.0\n",
              "148                6.2               3.4                5.4               2.3\n",
              "149                5.9               3.0                5.1               1.8\n",
              "\n",
              "[150 rows x 4 columns]"
            ],
            "text/html": [
              "\n",
              "  <div id=\"df-4afa74ee-f898-423b-b99f-b63f90a59cdf\">\n",
              "    <div class=\"colab-df-container\">\n",
              "      <div>\n",
              "<style scoped>\n",
              "    .dataframe tbody tr th:only-of-type {\n",
              "        vertical-align: middle;\n",
              "    }\n",
              "\n",
              "    .dataframe tbody tr th {\n",
              "        vertical-align: top;\n",
              "    }\n",
              "\n",
              "    .dataframe thead th {\n",
              "        text-align: right;\n",
              "    }\n",
              "</style>\n",
              "<table border=\"1\" class=\"dataframe\">\n",
              "  <thead>\n",
              "    <tr style=\"text-align: right;\">\n",
              "      <th></th>\n",
              "      <th>sepal length (cm)</th>\n",
              "      <th>sepal width (cm)</th>\n",
              "      <th>petal length (cm)</th>\n",
              "      <th>petal width (cm)</th>\n",
              "    </tr>\n",
              "  </thead>\n",
              "  <tbody>\n",
              "    <tr>\n",
              "      <th>0</th>\n",
              "      <td>5.1</td>\n",
              "      <td>3.5</td>\n",
              "      <td>1.4</td>\n",
              "      <td>0.2</td>\n",
              "    </tr>\n",
              "    <tr>\n",
              "      <th>1</th>\n",
              "      <td>4.9</td>\n",
              "      <td>3.0</td>\n",
              "      <td>1.4</td>\n",
              "      <td>0.2</td>\n",
              "    </tr>\n",
              "    <tr>\n",
              "      <th>2</th>\n",
              "      <td>4.7</td>\n",
              "      <td>3.2</td>\n",
              "      <td>1.3</td>\n",
              "      <td>0.2</td>\n",
              "    </tr>\n",
              "    <tr>\n",
              "      <th>3</th>\n",
              "      <td>4.6</td>\n",
              "      <td>3.1</td>\n",
              "      <td>1.5</td>\n",
              "      <td>0.2</td>\n",
              "    </tr>\n",
              "    <tr>\n",
              "      <th>4</th>\n",
              "      <td>5.0</td>\n",
              "      <td>3.6</td>\n",
              "      <td>1.4</td>\n",
              "      <td>0.2</td>\n",
              "    </tr>\n",
              "    <tr>\n",
              "      <th>...</th>\n",
              "      <td>...</td>\n",
              "      <td>...</td>\n",
              "      <td>...</td>\n",
              "      <td>...</td>\n",
              "    </tr>\n",
              "    <tr>\n",
              "      <th>145</th>\n",
              "      <td>6.7</td>\n",
              "      <td>3.0</td>\n",
              "      <td>5.2</td>\n",
              "      <td>2.3</td>\n",
              "    </tr>\n",
              "    <tr>\n",
              "      <th>146</th>\n",
              "      <td>6.3</td>\n",
              "      <td>2.5</td>\n",
              "      <td>5.0</td>\n",
              "      <td>1.9</td>\n",
              "    </tr>\n",
              "    <tr>\n",
              "      <th>147</th>\n",
              "      <td>6.5</td>\n",
              "      <td>3.0</td>\n",
              "      <td>5.2</td>\n",
              "      <td>2.0</td>\n",
              "    </tr>\n",
              "    <tr>\n",
              "      <th>148</th>\n",
              "      <td>6.2</td>\n",
              "      <td>3.4</td>\n",
              "      <td>5.4</td>\n",
              "      <td>2.3</td>\n",
              "    </tr>\n",
              "    <tr>\n",
              "      <th>149</th>\n",
              "      <td>5.9</td>\n",
              "      <td>3.0</td>\n",
              "      <td>5.1</td>\n",
              "      <td>1.8</td>\n",
              "    </tr>\n",
              "  </tbody>\n",
              "</table>\n",
              "<p>150 rows × 4 columns</p>\n",
              "</div>\n",
              "      <button class=\"colab-df-convert\" onclick=\"convertToInteractive('df-4afa74ee-f898-423b-b99f-b63f90a59cdf')\"\n",
              "              title=\"Convert this dataframe to an interactive table.\"\n",
              "              style=\"display:none;\">\n",
              "        \n",
              "  <svg xmlns=\"http://www.w3.org/2000/svg\" height=\"24px\"viewBox=\"0 0 24 24\"\n",
              "       width=\"24px\">\n",
              "    <path d=\"M0 0h24v24H0V0z\" fill=\"none\"/>\n",
              "    <path d=\"M18.56 5.44l.94 2.06.94-2.06 2.06-.94-2.06-.94-.94-2.06-.94 2.06-2.06.94zm-11 1L8.5 8.5l.94-2.06 2.06-.94-2.06-.94L8.5 2.5l-.94 2.06-2.06.94zm10 10l.94 2.06.94-2.06 2.06-.94-2.06-.94-.94-2.06-.94 2.06-2.06.94z\"/><path d=\"M17.41 7.96l-1.37-1.37c-.4-.4-.92-.59-1.43-.59-.52 0-1.04.2-1.43.59L10.3 9.45l-7.72 7.72c-.78.78-.78 2.05 0 2.83L4 21.41c.39.39.9.59 1.41.59.51 0 1.02-.2 1.41-.59l7.78-7.78 2.81-2.81c.8-.78.8-2.07 0-2.86zM5.41 20L4 18.59l7.72-7.72 1.47 1.35L5.41 20z\"/>\n",
              "  </svg>\n",
              "      </button>\n",
              "      \n",
              "  <style>\n",
              "    .colab-df-container {\n",
              "      display:flex;\n",
              "      flex-wrap:wrap;\n",
              "      gap: 12px;\n",
              "    }\n",
              "\n",
              "    .colab-df-convert {\n",
              "      background-color: #E8F0FE;\n",
              "      border: none;\n",
              "      border-radius: 50%;\n",
              "      cursor: pointer;\n",
              "      display: none;\n",
              "      fill: #1967D2;\n",
              "      height: 32px;\n",
              "      padding: 0 0 0 0;\n",
              "      width: 32px;\n",
              "    }\n",
              "\n",
              "    .colab-df-convert:hover {\n",
              "      background-color: #E2EBFA;\n",
              "      box-shadow: 0px 1px 2px rgba(60, 64, 67, 0.3), 0px 1px 3px 1px rgba(60, 64, 67, 0.15);\n",
              "      fill: #174EA6;\n",
              "    }\n",
              "\n",
              "    [theme=dark] .colab-df-convert {\n",
              "      background-color: #3B4455;\n",
              "      fill: #D2E3FC;\n",
              "    }\n",
              "\n",
              "    [theme=dark] .colab-df-convert:hover {\n",
              "      background-color: #434B5C;\n",
              "      box-shadow: 0px 1px 3px 1px rgba(0, 0, 0, 0.15);\n",
              "      filter: drop-shadow(0px 1px 2px rgba(0, 0, 0, 0.3));\n",
              "      fill: #FFFFFF;\n",
              "    }\n",
              "  </style>\n",
              "\n",
              "      <script>\n",
              "        const buttonEl =\n",
              "          document.querySelector('#df-4afa74ee-f898-423b-b99f-b63f90a59cdf button.colab-df-convert');\n",
              "        buttonEl.style.display =\n",
              "          google.colab.kernel.accessAllowed ? 'block' : 'none';\n",
              "\n",
              "        async function convertToInteractive(key) {\n",
              "          const element = document.querySelector('#df-4afa74ee-f898-423b-b99f-b63f90a59cdf');\n",
              "          const dataTable =\n",
              "            await google.colab.kernel.invokeFunction('convertToInteractive',\n",
              "                                                     [key], {});\n",
              "          if (!dataTable) return;\n",
              "\n",
              "          const docLinkHtml = 'Like what you see? Visit the ' +\n",
              "            '<a target=\"_blank\" href=https://colab.research.google.com/notebooks/data_table.ipynb>data table notebook</a>'\n",
              "            + ' to learn more about interactive tables.';\n",
              "          element.innerHTML = '';\n",
              "          dataTable['output_type'] = 'display_data';\n",
              "          await google.colab.output.renderOutput(dataTable, element);\n",
              "          const docLink = document.createElement('div');\n",
              "          docLink.innerHTML = docLinkHtml;\n",
              "          element.appendChild(docLink);\n",
              "        }\n",
              "      </script>\n",
              "    </div>\n",
              "  </div>\n",
              "  "
            ]
          },
          "metadata": {},
          "execution_count": 76
        }
      ]
    },
    {
      "cell_type": "markdown",
      "source": [
        "Adicionando uma nova coluna para a análise dos dados."
      ],
      "metadata": {
        "id": "PNR3aP1rLYO4"
      }
    },
    {
      "cell_type": "code",
      "source": [
        "iris_df['target'] = iris.target"
      ],
      "metadata": {
        "id": "wc93eeELLeu4"
      },
      "execution_count": null,
      "outputs": []
    },
    {
      "cell_type": "code",
      "source": [
        "iris_df.head()"
      ],
      "metadata": {
        "colab": {
          "base_uri": "https://localhost:8080/",
          "height": 206
        },
        "id": "tdGXuNLgLt24",
        "outputId": "4a5ff2d1-ffc4-4e7c-fd3a-fffdd6c71840"
      },
      "execution_count": null,
      "outputs": [
        {
          "output_type": "execute_result",
          "data": {
            "text/plain": [
              "   sepal length (cm)  sepal width (cm)  petal length (cm)  petal width (cm)  \\\n",
              "0                5.1               3.5                1.4               0.2   \n",
              "1                4.9               3.0                1.4               0.2   \n",
              "2                4.7               3.2                1.3               0.2   \n",
              "3                4.6               3.1                1.5               0.2   \n",
              "4                5.0               3.6                1.4               0.2   \n",
              "\n",
              "   target  \n",
              "0       0  \n",
              "1       0  \n",
              "2       0  \n",
              "3       0  \n",
              "4       0  "
            ],
            "text/html": [
              "\n",
              "  <div id=\"df-8773d81d-1ebb-4e63-af8e-438da4a1470e\">\n",
              "    <div class=\"colab-df-container\">\n",
              "      <div>\n",
              "<style scoped>\n",
              "    .dataframe tbody tr th:only-of-type {\n",
              "        vertical-align: middle;\n",
              "    }\n",
              "\n",
              "    .dataframe tbody tr th {\n",
              "        vertical-align: top;\n",
              "    }\n",
              "\n",
              "    .dataframe thead th {\n",
              "        text-align: right;\n",
              "    }\n",
              "</style>\n",
              "<table border=\"1\" class=\"dataframe\">\n",
              "  <thead>\n",
              "    <tr style=\"text-align: right;\">\n",
              "      <th></th>\n",
              "      <th>sepal length (cm)</th>\n",
              "      <th>sepal width (cm)</th>\n",
              "      <th>petal length (cm)</th>\n",
              "      <th>petal width (cm)</th>\n",
              "      <th>target</th>\n",
              "    </tr>\n",
              "  </thead>\n",
              "  <tbody>\n",
              "    <tr>\n",
              "      <th>0</th>\n",
              "      <td>5.1</td>\n",
              "      <td>3.5</td>\n",
              "      <td>1.4</td>\n",
              "      <td>0.2</td>\n",
              "      <td>0</td>\n",
              "    </tr>\n",
              "    <tr>\n",
              "      <th>1</th>\n",
              "      <td>4.9</td>\n",
              "      <td>3.0</td>\n",
              "      <td>1.4</td>\n",
              "      <td>0.2</td>\n",
              "      <td>0</td>\n",
              "    </tr>\n",
              "    <tr>\n",
              "      <th>2</th>\n",
              "      <td>4.7</td>\n",
              "      <td>3.2</td>\n",
              "      <td>1.3</td>\n",
              "      <td>0.2</td>\n",
              "      <td>0</td>\n",
              "    </tr>\n",
              "    <tr>\n",
              "      <th>3</th>\n",
              "      <td>4.6</td>\n",
              "      <td>3.1</td>\n",
              "      <td>1.5</td>\n",
              "      <td>0.2</td>\n",
              "      <td>0</td>\n",
              "    </tr>\n",
              "    <tr>\n",
              "      <th>4</th>\n",
              "      <td>5.0</td>\n",
              "      <td>3.6</td>\n",
              "      <td>1.4</td>\n",
              "      <td>0.2</td>\n",
              "      <td>0</td>\n",
              "    </tr>\n",
              "  </tbody>\n",
              "</table>\n",
              "</div>\n",
              "      <button class=\"colab-df-convert\" onclick=\"convertToInteractive('df-8773d81d-1ebb-4e63-af8e-438da4a1470e')\"\n",
              "              title=\"Convert this dataframe to an interactive table.\"\n",
              "              style=\"display:none;\">\n",
              "        \n",
              "  <svg xmlns=\"http://www.w3.org/2000/svg\" height=\"24px\"viewBox=\"0 0 24 24\"\n",
              "       width=\"24px\">\n",
              "    <path d=\"M0 0h24v24H0V0z\" fill=\"none\"/>\n",
              "    <path d=\"M18.56 5.44l.94 2.06.94-2.06 2.06-.94-2.06-.94-.94-2.06-.94 2.06-2.06.94zm-11 1L8.5 8.5l.94-2.06 2.06-.94-2.06-.94L8.5 2.5l-.94 2.06-2.06.94zm10 10l.94 2.06.94-2.06 2.06-.94-2.06-.94-.94-2.06-.94 2.06-2.06.94z\"/><path d=\"M17.41 7.96l-1.37-1.37c-.4-.4-.92-.59-1.43-.59-.52 0-1.04.2-1.43.59L10.3 9.45l-7.72 7.72c-.78.78-.78 2.05 0 2.83L4 21.41c.39.39.9.59 1.41.59.51 0 1.02-.2 1.41-.59l7.78-7.78 2.81-2.81c.8-.78.8-2.07 0-2.86zM5.41 20L4 18.59l7.72-7.72 1.47 1.35L5.41 20z\"/>\n",
              "  </svg>\n",
              "      </button>\n",
              "      \n",
              "  <style>\n",
              "    .colab-df-container {\n",
              "      display:flex;\n",
              "      flex-wrap:wrap;\n",
              "      gap: 12px;\n",
              "    }\n",
              "\n",
              "    .colab-df-convert {\n",
              "      background-color: #E8F0FE;\n",
              "      border: none;\n",
              "      border-radius: 50%;\n",
              "      cursor: pointer;\n",
              "      display: none;\n",
              "      fill: #1967D2;\n",
              "      height: 32px;\n",
              "      padding: 0 0 0 0;\n",
              "      width: 32px;\n",
              "    }\n",
              "\n",
              "    .colab-df-convert:hover {\n",
              "      background-color: #E2EBFA;\n",
              "      box-shadow: 0px 1px 2px rgba(60, 64, 67, 0.3), 0px 1px 3px 1px rgba(60, 64, 67, 0.15);\n",
              "      fill: #174EA6;\n",
              "    }\n",
              "\n",
              "    [theme=dark] .colab-df-convert {\n",
              "      background-color: #3B4455;\n",
              "      fill: #D2E3FC;\n",
              "    }\n",
              "\n",
              "    [theme=dark] .colab-df-convert:hover {\n",
              "      background-color: #434B5C;\n",
              "      box-shadow: 0px 1px 3px 1px rgba(0, 0, 0, 0.15);\n",
              "      filter: drop-shadow(0px 1px 2px rgba(0, 0, 0, 0.3));\n",
              "      fill: #FFFFFF;\n",
              "    }\n",
              "  </style>\n",
              "\n",
              "      <script>\n",
              "        const buttonEl =\n",
              "          document.querySelector('#df-8773d81d-1ebb-4e63-af8e-438da4a1470e button.colab-df-convert');\n",
              "        buttonEl.style.display =\n",
              "          google.colab.kernel.accessAllowed ? 'block' : 'none';\n",
              "\n",
              "        async function convertToInteractive(key) {\n",
              "          const element = document.querySelector('#df-8773d81d-1ebb-4e63-af8e-438da4a1470e');\n",
              "          const dataTable =\n",
              "            await google.colab.kernel.invokeFunction('convertToInteractive',\n",
              "                                                     [key], {});\n",
              "          if (!dataTable) return;\n",
              "\n",
              "          const docLinkHtml = 'Like what you see? Visit the ' +\n",
              "            '<a target=\"_blank\" href=https://colab.research.google.com/notebooks/data_table.ipynb>data table notebook</a>'\n",
              "            + ' to learn more about interactive tables.';\n",
              "          element.innerHTML = '';\n",
              "          dataTable['output_type'] = 'display_data';\n",
              "          await google.colab.output.renderOutput(dataTable, element);\n",
              "          const docLink = document.createElement('div');\n",
              "          docLink.innerHTML = docLinkHtml;\n",
              "          element.appendChild(docLink);\n",
              "        }\n",
              "      </script>\n",
              "    </div>\n",
              "  </div>\n",
              "  "
            ]
          },
          "metadata": {},
          "execution_count": 78
        }
      ]
    },
    {
      "cell_type": "markdown",
      "source": [
        "Definindo uma nova amostragem na tabela pra mostrar os nomes dos tipos das amostras."
      ],
      "metadata": {
        "id": "T7L_O2TaMBH0"
      }
    },
    {
      "cell_type": "code",
      "source": [
        "iris_df['target names'] = pd.Categorical.from_codes(iris.target, iris.target_names)"
      ],
      "metadata": {
        "id": "CNG7_3EEMKAw"
      },
      "execution_count": null,
      "outputs": []
    },
    {
      "cell_type": "code",
      "source": [
        "iris_df.head()"
      ],
      "metadata": {
        "colab": {
          "base_uri": "https://localhost:8080/",
          "height": 206
        },
        "id": "ys9GKAOCMXOH",
        "outputId": "a3e6cf38-b834-4f09-fe09-73dbfb120bca"
      },
      "execution_count": null,
      "outputs": [
        {
          "output_type": "execute_result",
          "data": {
            "text/plain": [
              "   sepal length (cm)  sepal width (cm)  petal length (cm)  petal width (cm)  \\\n",
              "0                5.1               3.5                1.4               0.2   \n",
              "1                4.9               3.0                1.4               0.2   \n",
              "2                4.7               3.2                1.3               0.2   \n",
              "3                4.6               3.1                1.5               0.2   \n",
              "4                5.0               3.6                1.4               0.2   \n",
              "\n",
              "   target target names  \n",
              "0       0       setosa  \n",
              "1       0       setosa  \n",
              "2       0       setosa  \n",
              "3       0       setosa  \n",
              "4       0       setosa  "
            ],
            "text/html": [
              "\n",
              "  <div id=\"df-d8b0bdd9-6ff2-4186-8a83-8d08a3e57fa7\">\n",
              "    <div class=\"colab-df-container\">\n",
              "      <div>\n",
              "<style scoped>\n",
              "    .dataframe tbody tr th:only-of-type {\n",
              "        vertical-align: middle;\n",
              "    }\n",
              "\n",
              "    .dataframe tbody tr th {\n",
              "        vertical-align: top;\n",
              "    }\n",
              "\n",
              "    .dataframe thead th {\n",
              "        text-align: right;\n",
              "    }\n",
              "</style>\n",
              "<table border=\"1\" class=\"dataframe\">\n",
              "  <thead>\n",
              "    <tr style=\"text-align: right;\">\n",
              "      <th></th>\n",
              "      <th>sepal length (cm)</th>\n",
              "      <th>sepal width (cm)</th>\n",
              "      <th>petal length (cm)</th>\n",
              "      <th>petal width (cm)</th>\n",
              "      <th>target</th>\n",
              "      <th>target names</th>\n",
              "    </tr>\n",
              "  </thead>\n",
              "  <tbody>\n",
              "    <tr>\n",
              "      <th>0</th>\n",
              "      <td>5.1</td>\n",
              "      <td>3.5</td>\n",
              "      <td>1.4</td>\n",
              "      <td>0.2</td>\n",
              "      <td>0</td>\n",
              "      <td>setosa</td>\n",
              "    </tr>\n",
              "    <tr>\n",
              "      <th>1</th>\n",
              "      <td>4.9</td>\n",
              "      <td>3.0</td>\n",
              "      <td>1.4</td>\n",
              "      <td>0.2</td>\n",
              "      <td>0</td>\n",
              "      <td>setosa</td>\n",
              "    </tr>\n",
              "    <tr>\n",
              "      <th>2</th>\n",
              "      <td>4.7</td>\n",
              "      <td>3.2</td>\n",
              "      <td>1.3</td>\n",
              "      <td>0.2</td>\n",
              "      <td>0</td>\n",
              "      <td>setosa</td>\n",
              "    </tr>\n",
              "    <tr>\n",
              "      <th>3</th>\n",
              "      <td>4.6</td>\n",
              "      <td>3.1</td>\n",
              "      <td>1.5</td>\n",
              "      <td>0.2</td>\n",
              "      <td>0</td>\n",
              "      <td>setosa</td>\n",
              "    </tr>\n",
              "    <tr>\n",
              "      <th>4</th>\n",
              "      <td>5.0</td>\n",
              "      <td>3.6</td>\n",
              "      <td>1.4</td>\n",
              "      <td>0.2</td>\n",
              "      <td>0</td>\n",
              "      <td>setosa</td>\n",
              "    </tr>\n",
              "  </tbody>\n",
              "</table>\n",
              "</div>\n",
              "      <button class=\"colab-df-convert\" onclick=\"convertToInteractive('df-d8b0bdd9-6ff2-4186-8a83-8d08a3e57fa7')\"\n",
              "              title=\"Convert this dataframe to an interactive table.\"\n",
              "              style=\"display:none;\">\n",
              "        \n",
              "  <svg xmlns=\"http://www.w3.org/2000/svg\" height=\"24px\"viewBox=\"0 0 24 24\"\n",
              "       width=\"24px\">\n",
              "    <path d=\"M0 0h24v24H0V0z\" fill=\"none\"/>\n",
              "    <path d=\"M18.56 5.44l.94 2.06.94-2.06 2.06-.94-2.06-.94-.94-2.06-.94 2.06-2.06.94zm-11 1L8.5 8.5l.94-2.06 2.06-.94-2.06-.94L8.5 2.5l-.94 2.06-2.06.94zm10 10l.94 2.06.94-2.06 2.06-.94-2.06-.94-.94-2.06-.94 2.06-2.06.94z\"/><path d=\"M17.41 7.96l-1.37-1.37c-.4-.4-.92-.59-1.43-.59-.52 0-1.04.2-1.43.59L10.3 9.45l-7.72 7.72c-.78.78-.78 2.05 0 2.83L4 21.41c.39.39.9.59 1.41.59.51 0 1.02-.2 1.41-.59l7.78-7.78 2.81-2.81c.8-.78.8-2.07 0-2.86zM5.41 20L4 18.59l7.72-7.72 1.47 1.35L5.41 20z\"/>\n",
              "  </svg>\n",
              "      </button>\n",
              "      \n",
              "  <style>\n",
              "    .colab-df-container {\n",
              "      display:flex;\n",
              "      flex-wrap:wrap;\n",
              "      gap: 12px;\n",
              "    }\n",
              "\n",
              "    .colab-df-convert {\n",
              "      background-color: #E8F0FE;\n",
              "      border: none;\n",
              "      border-radius: 50%;\n",
              "      cursor: pointer;\n",
              "      display: none;\n",
              "      fill: #1967D2;\n",
              "      height: 32px;\n",
              "      padding: 0 0 0 0;\n",
              "      width: 32px;\n",
              "    }\n",
              "\n",
              "    .colab-df-convert:hover {\n",
              "      background-color: #E2EBFA;\n",
              "      box-shadow: 0px 1px 2px rgba(60, 64, 67, 0.3), 0px 1px 3px 1px rgba(60, 64, 67, 0.15);\n",
              "      fill: #174EA6;\n",
              "    }\n",
              "\n",
              "    [theme=dark] .colab-df-convert {\n",
              "      background-color: #3B4455;\n",
              "      fill: #D2E3FC;\n",
              "    }\n",
              "\n",
              "    [theme=dark] .colab-df-convert:hover {\n",
              "      background-color: #434B5C;\n",
              "      box-shadow: 0px 1px 3px 1px rgba(0, 0, 0, 0.15);\n",
              "      filter: drop-shadow(0px 1px 2px rgba(0, 0, 0, 0.3));\n",
              "      fill: #FFFFFF;\n",
              "    }\n",
              "  </style>\n",
              "\n",
              "      <script>\n",
              "        const buttonEl =\n",
              "          document.querySelector('#df-d8b0bdd9-6ff2-4186-8a83-8d08a3e57fa7 button.colab-df-convert');\n",
              "        buttonEl.style.display =\n",
              "          google.colab.kernel.accessAllowed ? 'block' : 'none';\n",
              "\n",
              "        async function convertToInteractive(key) {\n",
              "          const element = document.querySelector('#df-d8b0bdd9-6ff2-4186-8a83-8d08a3e57fa7');\n",
              "          const dataTable =\n",
              "            await google.colab.kernel.invokeFunction('convertToInteractive',\n",
              "                                                     [key], {});\n",
              "          if (!dataTable) return;\n",
              "\n",
              "          const docLinkHtml = 'Like what you see? Visit the ' +\n",
              "            '<a target=\"_blank\" href=https://colab.research.google.com/notebooks/data_table.ipynb>data table notebook</a>'\n",
              "            + ' to learn more about interactive tables.';\n",
              "          element.innerHTML = '';\n",
              "          dataTable['output_type'] = 'display_data';\n",
              "          await google.colab.output.renderOutput(dataTable, element);\n",
              "          const docLink = document.createElement('div');\n",
              "          docLink.innerHTML = docLinkHtml;\n",
              "          element.appendChild(docLink);\n",
              "        }\n",
              "      </script>\n",
              "    </div>\n",
              "  </div>\n",
              "  "
            ]
          },
          "metadata": {},
          "execution_count": 80
        }
      ]
    },
    {
      "cell_type": "markdown",
      "source": [
        "Realizando uma plotagem dos dados para amostragem: "
      ],
      "metadata": {
        "id": "XMTdtRWnMnAv"
      }
    },
    {
      "cell_type": "code",
      "source": [
        "%matplotlib inline"
      ],
      "metadata": {
        "id": "OZs3j_fkMt_3"
      },
      "execution_count": null,
      "outputs": []
    },
    {
      "cell_type": "code",
      "source": [
        "iris_df.plot.scatter('sepal length (cm)', 'sepal width (cm)', c='target')"
      ],
      "metadata": {
        "colab": {
          "base_uri": "https://localhost:8080/",
          "height": 275
        },
        "id": "aayjlgcxMxPf",
        "outputId": "122bd16b-15a1-49f8-9693-a9049f075717"
      },
      "execution_count": null,
      "outputs": [
        {
          "output_type": "execute_result",
          "data": {
            "text/plain": [
              "<matplotlib.axes._subplots.AxesSubplot at 0x7f475bc86310>"
            ]
          },
          "metadata": {},
          "execution_count": 88
        },
        {
          "output_type": "display_data",
          "data": {
            "text/plain": [
              "<Figure size 432x288 with 2 Axes>"
            ],
            "image/png": "[encoded data removed]"
          },
          "metadata": {
            "needs_background": "light"
          }
        }
      ]
    },
    {
      "cell_type": "markdown",
      "source": [
        "Executando o pré-processamento e dividindo os dados em teste e treinamento."
      ],
      "metadata": {
        "id": "ovFAsOAyo_3n"
      }
    },
    {
      "cell_type": "code",
      "source": [
        "import numpy as np\n",
        "from sklearn.model_selection import train_test_split"
      ],
      "metadata": {
        "id": "MFB5HmQbp3Zu"
      },
      "execution_count": null,
      "outputs": []
    },
    {
      "cell_type": "code",
      "source": [
        "X_train, X_test, y_train, y_test = train_test_split(X, y, test_size=0.30, random_state=42)"
      ],
      "metadata": {
        "id": "PnndfH8CpGsF"
      },
      "execution_count": null,
      "outputs": []
    },
    {
      "cell_type": "code",
      "source": [
        "X_train.shape"
      ],
      "metadata": {
        "colab": {
          "base_uri": "https://localhost:8080/"
        },
        "id": "3rEi8PDrqXnF",
        "outputId": "ed89c705-d1ed-4d8a-ebf9-eba67a230060"
      },
      "execution_count": null,
      "outputs": [
        {
          "output_type": "execute_result",
          "data": {
            "text/plain": [
              "(105, 4)"
            ]
          },
          "metadata": {},
          "execution_count": 96
        }
      ]
    },
    {
      "cell_type": "code",
      "source": [
        "X_test.shape"
      ],
      "metadata": {
        "colab": {
          "base_uri": "https://localhost:8080/"
        },
        "id": "rjwepSSYqf40",
        "outputId": "e769ad4a-0fae-4395-fad3-014a44ab5999"
      },
      "execution_count": null,
      "outputs": [
        {
          "output_type": "execute_result",
          "data": {
            "text/plain": [
              "(45, 4)"
            ]
          },
          "metadata": {},
          "execution_count": 97
        }
      ]
    },
    {
      "cell_type": "markdown",
      "source": [
        "# <b>Treinando a manipulação do dataset (Diabetes)</b>\n",
        "\n",
        "## Usando os exemplos do site da Scikit Learn\n",
        "\n",
        "- Diabetes:\n"
      ],
      "metadata": {
        "id": "V4mJ-dsQq30s"
      }
    },
    {
      "cell_type": "markdown",
      "source": [
        "Carregamento da biblioteca da iris"
      ],
      "metadata": {
        "id": "-ljZ6V98q30u"
      }
    },
    {
      "cell_type": "code",
      "source": [
        "from sklearn.datasets import load_diabetes"
      ],
      "metadata": {
        "id": "6WrqCdAJq30u"
      },
      "execution_count": null,
      "outputs": []
    },
    {
      "cell_type": "markdown",
      "source": [
        "Chamada e set dos valores dos dados"
      ],
      "metadata": {
        "id": "KAnGpYWZq30v"
      }
    },
    {
      "cell_type": "code",
      "source": [
        "diabetes = load_diabetes()\n",
        "diabetes.target[[10, 25, 50]]"
      ],
      "metadata": {
        "outputId": "cfe023ea-c6a5-49f1-d798-8ff3ed30d6a9",
        "colab": {
          "base_uri": "https://localhost:8080/"
        },
        "id": "nvlyk4lWq30v"
      },
      "execution_count": null,
      "outputs": [
        {
          "output_type": "execute_result",
          "data": {
            "text/plain": [
              "array([101., 202., 155.])"
            ]
          },
          "metadata": {},
          "execution_count": 132
        }
      ]
    },
    {
      "cell_type": "code",
      "source": [
        "list(diabetes.target_filename)"
      ],
      "metadata": {
        "id": "qJfezaK6q30v"
      },
      "execution_count": null,
      "outputs": []
    },
    {
      "cell_type": "markdown",
      "source": [
        "Mudança da passagem dos valores para uma notação da scikit learn:"
      ],
      "metadata": {
        "id": "jOBZzV0Uq30v"
      }
    },
    {
      "cell_type": "code",
      "source": [
        "X,y = load_diabetes(return_X_y=True)"
      ],
      "metadata": {
        "id": "C--Rl8ZVq30v"
      },
      "execution_count": null,
      "outputs": []
    },
    {
      "cell_type": "markdown",
      "source": [
        "Modificando os dados para uma visualização de dataframe usando o pandas:"
      ],
      "metadata": {
        "id": "yLPYlQEtq30v"
      }
    },
    {
      "cell_type": "markdown",
      "source": [
        "Importação da biblioteca de dataframe"
      ],
      "metadata": {
        "id": "qK9PBkITq30v"
      }
    },
    {
      "cell_type": "code",
      "source": [
        "import pandas as pd"
      ],
      "metadata": {
        "id": "bG4jWjcEq30v"
      },
      "execution_count": null,
      "outputs": []
    },
    {
      "cell_type": "markdown",
      "source": [
        "Definindo os valores para a tabela do dataframe da v=base de dados da iris."
      ],
      "metadata": {
        "id": "w666IQfLq30w"
      }
    },
    {
      "cell_type": "code",
      "source": [
        "diabetes_df = pd.DataFrame(data=diabetes.data, columns=diabetes.feature_names)"
      ],
      "metadata": {
        "id": "Whp6HfSMq30w"
      },
      "execution_count": null,
      "outputs": []
    },
    {
      "cell_type": "code",
      "source": [
        "diabetes_df"
      ],
      "metadata": {
        "outputId": "289aba88-8a69-4d13-b11f-80ac38e41cdd",
        "colab": {
          "base_uri": "https://localhost:8080/",
          "height": 424
        },
        "id": "w521EZbsq30w"
      },
      "execution_count": null,
      "outputs": [
        {
          "output_type": "execute_result",
          "data": {
            "text/plain": [
              "          age       sex       bmi        bp        s1        s2        s3  \\\n",
              "0    0.038076  0.050680  0.061696  0.021872 -0.044223 -0.034821 -0.043401   \n",
              "1   -0.001882 -0.044642 -0.051474 -0.026328 -0.008449 -0.019163  0.074412   \n",
              "2    0.085299  0.050680  0.044451 -0.005671 -0.045599 -0.034194 -0.032356   \n",
              "3   -0.089063 -0.044642 -0.011595 -0.036656  0.012191  0.024991 -0.036038   \n",
              "4    0.005383 -0.044642 -0.036385  0.021872  0.003935  0.015596  0.008142   \n",
              "..        ...       ...       ...       ...       ...       ...       ...   \n",
              "437  0.041708  0.050680  0.019662  0.059744 -0.005697 -0.002566 -0.028674   \n",
              "438 -0.005515  0.050680 -0.015906 -0.067642  0.049341  0.079165 -0.028674   \n",
              "439  0.041708  0.050680 -0.015906  0.017282 -0.037344 -0.013840 -0.024993   \n",
              "440 -0.045472 -0.044642  0.039062  0.001215  0.016318  0.015283 -0.028674   \n",
              "441 -0.045472 -0.044642 -0.073030 -0.081414  0.083740  0.027809  0.173816   \n",
              "\n",
              "           s4        s5        s6  target  \n",
              "0   -0.002592  0.019908 -0.017646   151.0  \n",
              "1   -0.039493 -0.068330 -0.092204    75.0  \n",
              "2   -0.002592  0.002864 -0.025930   141.0  \n",
              "3    0.034309  0.022692 -0.009362   206.0  \n",
              "4   -0.002592 -0.031991 -0.046641   135.0  \n",
              "..        ...       ...       ...     ...  \n",
              "437 -0.002592  0.031193  0.007207   178.0  \n",
              "438  0.034309 -0.018118  0.044485   104.0  \n",
              "439 -0.011080 -0.046879  0.015491   132.0  \n",
              "440  0.026560  0.044528 -0.025930   220.0  \n",
              "441 -0.039493 -0.004220  0.003064    57.0  \n",
              "\n",
              "[442 rows x 11 columns]"
            ],
            "text/html": [
              "\n",
              "  <div id=\"df-58648613-0295-46b2-a4e2-56b3562d5d2d\">\n",
              "    <div class=\"colab-df-container\">\n",
              "      <div>\n",
              "<style scoped>\n",
              "    .dataframe tbody tr th:only-of-type {\n",
              "        vertical-align: middle;\n",
              "    }\n",
              "\n",
              "    .dataframe tbody tr th {\n",
              "        vertical-align: top;\n",
              "    }\n",
              "\n",
              "    .dataframe thead th {\n",
              "        text-align: right;\n",
              "    }\n",
              "</style>\n",
              "<table border=\"1\" class=\"dataframe\">\n",
              "  <thead>\n",
              "    <tr style=\"text-align: right;\">\n",
              "      <th></th>\n",
              "      <th>age</th>\n",
              "      <th>sex</th>\n",
              "      <th>bmi</th>\n",
              "      <th>bp</th>\n",
              "      <th>s1</th>\n",
              "      <th>s2</th>\n",
              "      <th>s3</th>\n",
              "      <th>s4</th>\n",
              "      <th>s5</th>\n",
              "      <th>s6</th>\n",
              "      <th>target</th>\n",
              "    </tr>\n",
              "  </thead>\n",
              "  <tbody>\n",
              "    <tr>\n",
              "      <th>0</th>\n",
              "      <td>0.038076</td>\n",
              "      <td>0.050680</td>\n",
              "      <td>0.061696</td>\n",
              "      <td>0.021872</td>\n",
              "      <td>-0.044223</td>\n",
              "      <td>-0.034821</td>\n",
              "      <td>-0.043401</td>\n",
              "      <td>-0.002592</td>\n",
              "      <td>0.019908</td>\n",
              "      <td>-0.017646</td>\n",
              "      <td>151.0</td>\n",
              "    </tr>\n",
              "    <tr>\n",
              "      <th>1</th>\n",
              "      <td>-0.001882</td>\n",
              "      <td>-0.044642</td>\n",
              "      <td>-0.051474</td>\n",
              "      <td>-0.026328</td>\n",
              "      <td>-0.008449</td>\n",
              "      <td>-0.019163</td>\n",
              "      <td>0.074412</td>\n",
              "      <td>-0.039493</td>\n",
              "      <td>-0.068330</td>\n",
              "      <td>-0.092204</td>\n",
              "      <td>75.0</td>\n",
              "    </tr>\n",
              "    <tr>\n",
              "      <th>2</th>\n",
              "      <td>0.085299</td>\n",
              "      <td>0.050680</td>\n",
              "      <td>0.044451</td>\n",
              "      <td>-0.005671</td>\n",
              "      <td>-0.045599</td>\n",
              "      <td>-0.034194</td>\n",
              "      <td>-0.032356</td>\n",
              "      <td>-0.002592</td>\n",
              "      <td>0.002864</td>\n",
              "      <td>-0.025930</td>\n",
              "      <td>141.0</td>\n",
              "    </tr>\n",
              "    <tr>\n",
              "      <th>3</th>\n",
              "      <td>-0.089063</td>\n",
              "      <td>-0.044642</td>\n",
              "      <td>-0.011595</td>\n",
              "      <td>-0.036656</td>\n",
              "      <td>0.012191</td>\n",
              "      <td>0.024991</td>\n",
              "      <td>-0.036038</td>\n",
              "      <td>0.034309</td>\n",
              "      <td>0.022692</td>\n",
              "      <td>-0.009362</td>\n",
              "      <td>206.0</td>\n",
              "    </tr>\n",
              "    <tr>\n",
              "      <th>4</th>\n",
              "      <td>0.005383</td>\n",
              "      <td>-0.044642</td>\n",
              "      <td>-0.036385</td>\n",
              "      <td>0.021872</td>\n",
              "      <td>0.003935</td>\n",
              "      <td>0.015596</td>\n",
              "      <td>0.008142</td>\n",
              "      <td>-0.002592</td>\n",
              "      <td>-0.031991</td>\n",
              "      <td>-0.046641</td>\n",
              "      <td>135.0</td>\n",
              "    </tr>\n",
              "    <tr>\n",
              "      <th>...</th>\n",
              "      <td>...</td>\n",
              "      <td>...</td>\n",
              "      <td>...</td>\n",
              "      <td>...</td>\n",
              "      <td>...</td>\n",
              "      <td>...</td>\n",
              "      <td>...</td>\n",
              "      <td>...</td>\n",
              "      <td>...</td>\n",
              "      <td>...</td>\n",
              "      <td>...</td>\n",
              "    </tr>\n",
              "    <tr>\n",
              "      <th>437</th>\n",
              "      <td>0.041708</td>\n",
              "      <td>0.050680</td>\n",
              "      <td>0.019662</td>\n",
              "      <td>0.059744</td>\n",
              "      <td>-0.005697</td>\n",
              "      <td>-0.002566</td>\n",
              "      <td>-0.028674</td>\n",
              "      <td>-0.002592</td>\n",
              "      <td>0.031193</td>\n",
              "      <td>0.007207</td>\n",
              "      <td>178.0</td>\n",
              "    </tr>\n",
              "    <tr>\n",
              "      <th>438</th>\n",
              "      <td>-0.005515</td>\n",
              "      <td>0.050680</td>\n",
              "      <td>-0.015906</td>\n",
              "      <td>-0.067642</td>\n",
              "      <td>0.049341</td>\n",
              "      <td>0.079165</td>\n",
              "      <td>-0.028674</td>\n",
              "      <td>0.034309</td>\n",
              "      <td>-0.018118</td>\n",
              "      <td>0.044485</td>\n",
              "      <td>104.0</td>\n",
              "    </tr>\n",
              "    <tr>\n",
              "      <th>439</th>\n",
              "      <td>0.041708</td>\n",
              "      <td>0.050680</td>\n",
              "      <td>-0.015906</td>\n",
              "      <td>0.017282</td>\n",
              "      <td>-0.037344</td>\n",
              "      <td>-0.013840</td>\n",
              "      <td>-0.024993</td>\n",
              "      <td>-0.011080</td>\n",
              "      <td>-0.046879</td>\n",
              "      <td>0.015491</td>\n",
              "      <td>132.0</td>\n",
              "    </tr>\n",
              "    <tr>\n",
              "      <th>440</th>\n",
              "      <td>-0.045472</td>\n",
              "      <td>-0.044642</td>\n",
              "      <td>0.039062</td>\n",
              "      <td>0.001215</td>\n",
              "      <td>0.016318</td>\n",
              "      <td>0.015283</td>\n",
              "      <td>-0.028674</td>\n",
              "      <td>0.026560</td>\n",
              "      <td>0.044528</td>\n",
              "      <td>-0.025930</td>\n",
              "      <td>220.0</td>\n",
              "    </tr>\n",
              "    <tr>\n",
              "      <th>441</th>\n",
              "      <td>-0.045472</td>\n",
              "      <td>-0.044642</td>\n",
              "      <td>-0.073030</td>\n",
              "      <td>-0.081414</td>\n",
              "      <td>0.083740</td>\n",
              "      <td>0.027809</td>\n",
              "      <td>0.173816</td>\n",
              "      <td>-0.039493</td>\n",
              "      <td>-0.004220</td>\n",
              "      <td>0.003064</td>\n",
              "      <td>57.0</td>\n",
              "    </tr>\n",
              "  </tbody>\n",
              "</table>\n",
              "<p>442 rows × 11 columns</p>\n",
              "</div>\n",
              "      <button class=\"colab-df-convert\" onclick=\"convertToInteractive('df-58648613-0295-46b2-a4e2-56b3562d5d2d')\"\n",
              "              title=\"Convert this dataframe to an interactive table.\"\n",
              "              style=\"display:none;\">\n",
              "        \n",
              "  <svg xmlns=\"http://www.w3.org/2000/svg\" height=\"24px\"viewBox=\"0 0 24 24\"\n",
              "       width=\"24px\">\n",
              "    <path d=\"M0 0h24v24H0V0z\" fill=\"none\"/>\n",
              "    <path d=\"M18.56 5.44l.94 2.06.94-2.06 2.06-.94-2.06-.94-.94-2.06-.94 2.06-2.06.94zm-11 1L8.5 8.5l.94-2.06 2.06-.94-2.06-.94L8.5 2.5l-.94 2.06-2.06.94zm10 10l.94 2.06.94-2.06 2.06-.94-2.06-.94-.94-2.06-.94 2.06-2.06.94z\"/><path d=\"M17.41 7.96l-1.37-1.37c-.4-.4-.92-.59-1.43-.59-.52 0-1.04.2-1.43.59L10.3 9.45l-7.72 7.72c-.78.78-.78 2.05 0 2.83L4 21.41c.39.39.9.59 1.41.59.51 0 1.02-.2 1.41-.59l7.78-7.78 2.81-2.81c.8-.78.8-2.07 0-2.86zM5.41 20L4 18.59l7.72-7.72 1.47 1.35L5.41 20z\"/>\n",
              "  </svg>\n",
              "      </button>\n",
              "      \n",
              "  <style>\n",
              "    .colab-df-container {\n",
              "      display:flex;\n",
              "      flex-wrap:wrap;\n",
              "      gap: 12px;\n",
              "    }\n",
              "\n",
              "    .colab-df-convert {\n",
              "      background-color: #E8F0FE;\n",
              "      border: none;\n",
              "      border-radius: 50%;\n",
              "      cursor: pointer;\n",
              "      display: none;\n",
              "      fill: #1967D2;\n",
              "      height: 32px;\n",
              "      padding: 0 0 0 0;\n",
              "      width: 32px;\n",
              "    }\n",
              "\n",
              "    .colab-df-convert:hover {\n",
              "      background-color: #E2EBFA;\n",
              "      box-shadow: 0px 1px 2px rgba(60, 64, 67, 0.3), 0px 1px 3px 1px rgba(60, 64, 67, 0.15);\n",
              "      fill: #174EA6;\n",
              "    }\n",
              "\n",
              "    [theme=dark] .colab-df-convert {\n",
              "      background-color: #3B4455;\n",
              "      fill: #D2E3FC;\n",
              "    }\n",
              "\n",
              "    [theme=dark] .colab-df-convert:hover {\n",
              "      background-color: #434B5C;\n",
              "      box-shadow: 0px 1px 3px 1px rgba(0, 0, 0, 0.15);\n",
              "      filter: drop-shadow(0px 1px 2px rgba(0, 0, 0, 0.3));\n",
              "      fill: #FFFFFF;\n",
              "    }\n",
              "  </style>\n",
              "\n",
              "      <script>\n",
              "        const buttonEl =\n",
              "          document.querySelector('#df-58648613-0295-46b2-a4e2-56b3562d5d2d button.colab-df-convert');\n",
              "        buttonEl.style.display =\n",
              "          google.colab.kernel.accessAllowed ? 'block' : 'none';\n",
              "\n",
              "        async function convertToInteractive(key) {\n",
              "          const element = document.querySelector('#df-58648613-0295-46b2-a4e2-56b3562d5d2d');\n",
              "          const dataTable =\n",
              "            await google.colab.kernel.invokeFunction('convertToInteractive',\n",
              "                                                     [key], {});\n",
              "          if (!dataTable) return;\n",
              "\n",
              "          const docLinkHtml = 'Like what you see? Visit the ' +\n",
              "            '<a target=\"_blank\" href=https://colab.research.google.com/notebooks/data_table.ipynb>data table notebook</a>'\n",
              "            + ' to learn more about interactive tables.';\n",
              "          element.innerHTML = '';\n",
              "          dataTable['output_type'] = 'display_data';\n",
              "          await google.colab.output.renderOutput(dataTable, element);\n",
              "          const docLink = document.createElement('div');\n",
              "          docLink.innerHTML = docLinkHtml;\n",
              "          element.appendChild(docLink);\n",
              "        }\n",
              "      </script>\n",
              "    </div>\n",
              "  </div>\n",
              "  "
            ]
          },
          "metadata": {},
          "execution_count": 147
        }
      ]
    },
    {
      "cell_type": "markdown",
      "source": [
        "Adicionando uma nova coluna para a análise dos dados."
      ],
      "metadata": {
        "id": "oziyBsXnq30w"
      }
    },
    {
      "cell_type": "code",
      "source": [
        "diabetes_df['target'] = diabetes.target"
      ],
      "metadata": {
        "id": "Xz2kL84Zq30w"
      },
      "execution_count": null,
      "outputs": []
    },
    {
      "cell_type": "code",
      "source": [
        "diabetes_df.head()"
      ],
      "metadata": {
        "outputId": "6276a9eb-2ab4-45a2-8d77-5968f5557e52",
        "colab": {
          "base_uri": "https://localhost:8080/",
          "height": 206
        },
        "id": "zQOvFvqgq30w"
      },
      "execution_count": null,
      "outputs": [
        {
          "output_type": "execute_result",
          "data": {
            "text/plain": [
              "        age       sex       bmi        bp        s1        s2        s3  \\\n",
              "0  0.038076  0.050680  0.061696  0.021872 -0.044223 -0.034821 -0.043401   \n",
              "1 -0.001882 -0.044642 -0.051474 -0.026328 -0.008449 -0.019163  0.074412   \n",
              "2  0.085299  0.050680  0.044451 -0.005671 -0.045599 -0.034194 -0.032356   \n",
              "3 -0.089063 -0.044642 -0.011595 -0.036656  0.012191  0.024991 -0.036038   \n",
              "4  0.005383 -0.044642 -0.036385  0.021872  0.003935  0.015596  0.008142   \n",
              "\n",
              "         s4        s5        s6  target  \n",
              "0 -0.002592  0.019908 -0.017646   151.0  \n",
              "1 -0.039493 -0.068330 -0.092204    75.0  \n",
              "2 -0.002592  0.002864 -0.025930   141.0  \n",
              "3  0.034309  0.022692 -0.009362   206.0  \n",
              "4 -0.002592 -0.031991 -0.046641   135.0  "
            ],
            "text/html": [
              "\n",
              "  <div id=\"df-ce513341-1036-4113-815c-3c86bedc9ebb\">\n",
              "    <div class=\"colab-df-container\">\n",
              "      <div>\n",
              "<style scoped>\n",
              "    .dataframe tbody tr th:only-of-type {\n",
              "        vertical-align: middle;\n",
              "    }\n",
              "\n",
              "    .dataframe tbody tr th {\n",
              "        vertical-align: top;\n",
              "    }\n",
              "\n",
              "    .dataframe thead th {\n",
              "        text-align: right;\n",
              "    }\n",
              "</style>\n",
              "<table border=\"1\" class=\"dataframe\">\n",
              "  <thead>\n",
              "    <tr style=\"text-align: right;\">\n",
              "      <th></th>\n",
              "      <th>age</th>\n",
              "      <th>sex</th>\n",
              "      <th>bmi</th>\n",
              "      <th>bp</th>\n",
              "      <th>s1</th>\n",
              "      <th>s2</th>\n",
              "      <th>s3</th>\n",
              "      <th>s4</th>\n",
              "      <th>s5</th>\n",
              "      <th>s6</th>\n",
              "      <th>target</th>\n",
              "    </tr>\n",
              "  </thead>\n",
              "  <tbody>\n",
              "    <tr>\n",
              "      <th>0</th>\n",
              "      <td>0.038076</td>\n",
              "      <td>0.050680</td>\n",
              "      <td>0.061696</td>\n",
              "      <td>0.021872</td>\n",
              "      <td>-0.044223</td>\n",
              "      <td>-0.034821</td>\n",
              "      <td>-0.043401</td>\n",
              "      <td>-0.002592</td>\n",
              "      <td>0.019908</td>\n",
              "      <td>-0.017646</td>\n",
              "      <td>151.0</td>\n",
              "    </tr>\n",
              "    <tr>\n",
              "      <th>1</th>\n",
              "      <td>-0.001882</td>\n",
              "      <td>-0.044642</td>\n",
              "      <td>-0.051474</td>\n",
              "      <td>-0.026328</td>\n",
              "      <td>-0.008449</td>\n",
              "      <td>-0.019163</td>\n",
              "      <td>0.074412</td>\n",
              "      <td>-0.039493</td>\n",
              "      <td>-0.068330</td>\n",
              "      <td>-0.092204</td>\n",
              "      <td>75.0</td>\n",
              "    </tr>\n",
              "    <tr>\n",
              "      <th>2</th>\n",
              "      <td>0.085299</td>\n",
              "      <td>0.050680</td>\n",
              "      <td>0.044451</td>\n",
              "      <td>-0.005671</td>\n",
              "      <td>-0.045599</td>\n",
              "      <td>-0.034194</td>\n",
              "      <td>-0.032356</td>\n",
              "      <td>-0.002592</td>\n",
              "      <td>0.002864</td>\n",
              "      <td>-0.025930</td>\n",
              "      <td>141.0</td>\n",
              "    </tr>\n",
              "    <tr>\n",
              "      <th>3</th>\n",
              "      <td>-0.089063</td>\n",
              "      <td>-0.044642</td>\n",
              "      <td>-0.011595</td>\n",
              "      <td>-0.036656</td>\n",
              "      <td>0.012191</td>\n",
              "      <td>0.024991</td>\n",
              "      <td>-0.036038</td>\n",
              "      <td>0.034309</td>\n",
              "      <td>0.022692</td>\n",
              "      <td>-0.009362</td>\n",
              "      <td>206.0</td>\n",
              "    </tr>\n",
              "    <tr>\n",
              "      <th>4</th>\n",
              "      <td>0.005383</td>\n",
              "      <td>-0.044642</td>\n",
              "      <td>-0.036385</td>\n",
              "      <td>0.021872</td>\n",
              "      <td>0.003935</td>\n",
              "      <td>0.015596</td>\n",
              "      <td>0.008142</td>\n",
              "      <td>-0.002592</td>\n",
              "      <td>-0.031991</td>\n",
              "      <td>-0.046641</td>\n",
              "      <td>135.0</td>\n",
              "    </tr>\n",
              "  </tbody>\n",
              "</table>\n",
              "</div>\n",
              "      <button class=\"colab-df-convert\" onclick=\"convertToInteractive('df-ce513341-1036-4113-815c-3c86bedc9ebb')\"\n",
              "              title=\"Convert this dataframe to an interactive table.\"\n",
              "              style=\"display:none;\">\n",
              "        \n",
              "  <svg xmlns=\"http://www.w3.org/2000/svg\" height=\"24px\"viewBox=\"0 0 24 24\"\n",
              "       width=\"24px\">\n",
              "    <path d=\"M0 0h24v24H0V0z\" fill=\"none\"/>\n",
              "    <path d=\"M18.56 5.44l.94 2.06.94-2.06 2.06-.94-2.06-.94-.94-2.06-.94 2.06-2.06.94zm-11 1L8.5 8.5l.94-2.06 2.06-.94-2.06-.94L8.5 2.5l-.94 2.06-2.06.94zm10 10l.94 2.06.94-2.06 2.06-.94-2.06-.94-.94-2.06-.94 2.06-2.06.94z\"/><path d=\"M17.41 7.96l-1.37-1.37c-.4-.4-.92-.59-1.43-.59-.52 0-1.04.2-1.43.59L10.3 9.45l-7.72 7.72c-.78.78-.78 2.05 0 2.83L4 21.41c.39.39.9.59 1.41.59.51 0 1.02-.2 1.41-.59l7.78-7.78 2.81-2.81c.8-.78.8-2.07 0-2.86zM5.41 20L4 18.59l7.72-7.72 1.47 1.35L5.41 20z\"/>\n",
              "  </svg>\n",
              "      </button>\n",
              "      \n",
              "  <style>\n",
              "    .colab-df-container {\n",
              "      display:flex;\n",
              "      flex-wrap:wrap;\n",
              "      gap: 12px;\n",
              "    }\n",
              "\n",
              "    .colab-df-convert {\n",
              "      background-color: #E8F0FE;\n",
              "      border: none;\n",
              "      border-radius: 50%;\n",
              "      cursor: pointer;\n",
              "      display: none;\n",
              "      fill: #1967D2;\n",
              "      height: 32px;\n",
              "      padding: 0 0 0 0;\n",
              "      width: 32px;\n",
              "    }\n",
              "\n",
              "    .colab-df-convert:hover {\n",
              "      background-color: #E2EBFA;\n",
              "      box-shadow: 0px 1px 2px rgba(60, 64, 67, 0.3), 0px 1px 3px 1px rgba(60, 64, 67, 0.15);\n",
              "      fill: #174EA6;\n",
              "    }\n",
              "\n",
              "    [theme=dark] .colab-df-convert {\n",
              "      background-color: #3B4455;\n",
              "      fill: #D2E3FC;\n",
              "    }\n",
              "\n",
              "    [theme=dark] .colab-df-convert:hover {\n",
              "      background-color: #434B5C;\n",
              "      box-shadow: 0px 1px 3px 1px rgba(0, 0, 0, 0.15);\n",
              "      filter: drop-shadow(0px 1px 2px rgba(0, 0, 0, 0.3));\n",
              "      fill: #FFFFFF;\n",
              "    }\n",
              "  </style>\n",
              "\n",
              "      <script>\n",
              "        const buttonEl =\n",
              "          document.querySelector('#df-ce513341-1036-4113-815c-3c86bedc9ebb button.colab-df-convert');\n",
              "        buttonEl.style.display =\n",
              "          google.colab.kernel.accessAllowed ? 'block' : 'none';\n",
              "\n",
              "        async function convertToInteractive(key) {\n",
              "          const element = document.querySelector('#df-ce513341-1036-4113-815c-3c86bedc9ebb');\n",
              "          const dataTable =\n",
              "            await google.colab.kernel.invokeFunction('convertToInteractive',\n",
              "                                                     [key], {});\n",
              "          if (!dataTable) return;\n",
              "\n",
              "          const docLinkHtml = 'Like what you see? Visit the ' +\n",
              "            '<a target=\"_blank\" href=https://colab.research.google.com/notebooks/data_table.ipynb>data table notebook</a>'\n",
              "            + ' to learn more about interactive tables.';\n",
              "          element.innerHTML = '';\n",
              "          dataTable['output_type'] = 'display_data';\n",
              "          await google.colab.output.renderOutput(dataTable, element);\n",
              "          const docLink = document.createElement('div');\n",
              "          docLink.innerHTML = docLinkHtml;\n",
              "          element.appendChild(docLink);\n",
              "        }\n",
              "      </script>\n",
              "    </div>\n",
              "  </div>\n",
              "  "
            ]
          },
          "metadata": {},
          "execution_count": 139
        }
      ]
    },
    {
      "cell_type": "markdown",
      "source": [
        "Definindo uma nova amostragem na tabela pra mostrar os nomes dos tipos das amostras."
      ],
      "metadata": {
        "id": "k-YeaIIRq30w"
      }
    },
    {
      "cell_type": "code",
      "source": [
        "# diabetes_df['target filename'] = pd.Categorical.from_codes(diabetes.target, diabetes.target_filename)"
      ],
      "metadata": {
        "id": "aSBfOtO1q30w"
      },
      "execution_count": null,
      "outputs": []
    },
    {
      "cell_type": "code",
      "source": [
        "diabetes_df.head()"
      ],
      "metadata": {
        "outputId": "820da69b-0013-4f2f-a511-f7376d821832",
        "colab": {
          "base_uri": "https://localhost:8080/",
          "height": 206
        },
        "id": "EP0r7g-mq30w"
      },
      "execution_count": null,
      "outputs": [
        {
          "output_type": "execute_result",
          "data": {
            "text/plain": [
              "        age       sex       bmi        bp        s1        s2        s3  \\\n",
              "0  0.038076  0.050680  0.061696  0.021872 -0.044223 -0.034821 -0.043401   \n",
              "1 -0.001882 -0.044642 -0.051474 -0.026328 -0.008449 -0.019163  0.074412   \n",
              "2  0.085299  0.050680  0.044451 -0.005671 -0.045599 -0.034194 -0.032356   \n",
              "3 -0.089063 -0.044642 -0.011595 -0.036656  0.012191  0.024991 -0.036038   \n",
              "4  0.005383 -0.044642 -0.036385  0.021872  0.003935  0.015596  0.008142   \n",
              "\n",
              "         s4        s5        s6  target  \n",
              "0 -0.002592  0.019908 -0.017646   151.0  \n",
              "1 -0.039493 -0.068330 -0.092204    75.0  \n",
              "2 -0.002592  0.002864 -0.025930   141.0  \n",
              "3  0.034309  0.022692 -0.009362   206.0  \n",
              "4 -0.002592 -0.031991 -0.046641   135.0  "
            ],
            "text/html": [
              "\n",
              "  <div id=\"df-7fd8152c-345c-469a-9cf6-b782d736df74\">\n",
              "    <div class=\"colab-df-container\">\n",
              "      <div>\n",
              "<style scoped>\n",
              "    .dataframe tbody tr th:only-of-type {\n",
              "        vertical-align: middle;\n",
              "    }\n",
              "\n",
              "    .dataframe tbody tr th {\n",
              "        vertical-align: top;\n",
              "    }\n",
              "\n",
              "    .dataframe thead th {\n",
              "        text-align: right;\n",
              "    }\n",
              "</style>\n",
              "<table border=\"1\" class=\"dataframe\">\n",
              "  <thead>\n",
              "    <tr style=\"text-align: right;\">\n",
              "      <th></th>\n",
              "      <th>age</th>\n",
              "      <th>sex</th>\n",
              "      <th>bmi</th>\n",
              "      <th>bp</th>\n",
              "      <th>s1</th>\n",
              "      <th>s2</th>\n",
              "      <th>s3</th>\n",
              "      <th>s4</th>\n",
              "      <th>s5</th>\n",
              "      <th>s6</th>\n",
              "      <th>target</th>\n",
              "    </tr>\n",
              "  </thead>\n",
              "  <tbody>\n",
              "    <tr>\n",
              "      <th>0</th>\n",
              "      <td>0.038076</td>\n",
              "      <td>0.050680</td>\n",
              "      <td>0.061696</td>\n",
              "      <td>0.021872</td>\n",
              "      <td>-0.044223</td>\n",
              "      <td>-0.034821</td>\n",
              "      <td>-0.043401</td>\n",
              "      <td>-0.002592</td>\n",
              "      <td>0.019908</td>\n",
              "      <td>-0.017646</td>\n",
              "      <td>151.0</td>\n",
              "    </tr>\n",
              "    <tr>\n",
              "      <th>1</th>\n",
              "      <td>-0.001882</td>\n",
              "      <td>-0.044642</td>\n",
              "      <td>-0.051474</td>\n",
              "      <td>-0.026328</td>\n",
              "      <td>-0.008449</td>\n",
              "      <td>-0.019163</td>\n",
              "      <td>0.074412</td>\n",
              "      <td>-0.039493</td>\n",
              "      <td>-0.068330</td>\n",
              "      <td>-0.092204</td>\n",
              "      <td>75.0</td>\n",
              "    </tr>\n",
              "    <tr>\n",
              "      <th>2</th>\n",
              "      <td>0.085299</td>\n",
              "      <td>0.050680</td>\n",
              "      <td>0.044451</td>\n",
              "      <td>-0.005671</td>\n",
              "      <td>-0.045599</td>\n",
              "      <td>-0.034194</td>\n",
              "      <td>-0.032356</td>\n",
              "      <td>-0.002592</td>\n",
              "      <td>0.002864</td>\n",
              "      <td>-0.025930</td>\n",
              "      <td>141.0</td>\n",
              "    </tr>\n",
              "    <tr>\n",
              "      <th>3</th>\n",
              "      <td>-0.089063</td>\n",
              "      <td>-0.044642</td>\n",
              "      <td>-0.011595</td>\n",
              "      <td>-0.036656</td>\n",
              "      <td>0.012191</td>\n",
              "      <td>0.024991</td>\n",
              "      <td>-0.036038</td>\n",
              "      <td>0.034309</td>\n",
              "      <td>0.022692</td>\n",
              "      <td>-0.009362</td>\n",
              "      <td>206.0</td>\n",
              "    </tr>\n",
              "    <tr>\n",
              "      <th>4</th>\n",
              "      <td>0.005383</td>\n",
              "      <td>-0.044642</td>\n",
              "      <td>-0.036385</td>\n",
              "      <td>0.021872</td>\n",
              "      <td>0.003935</td>\n",
              "      <td>0.015596</td>\n",
              "      <td>0.008142</td>\n",
              "      <td>-0.002592</td>\n",
              "      <td>-0.031991</td>\n",
              "      <td>-0.046641</td>\n",
              "      <td>135.0</td>\n",
              "    </tr>\n",
              "  </tbody>\n",
              "</table>\n",
              "</div>\n",
              "      <button class=\"colab-df-convert\" onclick=\"convertToInteractive('df-7fd8152c-345c-469a-9cf6-b782d736df74')\"\n",
              "              title=\"Convert this dataframe to an interactive table.\"\n",
              "              style=\"display:none;\">\n",
              "        \n",
              "  <svg xmlns=\"http://www.w3.org/2000/svg\" height=\"24px\"viewBox=\"0 0 24 24\"\n",
              "       width=\"24px\">\n",
              "    <path d=\"M0 0h24v24H0V0z\" fill=\"none\"/>\n",
              "    <path d=\"M18.56 5.44l.94 2.06.94-2.06 2.06-.94-2.06-.94-.94-2.06-.94 2.06-2.06.94zm-11 1L8.5 8.5l.94-2.06 2.06-.94-2.06-.94L8.5 2.5l-.94 2.06-2.06.94zm10 10l.94 2.06.94-2.06 2.06-.94-2.06-.94-.94-2.06-.94 2.06-2.06.94z\"/><path d=\"M17.41 7.96l-1.37-1.37c-.4-.4-.92-.59-1.43-.59-.52 0-1.04.2-1.43.59L10.3 9.45l-7.72 7.72c-.78.78-.78 2.05 0 2.83L4 21.41c.39.39.9.59 1.41.59.51 0 1.02-.2 1.41-.59l7.78-7.78 2.81-2.81c.8-.78.8-2.07 0-2.86zM5.41 20L4 18.59l7.72-7.72 1.47 1.35L5.41 20z\"/>\n",
              "  </svg>\n",
              "      </button>\n",
              "      \n",
              "  <style>\n",
              "    .colab-df-container {\n",
              "      display:flex;\n",
              "      flex-wrap:wrap;\n",
              "      gap: 12px;\n",
              "    }\n",
              "\n",
              "    .colab-df-convert {\n",
              "      background-color: #E8F0FE;\n",
              "      border: none;\n",
              "      border-radius: 50%;\n",
              "      cursor: pointer;\n",
              "      display: none;\n",
              "      fill: #1967D2;\n",
              "      height: 32px;\n",
              "      padding: 0 0 0 0;\n",
              "      width: 32px;\n",
              "    }\n",
              "\n",
              "    .colab-df-convert:hover {\n",
              "      background-color: #E2EBFA;\n",
              "      box-shadow: 0px 1px 2px rgba(60, 64, 67, 0.3), 0px 1px 3px 1px rgba(60, 64, 67, 0.15);\n",
              "      fill: #174EA6;\n",
              "    }\n",
              "\n",
              "    [theme=dark] .colab-df-convert {\n",
              "      background-color: #3B4455;\n",
              "      fill: #D2E3FC;\n",
              "    }\n",
              "\n",
              "    [theme=dark] .colab-df-convert:hover {\n",
              "      background-color: #434B5C;\n",
              "      box-shadow: 0px 1px 3px 1px rgba(0, 0, 0, 0.15);\n",
              "      filter: drop-shadow(0px 1px 2px rgba(0, 0, 0, 0.3));\n",
              "      fill: #FFFFFF;\n",
              "    }\n",
              "  </style>\n",
              "\n",
              "      <script>\n",
              "        const buttonEl =\n",
              "          document.querySelector('#df-7fd8152c-345c-469a-9cf6-b782d736df74 button.colab-df-convert');\n",
              "        buttonEl.style.display =\n",
              "          google.colab.kernel.accessAllowed ? 'block' : 'none';\n",
              "\n",
              "        async function convertToInteractive(key) {\n",
              "          const element = document.querySelector('#df-7fd8152c-345c-469a-9cf6-b782d736df74');\n",
              "          const dataTable =\n",
              "            await google.colab.kernel.invokeFunction('convertToInteractive',\n",
              "                                                     [key], {});\n",
              "          if (!dataTable) return;\n",
              "\n",
              "          const docLinkHtml = 'Like what you see? Visit the ' +\n",
              "            '<a target=\"_blank\" href=https://colab.research.google.com/notebooks/data_table.ipynb>data table notebook</a>'\n",
              "            + ' to learn more about interactive tables.';\n",
              "          element.innerHTML = '';\n",
              "          dataTable['output_type'] = 'display_data';\n",
              "          await google.colab.output.renderOutput(dataTable, element);\n",
              "          const docLink = document.createElement('div');\n",
              "          docLink.innerHTML = docLinkHtml;\n",
              "          element.appendChild(docLink);\n",
              "        }\n",
              "      </script>\n",
              "    </div>\n",
              "  </div>\n",
              "  "
            ]
          },
          "metadata": {},
          "execution_count": 146
        }
      ]
    },
    {
      "cell_type": "markdown",
      "source": [
        "Realizando uma plotagem dos dados para amostragem: "
      ],
      "metadata": {
        "id": "-55AIEIxq30w"
      }
    },
    {
      "cell_type": "code",
      "source": [
        "%matplotlib inline"
      ],
      "metadata": {
        "id": "pT1LYg2Yq30x"
      },
      "execution_count": null,
      "outputs": []
    },
    {
      "cell_type": "code",
      "source": [
        "# diabetes_df.plot.scatter('sepal length (cm)', 'sepal width (cm)')"
      ],
      "metadata": {
        "id": "SND-Y1PPq30x"
      },
      "execution_count": null,
      "outputs": []
    },
    {
      "cell_type": "markdown",
      "source": [
        "Executando o pré-processamento e dividindo os dados em teste e treinamento."
      ],
      "metadata": {
        "id": "eDJF9lkBq30x"
      }
    },
    {
      "cell_type": "code",
      "source": [
        "import numpy as np\n",
        "from sklearn.model_selection import train_test_split"
      ],
      "metadata": {
        "id": "1fa5_ui-q30x"
      },
      "execution_count": null,
      "outputs": []
    },
    {
      "cell_type": "code",
      "source": [
        "X_train, X_test, y_train, y_test = train_test_split(X, y, test_size=0.30, random_state=42)"
      ],
      "metadata": {
        "id": "aN5gMbK1q30x"
      },
      "execution_count": null,
      "outputs": []
    },
    {
      "cell_type": "code",
      "source": [
        "X_train.shape"
      ],
      "metadata": {
        "outputId": "b277e78f-821b-4b17-83e3-8d1b4019169d",
        "colab": {
          "base_uri": "https://localhost:8080/"
        },
        "id": "0_meGjEnq30x"
      },
      "execution_count": null,
      "outputs": [
        {
          "output_type": "execute_result",
          "data": {
            "text/plain": [
              "(124, 13)"
            ]
          },
          "metadata": {},
          "execution_count": 187
        }
      ]
    },
    {
      "cell_type": "code",
      "source": [
        "X_test.shape"
      ],
      "metadata": {
        "outputId": "fea48a87-709b-4b50-ab8c-836eb5aff048",
        "colab": {
          "base_uri": "https://localhost:8080/"
        },
        "id": "uWCE4FScq30x"
      },
      "execution_count": null,
      "outputs": [
        {
          "output_type": "execute_result",
          "data": {
            "text/plain": [
              "(54, 13)"
            ]
          },
          "metadata": {},
          "execution_count": 188
        }
      ]
    },
    {
      "cell_type": "markdown",
      "source": [
        "# <b>Treinando a manipulação do dataset (WINE)</b>\n",
        "\n",
        "## Usando os exemplos do site da Scikit Learn\n",
        "\n",
        "- WINE:\n"
      ],
      "metadata": {
        "id": "8dVbmvuE00Po"
      }
    },
    {
      "cell_type": "markdown",
      "source": [
        "Carregamento da biblioteca da iris"
      ],
      "metadata": {
        "id": "gS-aqgOQ00Po"
      }
    },
    {
      "cell_type": "code",
      "source": [
        "from sklearn.datasets import load_wine"
      ],
      "metadata": {
        "id": "b1XeJuND00Po"
      },
      "execution_count": null,
      "outputs": []
    },
    {
      "cell_type": "markdown",
      "source": [
        "Chamada e set dos valores dos dados"
      ],
      "metadata": {
        "id": "tQNEztOA00Pp"
      }
    },
    {
      "cell_type": "code",
      "source": [
        "dataWine = load_wine()\n",
        "dataWine.target[[10, 25, 50]]"
      ],
      "metadata": {
        "colab": {
          "base_uri": "https://localhost:8080/"
        },
        "outputId": "1cc248a5-d83b-475a-c9af-96e00e69157d",
        "id": "LIZbJSZW00Pp"
      },
      "execution_count": null,
      "outputs": [
        {
          "output_type": "execute_result",
          "data": {
            "text/plain": [
              "array([0, 0, 0])"
            ]
          },
          "metadata": {},
          "execution_count": 167
        }
      ]
    },
    {
      "cell_type": "code",
      "source": [
        "list(dataWine.target_names)"
      ],
      "metadata": {
        "colab": {
          "base_uri": "https://localhost:8080/"
        },
        "outputId": "30547386-fcf4-4c98-ab1d-1b33fab4dcb1",
        "id": "ZHOFnUFk00Pp"
      },
      "execution_count": null,
      "outputs": [
        {
          "output_type": "execute_result",
          "data": {
            "text/plain": [
              "['class_0', 'class_1', 'class_2']"
            ]
          },
          "metadata": {},
          "execution_count": 168
        }
      ]
    },
    {
      "cell_type": "markdown",
      "source": [
        "Mudança da passagem dos valores para uma notação da scikit learn:"
      ],
      "metadata": {
        "id": "SEmWUUWp00Pp"
      }
    },
    {
      "cell_type": "code",
      "source": [
        "X,y = load_wine(return_X_y=True)"
      ],
      "metadata": {
        "id": "yzBsqtco00Pp"
      },
      "execution_count": null,
      "outputs": []
    },
    {
      "cell_type": "markdown",
      "source": [
        "Modificando os dados para uma visualização de dataframe usando o pandas:"
      ],
      "metadata": {
        "id": "Kye1tr-c00Pp"
      }
    },
    {
      "cell_type": "markdown",
      "source": [
        "Importação da biblioteca de dataframe"
      ],
      "metadata": {
        "id": "nq3tMYbp00Pp"
      }
    },
    {
      "cell_type": "code",
      "source": [
        "import pandas as pd"
      ],
      "metadata": {
        "id": "MDhUIRwD00Pq"
      },
      "execution_count": null,
      "outputs": []
    },
    {
      "cell_type": "markdown",
      "source": [
        "Definindo os valores para a tabela do dataframe da v=base de dados da iris."
      ],
      "metadata": {
        "id": "Rnnd5gBS00Pq"
      }
    },
    {
      "cell_type": "code",
      "source": [
        "dataWine_df = pd.DataFrame(data=dataWine.data, columns=dataWine.feature_names)"
      ],
      "metadata": {
        "id": "_X0WIv3B00Pq"
      },
      "execution_count": null,
      "outputs": []
    },
    {
      "cell_type": "code",
      "source": [
        "dataWine_df"
      ],
      "metadata": {
        "colab": {
          "base_uri": "https://localhost:8080/",
          "height": 488
        },
        "outputId": "00a0743b-9689-49f0-950a-ca9eeba3588e",
        "id": "hZRrTONd00Pq"
      },
      "execution_count": null,
      "outputs": [
        {
          "output_type": "execute_result",
          "data": {
            "text/plain": [
              "     alcohol  malic_acid   ash  alcalinity_of_ash  magnesium  total_phenols  \\\n",
              "0      14.23        1.71  2.43               15.6      127.0           2.80   \n",
              "1      13.20        1.78  2.14               11.2      100.0           2.65   \n",
              "2      13.16        2.36  2.67               18.6      101.0           2.80   \n",
              "3      14.37        1.95  2.50               16.8      113.0           3.85   \n",
              "4      13.24        2.59  2.87               21.0      118.0           2.80   \n",
              "..       ...         ...   ...                ...        ...            ...   \n",
              "173    13.71        5.65  2.45               20.5       95.0           1.68   \n",
              "174    13.40        3.91  2.48               23.0      102.0           1.80   \n",
              "175    13.27        4.28  2.26               20.0      120.0           1.59   \n",
              "176    13.17        2.59  2.37               20.0      120.0           1.65   \n",
              "177    14.13        4.10  2.74               24.5       96.0           2.05   \n",
              "\n",
              "     flavanoids  nonflavanoid_phenols  proanthocyanins  color_intensity   hue  \\\n",
              "0          3.06                  0.28             2.29             5.64  1.04   \n",
              "1          2.76                  0.26             1.28             4.38  1.05   \n",
              "2          3.24                  0.30             2.81             5.68  1.03   \n",
              "3          3.49                  0.24             2.18             7.80  0.86   \n",
              "4          2.69                  0.39             1.82             4.32  1.04   \n",
              "..          ...                   ...              ...              ...   ...   \n",
              "173        0.61                  0.52             1.06             7.70  0.64   \n",
              "174        0.75                  0.43             1.41             7.30  0.70   \n",
              "175        0.69                  0.43             1.35            10.20  0.59   \n",
              "176        0.68                  0.53             1.46             9.30  0.60   \n",
              "177        0.76                  0.56             1.35             9.20  0.61   \n",
              "\n",
              "     od280/od315_of_diluted_wines  proline  \n",
              "0                            3.92   1065.0  \n",
              "1                            3.40   1050.0  \n",
              "2                            3.17   1185.0  \n",
              "3                            3.45   1480.0  \n",
              "4                            2.93    735.0  \n",
              "..                            ...      ...  \n",
              "173                          1.74    740.0  \n",
              "174                          1.56    750.0  \n",
              "175                          1.56    835.0  \n",
              "176                          1.62    840.0  \n",
              "177                          1.60    560.0  \n",
              "\n",
              "[178 rows x 13 columns]"
            ],
            "text/html": [
              "\n",
              "  <div id=\"df-9ae3f002-a1f8-4879-903a-2eba49ef0520\">\n",
              "    <div class=\"colab-df-container\">\n",
              "      <div>\n",
              "<style scoped>\n",
              "    .dataframe tbody tr th:only-of-type {\n",
              "        vertical-align: middle;\n",
              "    }\n",
              "\n",
              "    .dataframe tbody tr th {\n",
              "        vertical-align: top;\n",
              "    }\n",
              "\n",
              "    .dataframe thead th {\n",
              "        text-align: right;\n",
              "    }\n",
              "</style>\n",
              "<table border=\"1\" class=\"dataframe\">\n",
              "  <thead>\n",
              "    <tr style=\"text-align: right;\">\n",
              "      <th></th>\n",
              "      <th>alcohol</th>\n",
              "      <th>malic_acid</th>\n",
              "      <th>ash</th>\n",
              "      <th>alcalinity_of_ash</th>\n",
              "      <th>magnesium</th>\n",
              "      <th>total_phenols</th>\n",
              "      <th>flavanoids</th>\n",
              "      <th>nonflavanoid_phenols</th>\n",
              "      <th>proanthocyanins</th>\n",
              "      <th>color_intensity</th>\n",
              "      <th>hue</th>\n",
              "      <th>od280/od315_of_diluted_wines</th>\n",
              "      <th>proline</th>\n",
              "    </tr>\n",
              "  </thead>\n",
              "  <tbody>\n",
              "    <tr>\n",
              "      <th>0</th>\n",
              "      <td>14.23</td>\n",
              "      <td>1.71</td>\n",
              "      <td>2.43</td>\n",
              "      <td>15.6</td>\n",
              "      <td>127.0</td>\n",
              "      <td>2.80</td>\n",
              "      <td>3.06</td>\n",
              "      <td>0.28</td>\n",
              "      <td>2.29</td>\n",
              "      <td>5.64</td>\n",
              "      <td>1.04</td>\n",
              "      <td>3.92</td>\n",
              "      <td>1065.0</td>\n",
              "    </tr>\n",
              "    <tr>\n",
              "      <th>1</th>\n",
              "      <td>13.20</td>\n",
              "      <td>1.78</td>\n",
              "      <td>2.14</td>\n",
              "      <td>11.2</td>\n",
              "      <td>100.0</td>\n",
              "      <td>2.65</td>\n",
              "      <td>2.76</td>\n",
              "      <td>0.26</td>\n",
              "      <td>1.28</td>\n",
              "      <td>4.38</td>\n",
              "      <td>1.05</td>\n",
              "      <td>3.40</td>\n",
              "      <td>1050.0</td>\n",
              "    </tr>\n",
              "    <tr>\n",
              "      <th>2</th>\n",
              "      <td>13.16</td>\n",
              "      <td>2.36</td>\n",
              "      <td>2.67</td>\n",
              "      <td>18.6</td>\n",
              "      <td>101.0</td>\n",
              "      <td>2.80</td>\n",
              "      <td>3.24</td>\n",
              "      <td>0.30</td>\n",
              "      <td>2.81</td>\n",
              "      <td>5.68</td>\n",
              "      <td>1.03</td>\n",
              "      <td>3.17</td>\n",
              "      <td>1185.0</td>\n",
              "    </tr>\n",
              "    <tr>\n",
              "      <th>3</th>\n",
              "      <td>14.37</td>\n",
              "      <td>1.95</td>\n",
              "      <td>2.50</td>\n",
              "      <td>16.8</td>\n",
              "      <td>113.0</td>\n",
              "      <td>3.85</td>\n",
              "      <td>3.49</td>\n",
              "      <td>0.24</td>\n",
              "      <td>2.18</td>\n",
              "      <td>7.80</td>\n",
              "      <td>0.86</td>\n",
              "      <td>3.45</td>\n",
              "      <td>1480.0</td>\n",
              "    </tr>\n",
              "    <tr>\n",
              "      <th>4</th>\n",
              "      <td>13.24</td>\n",
              "      <td>2.59</td>\n",
              "      <td>2.87</td>\n",
              "      <td>21.0</td>\n",
              "      <td>118.0</td>\n",
              "      <td>2.80</td>\n",
              "      <td>2.69</td>\n",
              "      <td>0.39</td>\n",
              "      <td>1.82</td>\n",
              "      <td>4.32</td>\n",
              "      <td>1.04</td>\n",
              "      <td>2.93</td>\n",
              "      <td>735.0</td>\n",
              "    </tr>\n",
              "    <tr>\n",
              "      <th>...</th>\n",
              "      <td>...</td>\n",
              "      <td>...</td>\n",
              "      <td>...</td>\n",
              "      <td>...</td>\n",
              "      <td>...</td>\n",
              "      <td>...</td>\n",
              "      <td>...</td>\n",
              "      <td>...</td>\n",
              "      <td>...</td>\n",
              "      <td>...</td>\n",
              "      <td>...</td>\n",
              "      <td>...</td>\n",
              "      <td>...</td>\n",
              "    </tr>\n",
              "    <tr>\n",
              "      <th>173</th>\n",
              "      <td>13.71</td>\n",
              "      <td>5.65</td>\n",
              "      <td>2.45</td>\n",
              "      <td>20.5</td>\n",
              "      <td>95.0</td>\n",
              "      <td>1.68</td>\n",
              "      <td>0.61</td>\n",
              "      <td>0.52</td>\n",
              "      <td>1.06</td>\n",
              "      <td>7.70</td>\n",
              "      <td>0.64</td>\n",
              "      <td>1.74</td>\n",
              "      <td>740.0</td>\n",
              "    </tr>\n",
              "    <tr>\n",
              "      <th>174</th>\n",
              "      <td>13.40</td>\n",
              "      <td>3.91</td>\n",
              "      <td>2.48</td>\n",
              "      <td>23.0</td>\n",
              "      <td>102.0</td>\n",
              "      <td>1.80</td>\n",
              "      <td>0.75</td>\n",
              "      <td>0.43</td>\n",
              "      <td>1.41</td>\n",
              "      <td>7.30</td>\n",
              "      <td>0.70</td>\n",
              "      <td>1.56</td>\n",
              "      <td>750.0</td>\n",
              "    </tr>\n",
              "    <tr>\n",
              "      <th>175</th>\n",
              "      <td>13.27</td>\n",
              "      <td>4.28</td>\n",
              "      <td>2.26</td>\n",
              "      <td>20.0</td>\n",
              "      <td>120.0</td>\n",
              "      <td>1.59</td>\n",
              "      <td>0.69</td>\n",
              "      <td>0.43</td>\n",
              "      <td>1.35</td>\n",
              "      <td>10.20</td>\n",
              "      <td>0.59</td>\n",
              "      <td>1.56</td>\n",
              "      <td>835.0</td>\n",
              "    </tr>\n",
              "    <tr>\n",
              "      <th>176</th>\n",
              "      <td>13.17</td>\n",
              "      <td>2.59</td>\n",
              "      <td>2.37</td>\n",
              "      <td>20.0</td>\n",
              "      <td>120.0</td>\n",
              "      <td>1.65</td>\n",
              "      <td>0.68</td>\n",
              "      <td>0.53</td>\n",
              "      <td>1.46</td>\n",
              "      <td>9.30</td>\n",
              "      <td>0.60</td>\n",
              "      <td>1.62</td>\n",
              "      <td>840.0</td>\n",
              "    </tr>\n",
              "    <tr>\n",
              "      <th>177</th>\n",
              "      <td>14.13</td>\n",
              "      <td>4.10</td>\n",
              "      <td>2.74</td>\n",
              "      <td>24.5</td>\n",
              "      <td>96.0</td>\n",
              "      <td>2.05</td>\n",
              "      <td>0.76</td>\n",
              "      <td>0.56</td>\n",
              "      <td>1.35</td>\n",
              "      <td>9.20</td>\n",
              "      <td>0.61</td>\n",
              "      <td>1.60</td>\n",
              "      <td>560.0</td>\n",
              "    </tr>\n",
              "  </tbody>\n",
              "</table>\n",
              "<p>178 rows × 13 columns</p>\n",
              "</div>\n",
              "      <button class=\"colab-df-convert\" onclick=\"convertToInteractive('df-9ae3f002-a1f8-4879-903a-2eba49ef0520')\"\n",
              "              title=\"Convert this dataframe to an interactive table.\"\n",
              "              style=\"display:none;\">\n",
              "        \n",
              "  <svg xmlns=\"http://www.w3.org/2000/svg\" height=\"24px\"viewBox=\"0 0 24 24\"\n",
              "       width=\"24px\">\n",
              "    <path d=\"M0 0h24v24H0V0z\" fill=\"none\"/>\n",
              "    <path d=\"M18.56 5.44l.94 2.06.94-2.06 2.06-.94-2.06-.94-.94-2.06-.94 2.06-2.06.94zm-11 1L8.5 8.5l.94-2.06 2.06-.94-2.06-.94L8.5 2.5l-.94 2.06-2.06.94zm10 10l.94 2.06.94-2.06 2.06-.94-2.06-.94-.94-2.06-.94 2.06-2.06.94z\"/><path d=\"M17.41 7.96l-1.37-1.37c-.4-.4-.92-.59-1.43-.59-.52 0-1.04.2-1.43.59L10.3 9.45l-7.72 7.72c-.78.78-.78 2.05 0 2.83L4 21.41c.39.39.9.59 1.41.59.51 0 1.02-.2 1.41-.59l7.78-7.78 2.81-2.81c.8-.78.8-2.07 0-2.86zM5.41 20L4 18.59l7.72-7.72 1.47 1.35L5.41 20z\"/>\n",
              "  </svg>\n",
              "      </button>\n",
              "      \n",
              "  <style>\n",
              "    .colab-df-container {\n",
              "      display:flex;\n",
              "      flex-wrap:wrap;\n",
              "      gap: 12px;\n",
              "    }\n",
              "\n",
              "    .colab-df-convert {\n",
              "      background-color: #E8F0FE;\n",
              "      border: none;\n",
              "      border-radius: 50%;\n",
              "      cursor: pointer;\n",
              "      display: none;\n",
              "      fill: #1967D2;\n",
              "      height: 32px;\n",
              "      padding: 0 0 0 0;\n",
              "      width: 32px;\n",
              "    }\n",
              "\n",
              "    .colab-df-convert:hover {\n",
              "      background-color: #E2EBFA;\n",
              "      box-shadow: 0px 1px 2px rgba(60, 64, 67, 0.3), 0px 1px 3px 1px rgba(60, 64, 67, 0.15);\n",
              "      fill: #174EA6;\n",
              "    }\n",
              "\n",
              "    [theme=dark] .colab-df-convert {\n",
              "      background-color: #3B4455;\n",
              "      fill: #D2E3FC;\n",
              "    }\n",
              "\n",
              "    [theme=dark] .colab-df-convert:hover {\n",
              "      background-color: #434B5C;\n",
              "      box-shadow: 0px 1px 3px 1px rgba(0, 0, 0, 0.15);\n",
              "      filter: drop-shadow(0px 1px 2px rgba(0, 0, 0, 0.3));\n",
              "      fill: #FFFFFF;\n",
              "    }\n",
              "  </style>\n",
              "\n",
              "      <script>\n",
              "        const buttonEl =\n",
              "          document.querySelector('#df-9ae3f002-a1f8-4879-903a-2eba49ef0520 button.colab-df-convert');\n",
              "        buttonEl.style.display =\n",
              "          google.colab.kernel.accessAllowed ? 'block' : 'none';\n",
              "\n",
              "        async function convertToInteractive(key) {\n",
              "          const element = document.querySelector('#df-9ae3f002-a1f8-4879-903a-2eba49ef0520');\n",
              "          const dataTable =\n",
              "            await google.colab.kernel.invokeFunction('convertToInteractive',\n",
              "                                                     [key], {});\n",
              "          if (!dataTable) return;\n",
              "\n",
              "          const docLinkHtml = 'Like what you see? Visit the ' +\n",
              "            '<a target=\"_blank\" href=https://colab.research.google.com/notebooks/data_table.ipynb>data table notebook</a>'\n",
              "            + ' to learn more about interactive tables.';\n",
              "          element.innerHTML = '';\n",
              "          dataTable['output_type'] = 'display_data';\n",
              "          await google.colab.output.renderOutput(dataTable, element);\n",
              "          const docLink = document.createElement('div');\n",
              "          docLink.innerHTML = docLinkHtml;\n",
              "          element.appendChild(docLink);\n",
              "        }\n",
              "      </script>\n",
              "    </div>\n",
              "  </div>\n",
              "  "
            ]
          },
          "metadata": {},
          "execution_count": 172
        }
      ]
    },
    {
      "cell_type": "markdown",
      "source": [
        "Adicionando uma nova coluna para a análise dos dados."
      ],
      "metadata": {
        "id": "BpUkm_gr00Pq"
      }
    },
    {
      "cell_type": "code",
      "source": [
        "dataWine_df['target'] = dataWine.target"
      ],
      "metadata": {
        "id": "2U4Kus9e00Pq"
      },
      "execution_count": null,
      "outputs": []
    },
    {
      "cell_type": "code",
      "source": [
        "dataWine_df.head()"
      ],
      "metadata": {
        "colab": {
          "base_uri": "https://localhost:8080/",
          "height": 270
        },
        "outputId": "f3c6e1ef-c345-4137-b5b2-d64e60a6f2c6",
        "id": "a83KZ2oI00Pq"
      },
      "execution_count": null,
      "outputs": [
        {
          "output_type": "execute_result",
          "data": {
            "text/plain": [
              "   alcohol  malic_acid   ash  alcalinity_of_ash  magnesium  total_phenols  \\\n",
              "0    14.23        1.71  2.43               15.6      127.0           2.80   \n",
              "1    13.20        1.78  2.14               11.2      100.0           2.65   \n",
              "2    13.16        2.36  2.67               18.6      101.0           2.80   \n",
              "3    14.37        1.95  2.50               16.8      113.0           3.85   \n",
              "4    13.24        2.59  2.87               21.0      118.0           2.80   \n",
              "\n",
              "   flavanoids  nonflavanoid_phenols  proanthocyanins  color_intensity   hue  \\\n",
              "0        3.06                  0.28             2.29             5.64  1.04   \n",
              "1        2.76                  0.26             1.28             4.38  1.05   \n",
              "2        3.24                  0.30             2.81             5.68  1.03   \n",
              "3        3.49                  0.24             2.18             7.80  0.86   \n",
              "4        2.69                  0.39             1.82             4.32  1.04   \n",
              "\n",
              "   od280/od315_of_diluted_wines  proline  target  \n",
              "0                          3.92   1065.0       0  \n",
              "1                          3.40   1050.0       0  \n",
              "2                          3.17   1185.0       0  \n",
              "3                          3.45   1480.0       0  \n",
              "4                          2.93    735.0       0  "
            ],
            "text/html": [
              "\n",
              "  <div id=\"df-2494edc0-1938-4c8c-ada1-8d9dba53a8af\">\n",
              "    <div class=\"colab-df-container\">\n",
              "      <div>\n",
              "<style scoped>\n",
              "    .dataframe tbody tr th:only-of-type {\n",
              "        vertical-align: middle;\n",
              "    }\n",
              "\n",
              "    .dataframe tbody tr th {\n",
              "        vertical-align: top;\n",
              "    }\n",
              "\n",
              "    .dataframe thead th {\n",
              "        text-align: right;\n",
              "    }\n",
              "</style>\n",
              "<table border=\"1\" class=\"dataframe\">\n",
              "  <thead>\n",
              "    <tr style=\"text-align: right;\">\n",
              "      <th></th>\n",
              "      <th>alcohol</th>\n",
              "      <th>malic_acid</th>\n",
              "      <th>ash</th>\n",
              "      <th>alcalinity_of_ash</th>\n",
              "      <th>magnesium</th>\n",
              "      <th>total_phenols</th>\n",
              "      <th>flavanoids</th>\n",
              "      <th>nonflavanoid_phenols</th>\n",
              "      <th>proanthocyanins</th>\n",
              "      <th>color_intensity</th>\n",
              "      <th>hue</th>\n",
              "      <th>od280/od315_of_diluted_wines</th>\n",
              "      <th>proline</th>\n",
              "      <th>target</th>\n",
              "    </tr>\n",
              "  </thead>\n",
              "  <tbody>\n",
              "    <tr>\n",
              "      <th>0</th>\n",
              "      <td>14.23</td>\n",
              "      <td>1.71</td>\n",
              "      <td>2.43</td>\n",
              "      <td>15.6</td>\n",
              "      <td>127.0</td>\n",
              "      <td>2.80</td>\n",
              "      <td>3.06</td>\n",
              "      <td>0.28</td>\n",
              "      <td>2.29</td>\n",
              "      <td>5.64</td>\n",
              "      <td>1.04</td>\n",
              "      <td>3.92</td>\n",
              "      <td>1065.0</td>\n",
              "      <td>0</td>\n",
              "    </tr>\n",
              "    <tr>\n",
              "      <th>1</th>\n",
              "      <td>13.20</td>\n",
              "      <td>1.78</td>\n",
              "      <td>2.14</td>\n",
              "      <td>11.2</td>\n",
              "      <td>100.0</td>\n",
              "      <td>2.65</td>\n",
              "      <td>2.76</td>\n",
              "      <td>0.26</td>\n",
              "      <td>1.28</td>\n",
              "      <td>4.38</td>\n",
              "      <td>1.05</td>\n",
              "      <td>3.40</td>\n",
              "      <td>1050.0</td>\n",
              "      <td>0</td>\n",
              "    </tr>\n",
              "    <tr>\n",
              "      <th>2</th>\n",
              "      <td>13.16</td>\n",
              "      <td>2.36</td>\n",
              "      <td>2.67</td>\n",
              "      <td>18.6</td>\n",
              "      <td>101.0</td>\n",
              "      <td>2.80</td>\n",
              "      <td>3.24</td>\n",
              "      <td>0.30</td>\n",
              "      <td>2.81</td>\n",
              "      <td>5.68</td>\n",
              "      <td>1.03</td>\n",
              "      <td>3.17</td>\n",
              "      <td>1185.0</td>\n",
              "      <td>0</td>\n",
              "    </tr>\n",
              "    <tr>\n",
              "      <th>3</th>\n",
              "      <td>14.37</td>\n",
              "      <td>1.95</td>\n",
              "      <td>2.50</td>\n",
              "      <td>16.8</td>\n",
              "      <td>113.0</td>\n",
              "      <td>3.85</td>\n",
              "      <td>3.49</td>\n",
              "      <td>0.24</td>\n",
              "      <td>2.18</td>\n",
              "      <td>7.80</td>\n",
              "      <td>0.86</td>\n",
              "      <td>3.45</td>\n",
              "      <td>1480.0</td>\n",
              "      <td>0</td>\n",
              "    </tr>\n",
              "    <tr>\n",
              "      <th>4</th>\n",
              "      <td>13.24</td>\n",
              "      <td>2.59</td>\n",
              "      <td>2.87</td>\n",
              "      <td>21.0</td>\n",
              "      <td>118.0</td>\n",
              "      <td>2.80</td>\n",
              "      <td>2.69</td>\n",
              "      <td>0.39</td>\n",
              "      <td>1.82</td>\n",
              "      <td>4.32</td>\n",
              "      <td>1.04</td>\n",
              "      <td>2.93</td>\n",
              "      <td>735.0</td>\n",
              "      <td>0</td>\n",
              "    </tr>\n",
              "  </tbody>\n",
              "</table>\n",
              "</div>\n",
              "      <button class=\"colab-df-convert\" onclick=\"convertToInteractive('df-2494edc0-1938-4c8c-ada1-8d9dba53a8af')\"\n",
              "              title=\"Convert this dataframe to an interactive table.\"\n",
              "              style=\"display:none;\">\n",
              "        \n",
              "  <svg xmlns=\"http://www.w3.org/2000/svg\" height=\"24px\"viewBox=\"0 0 24 24\"\n",
              "       width=\"24px\">\n",
              "    <path d=\"M0 0h24v24H0V0z\" fill=\"none\"/>\n",
              "    <path d=\"M18.56 5.44l.94 2.06.94-2.06 2.06-.94-2.06-.94-.94-2.06-.94 2.06-2.06.94zm-11 1L8.5 8.5l.94-2.06 2.06-.94-2.06-.94L8.5 2.5l-.94 2.06-2.06.94zm10 10l.94 2.06.94-2.06 2.06-.94-2.06-.94-.94-2.06-.94 2.06-2.06.94z\"/><path d=\"M17.41 7.96l-1.37-1.37c-.4-.4-.92-.59-1.43-.59-.52 0-1.04.2-1.43.59L10.3 9.45l-7.72 7.72c-.78.78-.78 2.05 0 2.83L4 21.41c.39.39.9.59 1.41.59.51 0 1.02-.2 1.41-.59l7.78-7.78 2.81-2.81c.8-.78.8-2.07 0-2.86zM5.41 20L4 18.59l7.72-7.72 1.47 1.35L5.41 20z\"/>\n",
              "  </svg>\n",
              "      </button>\n",
              "      \n",
              "  <style>\n",
              "    .colab-df-container {\n",
              "      display:flex;\n",
              "      flex-wrap:wrap;\n",
              "      gap: 12px;\n",
              "    }\n",
              "\n",
              "    .colab-df-convert {\n",
              "      background-color: #E8F0FE;\n",
              "      border: none;\n",
              "      border-radius: 50%;\n",
              "      cursor: pointer;\n",
              "      display: none;\n",
              "      fill: #1967D2;\n",
              "      height: 32px;\n",
              "      padding: 0 0 0 0;\n",
              "      width: 32px;\n",
              "    }\n",
              "\n",
              "    .colab-df-convert:hover {\n",
              "      background-color: #E2EBFA;\n",
              "      box-shadow: 0px 1px 2px rgba(60, 64, 67, 0.3), 0px 1px 3px 1px rgba(60, 64, 67, 0.15);\n",
              "      fill: #174EA6;\n",
              "    }\n",
              "\n",
              "    [theme=dark] .colab-df-convert {\n",
              "      background-color: #3B4455;\n",
              "      fill: #D2E3FC;\n",
              "    }\n",
              "\n",
              "    [theme=dark] .colab-df-convert:hover {\n",
              "      background-color: #434B5C;\n",
              "      box-shadow: 0px 1px 3px 1px rgba(0, 0, 0, 0.15);\n",
              "      filter: drop-shadow(0px 1px 2px rgba(0, 0, 0, 0.3));\n",
              "      fill: #FFFFFF;\n",
              "    }\n",
              "  </style>\n",
              "\n",
              "      <script>\n",
              "        const buttonEl =\n",
              "          document.querySelector('#df-2494edc0-1938-4c8c-ada1-8d9dba53a8af button.colab-df-convert');\n",
              "        buttonEl.style.display =\n",
              "          google.colab.kernel.accessAllowed ? 'block' : 'none';\n",
              "\n",
              "        async function convertToInteractive(key) {\n",
              "          const element = document.querySelector('#df-2494edc0-1938-4c8c-ada1-8d9dba53a8af');\n",
              "          const dataTable =\n",
              "            await google.colab.kernel.invokeFunction('convertToInteractive',\n",
              "                                                     [key], {});\n",
              "          if (!dataTable) return;\n",
              "\n",
              "          const docLinkHtml = 'Like what you see? Visit the ' +\n",
              "            '<a target=\"_blank\" href=https://colab.research.google.com/notebooks/data_table.ipynb>data table notebook</a>'\n",
              "            + ' to learn more about interactive tables.';\n",
              "          element.innerHTML = '';\n",
              "          dataTable['output_type'] = 'display_data';\n",
              "          await google.colab.output.renderOutput(dataTable, element);\n",
              "          const docLink = document.createElement('div');\n",
              "          docLink.innerHTML = docLinkHtml;\n",
              "          element.appendChild(docLink);\n",
              "        }\n",
              "      </script>\n",
              "    </div>\n",
              "  </div>\n",
              "  "
            ]
          },
          "metadata": {},
          "execution_count": 174
        }
      ]
    },
    {
      "cell_type": "markdown",
      "source": [
        "Definindo uma nova amostragem na tabela pra mostrar os nomes dos tipos das amostras."
      ],
      "metadata": {
        "id": "92-vmbHX00Pq"
      }
    },
    {
      "cell_type": "code",
      "source": [
        "dataWine_df['target names'] = pd.Categorical.from_codes(dataWine.target, dataWine.target_names)"
      ],
      "metadata": {
        "id": "aiXEm1o-00Pr"
      },
      "execution_count": null,
      "outputs": []
    },
    {
      "cell_type": "code",
      "source": [
        "dataWine_df.head()"
      ],
      "metadata": {
        "colab": {
          "base_uri": "https://localhost:8080/",
          "height": 287
        },
        "outputId": "112bbd86-a85b-4bb2-d647-a243de32ee1d",
        "id": "5nWOi7gE00Pr"
      },
      "execution_count": null,
      "outputs": [
        {
          "output_type": "execute_result",
          "data": {
            "text/plain": [
              "   alcohol  malic_acid   ash  alcalinity_of_ash  magnesium  total_phenols  \\\n",
              "0    14.23        1.71  2.43               15.6      127.0           2.80   \n",
              "1    13.20        1.78  2.14               11.2      100.0           2.65   \n",
              "2    13.16        2.36  2.67               18.6      101.0           2.80   \n",
              "3    14.37        1.95  2.50               16.8      113.0           3.85   \n",
              "4    13.24        2.59  2.87               21.0      118.0           2.80   \n",
              "\n",
              "   flavanoids  nonflavanoid_phenols  proanthocyanins  color_intensity   hue  \\\n",
              "0        3.06                  0.28             2.29             5.64  1.04   \n",
              "1        2.76                  0.26             1.28             4.38  1.05   \n",
              "2        3.24                  0.30             2.81             5.68  1.03   \n",
              "3        3.49                  0.24             2.18             7.80  0.86   \n",
              "4        2.69                  0.39             1.82             4.32  1.04   \n",
              "\n",
              "   od280/od315_of_diluted_wines  proline  target target names  \n",
              "0                          3.92   1065.0       0      class_0  \n",
              "1                          3.40   1050.0       0      class_0  \n",
              "2                          3.17   1185.0       0      class_0  \n",
              "3                          3.45   1480.0       0      class_0  \n",
              "4                          2.93    735.0       0      class_0  "
            ],
            "text/html": [
              "\n",
              "  <div id=\"df-572375c2-e070-43f9-804a-803a4fe2bc48\">\n",
              "    <div class=\"colab-df-container\">\n",
              "      <div>\n",
              "<style scoped>\n",
              "    .dataframe tbody tr th:only-of-type {\n",
              "        vertical-align: middle;\n",
              "    }\n",
              "\n",
              "    .dataframe tbody tr th {\n",
              "        vertical-align: top;\n",
              "    }\n",
              "\n",
              "    .dataframe thead th {\n",
              "        text-align: right;\n",
              "    }\n",
              "</style>\n",
              "<table border=\"1\" class=\"dataframe\">\n",
              "  <thead>\n",
              "    <tr style=\"text-align: right;\">\n",
              "      <th></th>\n",
              "      <th>alcohol</th>\n",
              "      <th>malic_acid</th>\n",
              "      <th>ash</th>\n",
              "      <th>alcalinity_of_ash</th>\n",
              "      <th>magnesium</th>\n",
              "      <th>total_phenols</th>\n",
              "      <th>flavanoids</th>\n",
              "      <th>nonflavanoid_phenols</th>\n",
              "      <th>proanthocyanins</th>\n",
              "      <th>color_intensity</th>\n",
              "      <th>hue</th>\n",
              "      <th>od280/od315_of_diluted_wines</th>\n",
              "      <th>proline</th>\n",
              "      <th>target</th>\n",
              "      <th>target names</th>\n",
              "    </tr>\n",
              "  </thead>\n",
              "  <tbody>\n",
              "    <tr>\n",
              "      <th>0</th>\n",
              "      <td>14.23</td>\n",
              "      <td>1.71</td>\n",
              "      <td>2.43</td>\n",
              "      <td>15.6</td>\n",
              "      <td>127.0</td>\n",
              "      <td>2.80</td>\n",
              "      <td>3.06</td>\n",
              "      <td>0.28</td>\n",
              "      <td>2.29</td>\n",
              "      <td>5.64</td>\n",
              "      <td>1.04</td>\n",
              "      <td>3.92</td>\n",
              "      <td>1065.0</td>\n",
              "      <td>0</td>\n",
              "      <td>class_0</td>\n",
              "    </tr>\n",
              "    <tr>\n",
              "      <th>1</th>\n",
              "      <td>13.20</td>\n",
              "      <td>1.78</td>\n",
              "      <td>2.14</td>\n",
              "      <td>11.2</td>\n",
              "      <td>100.0</td>\n",
              "      <td>2.65</td>\n",
              "      <td>2.76</td>\n",
              "      <td>0.26</td>\n",
              "      <td>1.28</td>\n",
              "      <td>4.38</td>\n",
              "      <td>1.05</td>\n",
              "      <td>3.40</td>\n",
              "      <td>1050.0</td>\n",
              "      <td>0</td>\n",
              "      <td>class_0</td>\n",
              "    </tr>\n",
              "    <tr>\n",
              "      <th>2</th>\n",
              "      <td>13.16</td>\n",
              "      <td>2.36</td>\n",
              "      <td>2.67</td>\n",
              "      <td>18.6</td>\n",
              "      <td>101.0</td>\n",
              "      <td>2.80</td>\n",
              "      <td>3.24</td>\n",
              "      <td>0.30</td>\n",
              "      <td>2.81</td>\n",
              "      <td>5.68</td>\n",
              "      <td>1.03</td>\n",
              "      <td>3.17</td>\n",
              "      <td>1185.0</td>\n",
              "      <td>0</td>\n",
              "      <td>class_0</td>\n",
              "    </tr>\n",
              "    <tr>\n",
              "      <th>3</th>\n",
              "      <td>14.37</td>\n",
              "      <td>1.95</td>\n",
              "      <td>2.50</td>\n",
              "      <td>16.8</td>\n",
              "      <td>113.0</td>\n",
              "      <td>3.85</td>\n",
              "      <td>3.49</td>\n",
              "      <td>0.24</td>\n",
              "      <td>2.18</td>\n",
              "      <td>7.80</td>\n",
              "      <td>0.86</td>\n",
              "      <td>3.45</td>\n",
              "      <td>1480.0</td>\n",
              "      <td>0</td>\n",
              "      <td>class_0</td>\n",
              "    </tr>\n",
              "    <tr>\n",
              "      <th>4</th>\n",
              "      <td>13.24</td>\n",
              "      <td>2.59</td>\n",
              "      <td>2.87</td>\n",
              "      <td>21.0</td>\n",
              "      <td>118.0</td>\n",
              "      <td>2.80</td>\n",
              "      <td>2.69</td>\n",
              "      <td>0.39</td>\n",
              "      <td>1.82</td>\n",
              "      <td>4.32</td>\n",
              "      <td>1.04</td>\n",
              "      <td>2.93</td>\n",
              "      <td>735.0</td>\n",
              "      <td>0</td>\n",
              "      <td>class_0</td>\n",
              "    </tr>\n",
              "  </tbody>\n",
              "</table>\n",
              "</div>\n",
              "      <button class=\"colab-df-convert\" onclick=\"convertToInteractive('df-572375c2-e070-43f9-804a-803a4fe2bc48')\"\n",
              "              title=\"Convert this dataframe to an interactive table.\"\n",
              "              style=\"display:none;\">\n",
              "        \n",
              "  <svg xmlns=\"http://www.w3.org/2000/svg\" height=\"24px\"viewBox=\"0 0 24 24\"\n",
              "       width=\"24px\">\n",
              "    <path d=\"M0 0h24v24H0V0z\" fill=\"none\"/>\n",
              "    <path d=\"M18.56 5.44l.94 2.06.94-2.06 2.06-.94-2.06-.94-.94-2.06-.94 2.06-2.06.94zm-11 1L8.5 8.5l.94-2.06 2.06-.94-2.06-.94L8.5 2.5l-.94 2.06-2.06.94zm10 10l.94 2.06.94-2.06 2.06-.94-2.06-.94-.94-2.06-.94 2.06-2.06.94z\"/><path d=\"M17.41 7.96l-1.37-1.37c-.4-.4-.92-.59-1.43-.59-.52 0-1.04.2-1.43.59L10.3 9.45l-7.72 7.72c-.78.78-.78 2.05 0 2.83L4 21.41c.39.39.9.59 1.41.59.51 0 1.02-.2 1.41-.59l7.78-7.78 2.81-2.81c.8-.78.8-2.07 0-2.86zM5.41 20L4 18.59l7.72-7.72 1.47 1.35L5.41 20z\"/>\n",
              "  </svg>\n",
              "      </button>\n",
              "      \n",
              "  <style>\n",
              "    .colab-df-container {\n",
              "      display:flex;\n",
              "      flex-wrap:wrap;\n",
              "      gap: 12px;\n",
              "    }\n",
              "\n",
              "    .colab-df-convert {\n",
              "      background-color: #E8F0FE;\n",
              "      border: none;\n",
              "      border-radius: 50%;\n",
              "      cursor: pointer;\n",
              "      display: none;\n",
              "      fill: #1967D2;\n",
              "      height: 32px;\n",
              "      padding: 0 0 0 0;\n",
              "      width: 32px;\n",
              "    }\n",
              "\n",
              "    .colab-df-convert:hover {\n",
              "      background-color: #E2EBFA;\n",
              "      box-shadow: 0px 1px 2px rgba(60, 64, 67, 0.3), 0px 1px 3px 1px rgba(60, 64, 67, 0.15);\n",
              "      fill: #174EA6;\n",
              "    }\n",
              "\n",
              "    [theme=dark] .colab-df-convert {\n",
              "      background-color: #3B4455;\n",
              "      fill: #D2E3FC;\n",
              "    }\n",
              "\n",
              "    [theme=dark] .colab-df-convert:hover {\n",
              "      background-color: #434B5C;\n",
              "      box-shadow: 0px 1px 3px 1px rgba(0, 0, 0, 0.15);\n",
              "      filter: drop-shadow(0px 1px 2px rgba(0, 0, 0, 0.3));\n",
              "      fill: #FFFFFF;\n",
              "    }\n",
              "  </style>\n",
              "\n",
              "      <script>\n",
              "        const buttonEl =\n",
              "          document.querySelector('#df-572375c2-e070-43f9-804a-803a4fe2bc48 button.colab-df-convert');\n",
              "        buttonEl.style.display =\n",
              "          google.colab.kernel.accessAllowed ? 'block' : 'none';\n",
              "\n",
              "        async function convertToInteractive(key) {\n",
              "          const element = document.querySelector('#df-572375c2-e070-43f9-804a-803a4fe2bc48');\n",
              "          const dataTable =\n",
              "            await google.colab.kernel.invokeFunction('convertToInteractive',\n",
              "                                                     [key], {});\n",
              "          if (!dataTable) return;\n",
              "\n",
              "          const docLinkHtml = 'Like what you see? Visit the ' +\n",
              "            '<a target=\"_blank\" href=https://colab.research.google.com/notebooks/data_table.ipynb>data table notebook</a>'\n",
              "            + ' to learn more about interactive tables.';\n",
              "          element.innerHTML = '';\n",
              "          dataTable['output_type'] = 'display_data';\n",
              "          await google.colab.output.renderOutput(dataTable, element);\n",
              "          const docLink = document.createElement('div');\n",
              "          docLink.innerHTML = docLinkHtml;\n",
              "          element.appendChild(docLink);\n",
              "        }\n",
              "      </script>\n",
              "    </div>\n",
              "  </div>\n",
              "  "
            ]
          },
          "metadata": {},
          "execution_count": 176
        }
      ]
    },
    {
      "cell_type": "markdown",
      "source": [
        "Realizando uma plotagem dos dados para amostragem: "
      ],
      "metadata": {
        "id": "2V0JHNpX00Pr"
      }
    },
    {
      "cell_type": "code",
      "source": [
        "%matplotlib inline"
      ],
      "metadata": {
        "id": "uPeiWfyY00Pr"
      },
      "execution_count": null,
      "outputs": []
    },
    {
      "cell_type": "code",
      "source": [
        "# dataWine_df.plot.scatter('sepal length (cm)', 'sepal width (cm)', c='target')"
      ],
      "metadata": {
        "id": "LXsZnNaX00Pr"
      },
      "execution_count": null,
      "outputs": []
    },
    {
      "cell_type": "markdown",
      "source": [
        "Executando o pré-processamento e dividindo os dados em teste e treinamento."
      ],
      "metadata": {
        "id": "GaUflHXx00Pr"
      }
    },
    {
      "cell_type": "code",
      "source": [
        "import numpy as np\n",
        "from sklearn.model_selection import train_test_split"
      ],
      "metadata": {
        "id": "SmDrZBgH00Pr"
      },
      "execution_count": null,
      "outputs": []
    },
    {
      "cell_type": "code",
      "source": [
        "X_train, X_test, y_train, y_test = train_test_split(X, y, test_size=0.30, random_state=42)"
      ],
      "metadata": {
        "id": "Myu4G_2W00Pr"
      },
      "execution_count": null,
      "outputs": []
    },
    {
      "cell_type": "code",
      "source": [
        "X_train.shape"
      ],
      "metadata": {
        "colab": {
          "base_uri": "https://localhost:8080/"
        },
        "outputId": "d8a838d2-1f0b-478b-f198-585de3c52f4a",
        "id": "tRF7XvnH00Pr"
      },
      "execution_count": null,
      "outputs": [
        {
          "output_type": "execute_result",
          "data": {
            "text/plain": [
              "(124, 13)"
            ]
          },
          "metadata": {},
          "execution_count": 182
        }
      ]
    },
    {
      "cell_type": "code",
      "source": [
        "X_test.shape"
      ],
      "metadata": {
        "colab": {
          "base_uri": "https://localhost:8080/"
        },
        "outputId": "02a624f3-8dbe-474c-d355-6e0fd141c603",
        "id": "lUq8p2xO00Ps"
      },
      "execution_count": null,
      "outputs": [
        {
          "output_type": "execute_result",
          "data": {
            "text/plain": [
              "(54, 13)"
            ]
          },
          "metadata": {},
          "execution_count": 183
        }
      ]
    }
  ]
}
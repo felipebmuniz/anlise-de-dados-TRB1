{
  "nbformat": 4,
  "nbformat_minor": 0,
  "metadata": {
    "colab": {
      "name": "estatisticaDescritivaCasos.ipynb",
      "provenance": [],
      "collapsed_sections": []
    },
    "kernelspec": {
      "name": "python3",
      "display_name": "Python 3"
    }
  },
  "cells": [
    {
      "cell_type": "markdown",
      "metadata": {
        "id": "mDMdS0t7J9X9"
      },
      "source": [
        "# Medidas de Posição e Tendência Central"
      ]
    },
    {
      "cell_type": "markdown",
      "metadata": {
        "id": "QZ67sEcFcVh1"
      },
      "source": [
        "Importando as bibliotecas"
      ]
    },
    {
      "cell_type": "code",
      "metadata": {
        "id": "-R8H-nC4ZHvd"
      },
      "source": [
        "import numpy as np\n",
        "import matplotlib.pyplot as plt\n",
        "from cycler import cycler"
      ],
      "execution_count": null,
      "outputs": []
    },
    {
      "cell_type": "code",
      "metadata": {
        "id": "ZE9QzUD2ZZpB"
      },
      "source": [
        "from scipy.stats.mstats import gmean,hmean\n",
        "from scipy import stats"
      ],
      "execution_count": null,
      "outputs": []
    },
    {
      "cell_type": "markdown",
      "metadata": {
        "id": "GiS4OoANKLu5"
      },
      "source": [
        "**Média Aritmética (MA) - É a soma de todos os elementos do conjunto, divididos pelo número de elementos que compõe o conjunto.**\n",
        "\n",
        "![alt text](https://wikimedia.org/api/rest_v1/media/math/render/svg/c938ca170f8c4a5d2dddecabc5ae1d5eb5f35a2b)"
      ]
    },
    {
      "cell_type": "code",
      "metadata": {
        "id": "pvKTuLnHZMFx"
      },
      "source": [
        "dados = [1,2,5,3,4]"
      ],
      "execution_count": null,
      "outputs": []
    },
    {
      "cell_type": "code",
      "metadata": {
        "id": "glWMxJx0ZTG5"
      },
      "source": [
        "np.mean(dados)"
      ],
      "execution_count": null,
      "outputs": []
    },
    {
      "cell_type": "markdown",
      "metadata": {
        "id": "nttS850jbM-r"
      },
      "source": [
        "**Média Geométrica (MG) - É a raíz n-ésima do produto de todos os elementos que compõe o conjunto.**\n",
        "\n",
        "![alt text](https://wikimedia.org/api/rest_v1/media/math/render/svg/82fb3d898a5de7ae016b07855c335ce570350410)"
      ]
    },
    {
      "cell_type": "code",
      "metadata": {
        "id": "RFuuguTHclir"
      },
      "source": [
        "gmean(dados)"
      ],
      "execution_count": null,
      "outputs": []
    },
    {
      "cell_type": "markdown",
      "metadata": {
        "id": "eDTRVRAYbo3o"
      },
      "source": [
        "**Média Harmônica (MH) - É o número de elementos, divididos pela soma dos inversos dos elementos que compõem o conjunto.**\n",
        "\n",
        "![alt text](https://wikimedia.org/api/rest_v1/media/math/render/svg/5335415727099e38ba27a1775613020dc4b584de)"
      ]
    },
    {
      "cell_type": "code",
      "metadata": {
        "id": "Lazfd7f-cvJo"
      },
      "source": [
        "hmean(dados)"
      ],
      "execution_count": null,
      "outputs": []
    },
    {
      "cell_type": "markdown",
      "metadata": {
        "id": "lddpRaNov0pA"
      },
      "source": [
        "## Quando usar cada uma das médias?"
      ]
    },
    {
      "cell_type": "markdown",
      "metadata": {
        "id": "0P0vlEpViPk5"
      },
      "source": [
        "### Funções para plotar gráficos"
      ]
    },
    {
      "cell_type": "code",
      "metadata": {
        "id": "gkUgx5aTwFvh"
      },
      "source": [
        "def plot_lines(dados, valor_central):\n",
        "  if valor_central in dados:\n",
        "    posicao_central = dados.index(valor_central)+1\n",
        "  else:\n",
        "    dados.append(valor_central)\n",
        "    dados.sort()\n",
        "    posicao_central = dados.index(valor_central)+1\n",
        "  \n",
        "  posicoes = np.arange(1,len(dados)+1,1)\n",
        "  plt.figure(figsize=(8,6))\n",
        "  plt.plot(posicoes,dados,'o-', color='red',ms=15)\n",
        "  plt.plot(posicao_central, valor_central, 'o-',color='blue',ms=15)\n",
        "  plt.show()"
      ],
      "execution_count": null,
      "outputs": []
    },
    {
      "cell_type": "code",
      "metadata": {
        "id": "eynTjAwxrvCq"
      },
      "source": [
        "def plot_line_means(dados, mean, gmean,hmean):\n",
        "  posicoes_centrais=[]\n",
        "  y=[]\n",
        "  x = dados\n",
        "  \n",
        "  for m in [mean,gmean,hmean]:\n",
        "    x.append(m)\n",
        "  \n",
        "  x.sort()\n",
        "  for m in [mean,gmean,hmean]:\n",
        "    if m in x:\n",
        "      posicoes_centrais.append(x.index(m)+1)\n",
        "  \n",
        "  print(\"Dados: {}\".format(x))\n",
        "  print(\"Media aritmética: {}, Média Geométrica: {}, Média Harmonica: {}\".format(mean,gmean,hmean))\n",
        "  \n",
        "  y = np.arange(1,len(x)+1,1)\n",
        "  \n",
        "  plt.figure(figsize=(8,6))\n",
        "  plt.rc('axes', prop_cycle=(cycler('color', ['r', 'g', 'b'])))\n",
        "  plt.plot(y,x,'o-', color='black',ms=15)\n",
        "  medias = ['MA','MG','MH'] \n",
        "  i=0\n",
        "  for posicao_central,valor_central in zip(posicoes_centrais,[mean,gmean,hmean]):\n",
        "    plt.plot(posicao_central, valor_central, 'o-',ms=15)\n",
        "    plt.text(x=posicao_central+0.2, y=valor_central+0.2, s=medias[i], alpha=0.7, color='#334f8d')\n",
        "    i+=1\n",
        "\n",
        "  plt.show()"
      ],
      "execution_count": null,
      "outputs": []
    },
    {
      "cell_type": "code",
      "metadata": {
        "id": "rjpQ2OLsSgqe"
      },
      "source": [
        "def plot_lines_horizontal(dados,valor_central):\n",
        "  plt.figure(figsize=(10,6))\n",
        "  y = 0\n",
        "  plt.hlines(y, min(dados), max(dados))\n",
        "  for n in dados:\n",
        "    if n == valor_central:\n",
        "      plt.plot(n,y, 'o', ms = 15, color='blue')\n",
        "      continue  \n",
        "    plt.plot(n,y, 'o', ms = 15, color = 'red')"
      ],
      "execution_count": null,
      "outputs": []
    },
    {
      "cell_type": "markdown",
      "metadata": {
        "id": "v3SzrUJav73B"
      },
      "source": [
        "### Considere os cenários"
      ]
    },
    {
      "cell_type": "markdown",
      "metadata": {
        "id": "1dV32Nmd1MGP"
      },
      "source": [
        "Exemplo de dados gerados a partir de uma **operação de adição**, a soma do valor 3 em cada elemento do vetor (relacionamento linear)"
      ]
    },
    {
      "cell_type": "code",
      "metadata": {
        "id": "4-IY90hFv_sR"
      },
      "source": [
        "dados_linear = [1, 4, 7, 10, 13, 16, 19]"
      ],
      "execution_count": null,
      "outputs": []
    },
    {
      "cell_type": "markdown",
      "metadata": {
        "id": "6Gy6dcjQ082B"
      },
      "source": [
        "Calculando a média aritmética"
      ]
    },
    {
      "cell_type": "code",
      "metadata": {
        "id": "8NeF5SCI06Fx"
      },
      "source": [
        "media = int(np.mean(dados_linear))"
      ],
      "execution_count": null,
      "outputs": []
    },
    {
      "cell_type": "code",
      "metadata": {
        "id": "2d0VPC2B1yLv"
      },
      "source": [
        "print(\"Valor da média aritmética dos dados: {}\".format(media))"
      ],
      "execution_count": null,
      "outputs": []
    },
    {
      "cell_type": "markdown",
      "metadata": {
        "id": "l8y5mULb1A30"
      },
      "source": [
        "Plotando os dados e seu valor central"
      ]
    },
    {
      "cell_type": "code",
      "metadata": {
        "id": "P_RwW1Tn7YPC"
      },
      "source": [
        "plot_lines(dados_linear,media)"
      ],
      "execution_count": null,
      "outputs": []
    },
    {
      "cell_type": "code",
      "metadata": {
        "id": "_h0mcgTig4Vh"
      },
      "source": [
        "plot_lines_horizontal(dados_linear,media)"
      ],
      "execution_count": null,
      "outputs": []
    },
    {
      "cell_type": "markdown",
      "metadata": {
        "id": "3GIj5J5q3HdP"
      },
      "source": [
        "Exemplo de dados gerados a partir de uma **operação de multiplicação**, a multiplicação de cada elemento pelo valor de 3 (relacionamento exponencial)"
      ]
    },
    {
      "cell_type": "code",
      "metadata": {
        "id": "sQIB1e3t9cWi"
      },
      "source": [
        "dados_exponencial = [1, 3, 9, 27, 81, 243, 729]"
      ],
      "execution_count": null,
      "outputs": []
    },
    {
      "cell_type": "markdown",
      "metadata": {
        "id": "zB_YzIi_3qAi"
      },
      "source": [
        "Calculando a média aritmética."
      ]
    },
    {
      "cell_type": "markdown",
      "metadata": {
        "id": "pVDyPnKRAKi_"
      },
      "source": [
        "(1 + 3 + 9 + 27 + 81 + 243 + 729) ÷ 7 = **156.1**"
      ]
    },
    {
      "cell_type": "code",
      "metadata": {
        "id": "KK_0MedZ3oq5"
      },
      "source": [
        "media = int(np.mean(dados_exponencial))"
      ],
      "execution_count": null,
      "outputs": []
    },
    {
      "cell_type": "code",
      "metadata": {
        "id": "oUQECliJRNuZ"
      },
      "source": [
        "print(\"Valor da média aritmética dos dados: {}\".format(media))"
      ],
      "execution_count": null,
      "outputs": []
    },
    {
      "cell_type": "markdown",
      "metadata": {
        "id": "yDdqGi4d32zw"
      },
      "source": [
        "Plotando os dados e seu valor central."
      ]
    },
    {
      "cell_type": "code",
      "metadata": {
        "id": "o0IKSoFs9xm7"
      },
      "source": [
        "plot_lines(dados_exponencial,media)"
      ],
      "execution_count": null,
      "outputs": []
    },
    {
      "cell_type": "code",
      "metadata": {
        "id": "mIGMgM0_grXk"
      },
      "source": [
        "plot_lines_horizontal(dados_exponencial,media)"
      ],
      "execution_count": null,
      "outputs": []
    },
    {
      "cell_type": "markdown",
      "metadata": {
        "id": "J-zgMiqX45aR"
      },
      "source": [
        "Considerando agora a aplicação da média geométrica."
      ]
    },
    {
      "cell_type": "markdown",
      "metadata": {
        "id": "TGP9Cq2u5AjZ"
      },
      "source": [
        "Especificando os mesmos dados com um relacionando exponencial."
      ]
    },
    {
      "cell_type": "code",
      "metadata": {
        "id": "06kWRxjv5Qfe"
      },
      "source": [
        "dados_exponencial = [1, 3, 9, 27, 81, 243, 729]"
      ],
      "execution_count": null,
      "outputs": []
    },
    {
      "cell_type": "markdown",
      "metadata": {
        "id": "_db-X-w05R2A"
      },
      "source": [
        "Calculando a média geométrica."
      ]
    },
    {
      "cell_type": "markdown",
      "metadata": {
        "id": "Kg5t87iS_Q9H"
      },
      "source": [
        "(1 * 3 * 9 * 27 * 81 * 243 * 729) = 10,460,353,203\n",
        "\n",
        "Raiz sétima (7) de **10,460,353,203** = 27"
      ]
    },
    {
      "cell_type": "code",
      "metadata": {
        "id": "e8k0jsNB5hKI"
      },
      "source": [
        "media_geo = int(gmean(dados_exponencial))"
      ],
      "execution_count": null,
      "outputs": []
    },
    {
      "cell_type": "code",
      "metadata": {
        "id": "Q0OQZfNE5yvg"
      },
      "source": [
        "print(\"Valor da média geométrica dos dados: {}\".format(media_geo))"
      ],
      "execution_count": null,
      "outputs": []
    },
    {
      "cell_type": "markdown",
      "metadata": {
        "id": "Ugpty5ul5-tQ"
      },
      "source": [
        "Plotando os dados e seu valor central."
      ]
    },
    {
      "cell_type": "code",
      "metadata": {
        "id": "Nq9pLeZU57iy"
      },
      "source": [
        "plot_lines(dados_exponencial,media_geo)"
      ],
      "execution_count": null,
      "outputs": []
    },
    {
      "cell_type": "code",
      "metadata": {
        "id": "LkILBQWX6ETA"
      },
      "source": [
        "plot_lines_horizontal(dados_exponencial,media_geo)"
      ],
      "execution_count": null,
      "outputs": []
    },
    {
      "cell_type": "markdown",
      "metadata": {
        "id": "DvM1mXke8Ajo"
      },
      "source": [
        "### Considerações importantes\n",
        "\n",
        "*   A **média aritmética** produz um resultado interessante quando temos um **relacionamento aditivo** entre os números da amostra.\n",
        "*   Este relacionamento é chamado linear pois, ao exibir graficamente os valores tendem a seguir uma linha ascendente ou descendente.\n",
        "*   Já a **média geométrica** é mais apropriada quando temos uma amostra com um **relacionamento multiplicativo** ou exponencial.\n",
        "\n",
        "\n",
        "*   A diferença entre as médias é que enquanto a média aritmética faz a **soma** de todos os elementos e depois a **divisão**, a média geométrica atua com a **multiplicação** entre os elementos e depois reescala através da **raiz** os valores para a mesma unidade da amostra.\n",
        "\n",
        "\n",
        "\n",
        "\n",
        "\n",
        "\n"
      ]
    },
    {
      "cell_type": "markdown",
      "metadata": {
        "id": "hOX4MOkiCiT4"
      },
      "source": [
        "# Comparando as médidas em um cenário real.\n",
        "### Verificando os valores de avaliações de dois cafés.\n",
        "### Hard Rock Café Gramado vs Hard Rock Café Curitiba."
      ]
    },
    {
      "cell_type": "markdown",
      "metadata": {
        "id": "y84QuoR-Cfr2"
      },
      "source": [
        "![alt text](https://media-cdn.tripadvisor.com/media/photo-s/13/df/fc/f0/fachada-hard-rock-cafe.jpg)\n",
        "![alt text](https://media-cdn.tripadvisor.com/media/photo-s/1a/2e/c8/db/hard-rock-cafe-curitiba.jpg)"
      ]
    },
    {
      "cell_type": "markdown",
      "metadata": {
        "id": "U4tXULdhEuW4"
      },
      "source": [
        "**Hard Rock Café Gramado**\n",
        "*   Avaliações no TripAdvisor: 3,5\n",
        "*   Índice de Satisfação dos Clientes: 89%\n",
        "\n",
        "**Hard Rock Café Curitiba**\n",
        "*   Avaliaçõs no TripAdvisor: 4,5\n",
        "*   Índice de Satisfação dos Clientes: 75%\n"
      ]
    },
    {
      "cell_type": "markdown",
      "metadata": {
        "id": "E23TQ2y9HRl2"
      },
      "source": [
        "Aplicação de verificar o estabelecimento com a melhor avaliação em diferentes escalas."
      ]
    },
    {
      "cell_type": "markdown",
      "metadata": {
        "id": "ZYVsCes_ITl3"
      },
      "source": [
        "Calculando a média aritmética"
      ]
    },
    {
      "cell_type": "code",
      "metadata": {
        "id": "x39nVkplEtkp"
      },
      "source": [
        "aval_gramado,aval_curitiba = 3.5, 4.5\n",
        "indice_gramado,indice_curitiba = 89, 75"
      ],
      "execution_count": null,
      "outputs": []
    },
    {
      "cell_type": "code",
      "metadata": {
        "id": "dk8bZaFcKjf6"
      },
      "source": [
        "print(\"Média para Gramado: {}\".format(np.mean([aval_gramado,indice_gramado])))\n",
        "print(\"Média para Curitiba: {}\".format(np.mean([aval_curitiba,indice_curitiba])))"
      ],
      "execution_count": null,
      "outputs": []
    },
    {
      "cell_type": "markdown",
      "metadata": {
        "id": "Vgq0PtG-Pn38"
      },
      "source": [
        "Considerando a média aritmética o Hard Rock Café de Gramado é o estabelecimento melhor avaliado."
      ]
    },
    {
      "cell_type": "markdown",
      "metadata": {
        "id": "GzYJKv_vQjCd"
      },
      "source": [
        "Agora vamos considerar a possibilidade de fazer uma reescala dos dados de avaliação do trip advisor."
      ]
    },
    {
      "cell_type": "code",
      "metadata": {
        "id": "5SttJRUvQ8qJ"
      },
      "source": [
        "print(\"Valores reescalados: {},{}\".format(aval_gramado*20,aval_curitiba*20))"
      ],
      "execution_count": null,
      "outputs": []
    },
    {
      "cell_type": "markdown",
      "metadata": {
        "id": "7MdfLemHR6Rg"
      },
      "source": [
        "Calculando a média aritmética"
      ]
    },
    {
      "cell_type": "code",
      "metadata": {
        "id": "qVcDbx0ZR28o"
      },
      "source": [
        "print(\"Média para Gramado: {}\".format(np.mean([aval_gramado*20,indice_gramado])))\n",
        "print(\"Média para Curitiba: {}\".format(np.mean([aval_curitiba*20,indice_curitiba])))"
      ],
      "execution_count": null,
      "outputs": []
    },
    {
      "cell_type": "markdown",
      "metadata": {
        "id": "VZKjTZmfe9ai"
      },
      "source": [
        "Considerando o mesmo cenário agora utilizando a média geométrica."
      ]
    },
    {
      "cell_type": "code",
      "metadata": {
        "id": "wUqRfna9fqaX"
      },
      "source": [
        "print(\"Média Geométrica para Gramado: {}\".format(gmean([aval_gramado,indice_gramado])))\n",
        "print(\"Média Geométrica para Curitiba: {}\".format(gmean([aval_curitiba,indice_curitiba])))"
      ],
      "execution_count": null,
      "outputs": []
    },
    {
      "cell_type": "markdown",
      "metadata": {
        "id": "VA_3GtxfDh4W"
      },
      "source": [
        "### Considerações\n",
        "*   Os valores alterados para a mesma escala nos deram **resultados diferentes** mais próximos da realidade.\n",
        "*   Utilizando a média geométrica já nos entrega o resultado \"correto\" pois considera o **relacionamento multiplicativo** entre os dados da amostra.\n",
        "*   É importante notar que aplicando a média geométrica para os dados em **diferentes escalas** o retorno não está na mesma unidade da amostra.\n",
        "\n",
        "\n"
      ]
    },
    {
      "cell_type": "markdown",
      "metadata": {
        "id": "3tFjwgjUo0HK"
      },
      "source": [
        "## Média harmônica."
      ]
    },
    {
      "cell_type": "markdown",
      "metadata": {
        "id": "RlTZ7Bi9LQiB"
      },
      "source": [
        "![alt text](https://images.unsplash.com/photo-1469854523086-cc02fe5d8800?ixlib=rb-1.2.1&ixid=eyJhcHBfaWQiOjEyMDd9&auto=format&fit=crop&w=500&q=60)\n",
        "\n",
        "\n",
        "Percurso Total da Viagem 10km\n",
        "*   CAMINHO DE IDA = 30km/h\n",
        "*   CAMINHO DE VOLTA = 10km/h\n",
        "\n",
        "\n"
      ]
    },
    {
      "cell_type": "markdown",
      "metadata": {
        "id": "rq1AgTOwL81C"
      },
      "source": [
        "**Qual a velocidade média da viagem?**"
      ]
    },
    {
      "cell_type": "markdown",
      "metadata": {
        "id": "5DdHJOV-MAjw"
      },
      "source": [
        "Usando a média aritmética"
      ]
    },
    {
      "cell_type": "code",
      "metadata": {
        "id": "dQUp2bL7MCrP"
      },
      "source": [
        "np.mean([30,10])"
      ],
      "execution_count": null,
      "outputs": []
    },
    {
      "cell_type": "markdown",
      "metadata": {
        "id": "Puroq9bhMHWa"
      },
      "source": [
        "**VIAGEM DE IDA - 5km à 30km/h**\n",
        "*   30 km por 60 minutos = 1 km a cada 2 minutos = 1/2 km por minuto.\n",
        "*   5km a 1/2 km por minuto = 10 minutos.\n"
      ]
    },
    {
      "cell_type": "markdown",
      "metadata": {
        "id": "8ROIpoCUMvrY"
      },
      "source": [
        "**VIAGEM DE VOLTA - 5km à 10km/h**\n",
        "*   10 km por 60 minutos = 1 km a cada 6 minutos = 1/6 km por minuto.\n",
        "*   5 km a 1/6 km por minuto = 30 minutos."
      ]
    },
    {
      "cell_type": "markdown",
      "metadata": {
        "id": "jn_J4LC1Nbgv"
      },
      "source": [
        "Tempo total da viagem = 40 minutos"
      ]
    },
    {
      "cell_type": "markdown",
      "metadata": {
        "id": "Wp9UKdKUNeIr"
      },
      "source": [
        "Proporção da viagem de ida em relação ao tempo total da viagem."
      ]
    },
    {
      "cell_type": "code",
      "metadata": {
        "id": "udmHdBEONlts"
      },
      "source": [
        "print(\"Proporção de tempo da viagem de ida em relação ao tempo total da viagem: {}%\".format((10/40)*100))"
      ],
      "execution_count": null,
      "outputs": []
    },
    {
      "cell_type": "code",
      "metadata": {
        "id": "wiMymk_kN4GQ"
      },
      "source": [
        "print(\"Proporção de tempo da viagem de volta em relação ao tempo total da viagem: {}%\".format((30/40)*100))"
      ],
      "execution_count": null,
      "outputs": []
    },
    {
      "cell_type": "markdown",
      "metadata": {
        "id": "DLEUHTG5OhfT"
      },
      "source": [
        "Calculando a Média Aritmética Ponderada."
      ]
    },
    {
      "cell_type": "code",
      "metadata": {
        "id": "nusGgidhOICo"
      },
      "source": [
        "np.average([30,10], weights=[.25,.75])"
      ],
      "execution_count": null,
      "outputs": []
    },
    {
      "cell_type": "code",
      "metadata": {
        "id": "FUmdGfGYOzKn"
      },
      "source": [
        "hmean([30,10])"
      ],
      "execution_count": null,
      "outputs": []
    },
    {
      "cell_type": "markdown",
      "metadata": {
        "id": "Pv7QcAODWiQO"
      },
      "source": [
        "### As médias seguem um relacionamento ordinal: **média harmônica < média geométrica < média aritmética**."
      ]
    },
    {
      "cell_type": "markdown",
      "metadata": {
        "id": "C0YTVp4jXWff"
      },
      "source": [
        "Considerando os dados com o relacionamento aditivo."
      ]
    },
    {
      "cell_type": "code",
      "metadata": {
        "id": "e3NhRbvm5lDQ"
      },
      "source": [
        "dados = [1, 4, 7, 10, 13, 16, 19]"
      ],
      "execution_count": null,
      "outputs": []
    },
    {
      "cell_type": "code",
      "metadata": {
        "id": "kvSWHH3cInuI"
      },
      "source": [
        "media_aritmetica,media_geometrica,media_harmonica = round(np.mean(dados),2),round(gmean(dados),2),round(hmean(dados),2)"
      ],
      "execution_count": null,
      "outputs": []
    },
    {
      "cell_type": "code",
      "metadata": {
        "id": "4ZYD_FsQKCxR"
      },
      "source": [
        "media_aritmetica,media_geometrica,media_harmonica"
      ],
      "execution_count": null,
      "outputs": []
    },
    {
      "cell_type": "markdown",
      "metadata": {
        "id": "JhVIFn9oXb4T"
      },
      "source": [
        "Visualizando graficamente."
      ]
    },
    {
      "cell_type": "code",
      "metadata": {
        "id": "lcDJoUTG5pmd"
      },
      "source": [
        "plot_line_means(dados,media_aritmetica,media_geometrica,media_harmonica)"
      ],
      "execution_count": null,
      "outputs": []
    },
    {
      "cell_type": "markdown",
      "metadata": {
        "id": "GJBRL-yhXe5V"
      },
      "source": [
        "Considerando os dados com o relacionamento multiplicativo."
      ]
    },
    {
      "cell_type": "code",
      "metadata": {
        "id": "K_SIYROiwXg0"
      },
      "source": [
        "dados = [1, 3, 9, 27, 81, 243, 729]"
      ],
      "execution_count": null,
      "outputs": []
    },
    {
      "cell_type": "code",
      "metadata": {
        "id": "MEFonWSmQOZw"
      },
      "source": [
        "media_aritmetica,media_geometrica,media_harmonica = round(np.mean(dados),2),round(gmean(dados),2),round(hmean(dados),2)"
      ],
      "execution_count": null,
      "outputs": []
    },
    {
      "cell_type": "code",
      "metadata": {
        "id": "qDlf65sSQO-d"
      },
      "source": [
        "media_aritmetica,media_geometrica,media_harmonica"
      ],
      "execution_count": null,
      "outputs": []
    },
    {
      "cell_type": "markdown",
      "metadata": {
        "id": "5LDtiaNqXoMW"
      },
      "source": [
        "Visualizando graficamente."
      ]
    },
    {
      "cell_type": "code",
      "metadata": {
        "id": "_5T8CtKpQQ9T"
      },
      "source": [
        "plot_line_means(dados,media_aritmetica,media_geometrica,media_harmonica)"
      ],
      "execution_count": null,
      "outputs": []
    },
    {
      "cell_type": "markdown",
      "metadata": {
        "id": "cLUMxLrsKPhI"
      },
      "source": [
        "**Moda - Valores mais frequentes da distribuição**"
      ]
    },
    {
      "cell_type": "code",
      "metadata": {
        "id": "kYSd6b9OfVwY"
      },
      "source": [
        "dados=[4,5,4,6,5,8,4]"
      ],
      "execution_count": null,
      "outputs": []
    },
    {
      "cell_type": "code",
      "metadata": {
        "id": "2oE4M8bXfzex"
      },
      "source": [
        "stats.mode(dados)"
      ],
      "execution_count": null,
      "outputs": []
    },
    {
      "cell_type": "code",
      "metadata": {
        "id": "Fo_jLni1XHcA"
      },
      "source": [
        "dados_bimodal=[4,5,4,6,5,8,4,4,5,5]"
      ],
      "execution_count": null,
      "outputs": []
    },
    {
      "cell_type": "code",
      "metadata": {
        "id": "Hf-SVQKh7axy"
      },
      "source": [
        "from collections import Counter"
      ],
      "execution_count": null,
      "outputs": []
    },
    {
      "cell_type": "code",
      "metadata": {
        "id": "7nuDt03sfv0c"
      },
      "source": [
        "def calcula_moda(dados):\n",
        "  number_counts = Counter(dados)\n",
        "  print(number_counts)\n",
        "  modes = [val for val,count in number_counts.items() if count == max(number_counts.values())]\n",
        "  return modes"
      ],
      "execution_count": null,
      "outputs": []
    },
    {
      "cell_type": "code",
      "metadata": {
        "id": "dBroOcLkXTDy"
      },
      "source": [
        "calcula_moda(dados_bimodal)"
      ],
      "execution_count": null,
      "outputs": []
    },
    {
      "cell_type": "code",
      "metadata": {
        "id": "2xAmiAi7Xrzo"
      },
      "source": [
        "dados_amodal=[1,2,3,4,5]"
      ],
      "execution_count": null,
      "outputs": []
    },
    {
      "cell_type": "code",
      "metadata": {
        "id": "rjV57RNJgqP_"
      },
      "source": [
        "calcula_moda(dados_amodal)"
      ],
      "execution_count": null,
      "outputs": []
    },
    {
      "cell_type": "markdown",
      "metadata": {
        "id": "yLfFLbVEKP9J"
      },
      "source": [
        "**Mediana - É o valor da variável que divide os dados ordenados em duas partes de igual frequência.**"
      ]
    },
    {
      "cell_type": "code",
      "metadata": {
        "id": "ciTxDV5etNw6"
      },
      "source": [
        "dados_mediana7 = [7,1,5,2,3,1,6]"
      ],
      "execution_count": null,
      "outputs": []
    },
    {
      "cell_type": "code",
      "metadata": {
        "id": "_DKfdkLRumFj"
      },
      "source": [
        "np.sort(dados_mediana7)"
      ],
      "execution_count": null,
      "outputs": []
    },
    {
      "cell_type": "code",
      "metadata": {
        "id": "eDGhZOZntYf_"
      },
      "source": [
        "np.median(dados_mediana7)"
      ],
      "execution_count": null,
      "outputs": []
    },
    {
      "cell_type": "code",
      "metadata": {
        "id": "rWkL3hsiKY3q"
      },
      "source": [
        "dados_mediana8 = [1,2,1,1,4,5,3,6]"
      ],
      "execution_count": null,
      "outputs": []
    },
    {
      "cell_type": "code",
      "metadata": {
        "id": "HDy0_g95uu6I"
      },
      "source": [
        "np.sort(dados_mediana8)"
      ],
      "execution_count": null,
      "outputs": []
    },
    {
      "cell_type": "code",
      "metadata": {
        "id": "JyEACdIpuFzI"
      },
      "source": [
        "np.median(dados_mediana8)"
      ],
      "execution_count": null,
      "outputs": []
    },
    {
      "cell_type": "markdown",
      "metadata": {
        "id": "hsgSxTj7KQFg"
      },
      "source": [
        "# Medidas Separatrizes"
      ]
    },
    {
      "cell_type": "code",
      "metadata": {
        "id": "8TPGX7OgrYQX"
      },
      "source": [
        "notas = [13,25,69,72,33,41,28,17,65]"
      ],
      "execution_count": null,
      "outputs": []
    },
    {
      "cell_type": "code",
      "metadata": {
        "id": "wdlvMgV3wCn5"
      },
      "source": [
        "np.sort(notas)"
      ],
      "execution_count": null,
      "outputs": []
    },
    {
      "cell_type": "markdown",
      "metadata": {
        "id": "eLQnsttezVO2"
      },
      "source": [
        "**Q1 - Primeiro Quartil**"
      ]
    },
    {
      "cell_type": "code",
      "metadata": {
        "id": "fAGdGABNwo7-"
      },
      "source": [
        "np.quantile(notas,.25)"
      ],
      "execution_count": null,
      "outputs": []
    },
    {
      "cell_type": "markdown",
      "metadata": {
        "id": "0hMYdvm4zch-"
      },
      "source": [
        "**Q2 - Segundo Quartil**"
      ]
    },
    {
      "cell_type": "code",
      "metadata": {
        "id": "GxyOye9-xjYN"
      },
      "source": [
        "np.quantile(notas,.50)"
      ],
      "execution_count": null,
      "outputs": []
    },
    {
      "cell_type": "markdown",
      "metadata": {
        "id": "ctNCMCDi1jCD"
      },
      "source": [
        "Comparando com o valor da Mediana"
      ]
    },
    {
      "cell_type": "code",
      "metadata": {
        "id": "NIi79oqa1mTG"
      },
      "source": [
        "np.median(notas)"
      ],
      "execution_count": null,
      "outputs": []
    },
    {
      "cell_type": "markdown",
      "metadata": {
        "id": "T0R8upGzzfZM"
      },
      "source": [
        "**Q3 - Terceiro Quartil**"
      ]
    },
    {
      "cell_type": "code",
      "metadata": {
        "id": "LfRbaWQFxjKV"
      },
      "source": [
        "np.quantile(notas,.75)"
      ],
      "execution_count": null,
      "outputs": []
    },
    {
      "cell_type": "markdown",
      "metadata": {
        "id": "S1JYS8Wj70Mh"
      },
      "source": [
        "**P25 - Percentil 25 = Q1**"
      ]
    },
    {
      "cell_type": "code",
      "metadata": {
        "id": "K0YrgDin1EoD"
      },
      "source": [
        "np.percentile(notas,25)"
      ],
      "execution_count": null,
      "outputs": []
    },
    {
      "cell_type": "markdown",
      "metadata": {
        "id": "cQrKlLbb8Zwe"
      },
      "source": [
        "**P50 - Percentil 50 = Q2**\n"
      ]
    },
    {
      "cell_type": "code",
      "metadata": {
        "id": "-AxJlUmw8HYe"
      },
      "source": [
        "np.percentile(notas,50)"
      ],
      "execution_count": null,
      "outputs": []
    },
    {
      "cell_type": "markdown",
      "metadata": {
        "id": "vBnkRaEh8KK2"
      },
      "source": [
        "**P75 - Percentil 75 = Q3**"
      ]
    },
    {
      "cell_type": "code",
      "metadata": {
        "id": "Z_-CRb0P8LF_"
      },
      "source": [
        "np.percentile(notas,75)"
      ],
      "execution_count": null,
      "outputs": []
    },
    {
      "cell_type": "markdown",
      "metadata": {
        "id": "0rfhERIXKQNw"
      },
      "source": [
        "## Medidas de Variação e Dispersão"
      ]
    },
    {
      "cell_type": "code",
      "metadata": {
        "id": "_eI5nwzR0Ph6"
      },
      "source": [
        "dados_dispersao = [10,20,30,40,50,60,70,80,90,100]"
      ],
      "execution_count": null,
      "outputs": []
    },
    {
      "cell_type": "markdown",
      "metadata": {
        "id": "SMpUvp880giq"
      },
      "source": [
        "**Média**"
      ]
    },
    {
      "cell_type": "code",
      "metadata": {
        "id": "ihucagrh0ihn"
      },
      "source": [
        "np.mean(dados_dispersao)"
      ],
      "execution_count": null,
      "outputs": []
    },
    {
      "cell_type": "markdown",
      "metadata": {
        "id": "B1M62ymNKhbw"
      },
      "source": [
        "**Variância**\n",
        "\n",
        "![alt text](https://wikimedia.org/api/rest_v1/media/math/render/svg/c2446a06b779245a22147449fc523f2b1b0013ef)"
      ]
    },
    {
      "cell_type": "code",
      "metadata": {
        "id": "rFqROpyiKq5O"
      },
      "source": [
        "np.var(dados_dispersao)"
      ],
      "execution_count": null,
      "outputs": []
    },
    {
      "cell_type": "markdown",
      "metadata": {
        "id": "4-oBtLcnKQVh"
      },
      "source": [
        "**Desvio Padrão**\n",
        "\n",
        "![alt text](https://wikimedia.org/api/rest_v1/media/math/render/svg/cc45b72e1fd6a3de3ec4977f42367f104f57583f)"
      ]
    },
    {
      "cell_type": "code",
      "metadata": {
        "id": "bv1jLqB2KgHo"
      },
      "source": [
        "np.std(dados_dispersao)"
      ],
      "execution_count": null,
      "outputs": []
    },
    {
      "cell_type": "markdown",
      "metadata": {
        "id": "quE0vzU2KigB"
      },
      "source": [
        "**Coeficiente de Variação**"
      ]
    },
    {
      "cell_type": "code",
      "metadata": {
        "id": "-pulTCl-1IQf"
      },
      "source": [
        "stats.variation(dados_dispersao)"
      ],
      "execution_count": null,
      "outputs": []
    },
    {
      "cell_type": "markdown",
      "metadata": {
        "id": "ikOkDTuaZIvf"
      },
      "source": [
        "Importante: Um coeficiente de variação **menor que 25%** é um bom indicativo de homogeneidade dos dados, ou seja, os dados não variam tanto a partir da média."
      ]
    },
    {
      "cell_type": "code",
      "metadata": {
        "id": "Ln66W8PPKpXh"
      },
      "source": [
        "media=np.mean(dados_dispersao)\n",
        "desvio_padrao = np.std(dados_dispersao)"
      ],
      "execution_count": null,
      "outputs": []
    },
    {
      "cell_type": "code",
      "metadata": {
        "id": "jZOMqLYc1d40"
      },
      "source": [
        "desvio_padrao/media"
      ],
      "execution_count": null,
      "outputs": []
    },
    {
      "cell_type": "markdown",
      "metadata": {
        "id": "6_ZtdOoG0XRV"
      },
      "source": [
        "# Exemplo usando o Pandas"
      ]
    },
    {
      "cell_type": "markdown",
      "metadata": {
        "id": "aY_ma9QR9wQq"
      },
      "source": [
        "Importando as bibliotecas."
      ]
    },
    {
      "cell_type": "code",
      "metadata": {
        "id": "IM3LHKiy0Wcs"
      },
      "source": [
        "import pandas as pd               \n",
        "import numpy as np\n",
        "import seaborn as sns\n",
        "import matplotlib.pyplot as plt"
      ],
      "execution_count": null,
      "outputs": []
    },
    {
      "cell_type": "markdown",
      "metadata": {
        "id": "W5mg0_Qn9zGZ"
      },
      "source": [
        "Carregando a base de dados."
      ]
    },
    {
      "cell_type": "code",
      "source": [
        "#montando conexão com o Drive\n",
        "from google.colab import drive\n",
        "drive.mount('/content/drive')"
      ],
      "metadata": {
        "id": "4Kic2RnTXrw7"
      },
      "execution_count": null,
      "outputs": []
    },
    {
      "cell_type": "code",
      "metadata": {
        "id": "TQZu8udy054-"
      },
      "source": [
        "#copiar o diretório do arquivo CSV no seu Drive com o dataset a ser analisado\n",
        "df = pd.read_csv(\"/content/drive/MyDrive/Ciencia-Dados/cars.csv\")"
      ],
      "execution_count": null,
      "outputs": []
    },
    {
      "cell_type": "markdown",
      "metadata": {
        "id": "EHmo2YK291nD"
      },
      "source": [
        "Verificando os dados."
      ]
    },
    {
      "cell_type": "code",
      "metadata": {
        "id": "9U2gxtoo1NTf"
      },
      "source": [
        "df.head(5)"
      ],
      "execution_count": null,
      "outputs": []
    },
    {
      "cell_type": "markdown",
      "metadata": {
        "id": "msmP07bj99fw"
      },
      "source": [
        "Verificando as informações do conjunto de dados."
      ]
    },
    {
      "cell_type": "code",
      "metadata": {
        "id": "dSf8ykDt3WgQ"
      },
      "source": [
        "df.info()"
      ],
      "execution_count": null,
      "outputs": []
    },
    {
      "cell_type": "markdown",
      "metadata": {
        "id": "IkBocEye-CtR"
      },
      "source": [
        "Limpando os dados do atributo MSRP."
      ]
    },
    {
      "cell_type": "code",
      "metadata": {
        "id": "f9VYXpEO3W2X"
      },
      "source": [
        "df['MSRP'] = [x.replace('$', '') for x in df['MSRP']] \n",
        "df['MSRP'] = [x.replace(',', '') for x in df['MSRP']]"
      ],
      "execution_count": null,
      "outputs": []
    },
    {
      "cell_type": "markdown",
      "metadata": {
        "id": "YRiUjfU5_S2R"
      },
      "source": [
        "Verificando os dados após limpeza."
      ]
    },
    {
      "cell_type": "code",
      "metadata": {
        "id": "8COuUjwe-Tj3"
      },
      "source": [
        "df['MSRP'].head(5)"
      ],
      "execution_count": null,
      "outputs": []
    },
    {
      "cell_type": "markdown",
      "metadata": {
        "id": "u6MPYZkI_XBm"
      },
      "source": [
        "Verificando as informações do conjunto de dados."
      ]
    },
    {
      "cell_type": "code",
      "metadata": {
        "id": "67KkkIAd_J0V"
      },
      "source": [
        "df.info()"
      ],
      "execution_count": null,
      "outputs": []
    },
    {
      "cell_type": "markdown",
      "metadata": {
        "id": "fLXk51It-LFY"
      },
      "source": [
        "Transformando os dados para o formato numérico."
      ]
    },
    {
      "cell_type": "code",
      "metadata": {
        "id": "moGMIr59-Pu2"
      },
      "source": [
        "df['MSRP']=pd.to_numeric(df['MSRP'],errors='coerce')"
      ],
      "execution_count": null,
      "outputs": []
    },
    {
      "cell_type": "code",
      "metadata": {
        "id": "yck0iJT0_jPN"
      },
      "source": [
        "df.info()"
      ],
      "execution_count": null,
      "outputs": []
    },
    {
      "cell_type": "code",
      "metadata": {
        "id": "5ox0DXSg4FXa"
      },
      "source": [
        "df.describe()"
      ],
      "execution_count": null,
      "outputs": []
    },
    {
      "cell_type": "markdown",
      "metadata": {
        "id": "ImsZg0Zs49vT"
      },
      "source": [
        "Calculando a média aritmética."
      ]
    },
    {
      "cell_type": "code",
      "metadata": {
        "id": "3seXVSmG4thu"
      },
      "source": [
        "df[\"MSRP\"].mean()"
      ],
      "execution_count": null,
      "outputs": []
    },
    {
      "cell_type": "code",
      "metadata": {
        "id": "jVTusAT_5BrI"
      },
      "source": [
        "msrp = df[\"MSRP\"]"
      ],
      "execution_count": null,
      "outputs": []
    },
    {
      "cell_type": "code",
      "metadata": {
        "id": "fUq9bx4f5KpR"
      },
      "source": [
        "msrp.mean()"
      ],
      "execution_count": null,
      "outputs": []
    },
    {
      "cell_type": "markdown",
      "metadata": {
        "id": "yr9wH1gs7CZ3"
      },
      "source": [
        "Média geométrica"
      ]
    },
    {
      "cell_type": "code",
      "metadata": {
        "id": "H_Gcy9t46AZf"
      },
      "source": [
        "gmean(msrp)"
      ],
      "execution_count": null,
      "outputs": []
    },
    {
      "cell_type": "markdown",
      "metadata": {
        "id": "RZ5F94By7Eol"
      },
      "source": [
        "Média Harmônica"
      ]
    },
    {
      "cell_type": "code",
      "metadata": {
        "id": "jb53birq6ycT"
      },
      "source": [
        "hmean(msrp)"
      ],
      "execution_count": null,
      "outputs": []
    },
    {
      "cell_type": "markdown",
      "metadata": {
        "id": "VSKZh0yU7I5r"
      },
      "source": [
        "Mediana"
      ]
    },
    {
      "cell_type": "code",
      "metadata": {
        "id": "bKjUXqop5Ohr"
      },
      "source": [
        "msrp.median()"
      ],
      "execution_count": null,
      "outputs": []
    },
    {
      "cell_type": "markdown",
      "metadata": {
        "id": "mpcgkQFt7Kjx"
      },
      "source": [
        "Moda"
      ]
    },
    {
      "cell_type": "code",
      "metadata": {
        "id": "QXYVS8F15O1G"
      },
      "source": [
        "msrp.mode()"
      ],
      "execution_count": null,
      "outputs": []
    },
    {
      "cell_type": "markdown",
      "metadata": {
        "id": "xMkxCcZH7L1p"
      },
      "source": [
        "Variação"
      ]
    },
    {
      "cell_type": "code",
      "metadata": {
        "id": "NmkXCMna5Pll"
      },
      "source": [
        "msrp.var()"
      ],
      "execution_count": null,
      "outputs": []
    },
    {
      "cell_type": "markdown",
      "metadata": {
        "id": "HJrbuWPK7N56"
      },
      "source": [
        "Desvio padrão"
      ]
    },
    {
      "cell_type": "code",
      "metadata": {
        "id": "DG3C-Hp95PRt"
      },
      "source": [
        "msrp.std()"
      ],
      "execution_count": null,
      "outputs": []
    },
    {
      "cell_type": "markdown",
      "metadata": {
        "id": "JDt5DAiC7QwB"
      },
      "source": [
        "Valor máximo."
      ]
    },
    {
      "cell_type": "code",
      "metadata": {
        "id": "RM8QdsTK5QHo"
      },
      "source": [
        "msrp.max()"
      ],
      "execution_count": null,
      "outputs": []
    },
    {
      "cell_type": "markdown",
      "metadata": {
        "id": "f5-eXcMC7Tom"
      },
      "source": [
        "Valor mínimo"
      ]
    },
    {
      "cell_type": "code",
      "metadata": {
        "id": "HR7oitrC5Qvn"
      },
      "source": [
        "msrp.min()"
      ],
      "execution_count": null,
      "outputs": []
    },
    {
      "cell_type": "markdown",
      "metadata": {
        "id": "Y-GnN7OQ_Ozh"
      },
      "source": [
        "# Medidas de Assimetria\n",
        "Nos possibilitam analisar uma distribuição em relação a sua moda, mediana e média."
      ]
    },
    {
      "cell_type": "code",
      "metadata": {
        "id": "kLhqAiHgKQXl"
      },
      "source": [
        "import matplotlib.pyplot as plt\n",
        "import math\n",
        "import numpy as np\n",
        "import seaborn as sns\n",
        "import pandas as pd\n",
        "from scipy.stats import kurtosis, skew\n",
        "%matplotlib inline"
      ],
      "execution_count": null,
      "outputs": []
    },
    {
      "cell_type": "markdown",
      "metadata": {
        "id": "qNCNECw3iTuL"
      },
      "source": [
        "Função para calcular estatísticas."
      ]
    },
    {
      "cell_type": "code",
      "metadata": {
        "id": "K0XMPqwHDW-k"
      },
      "source": [
        "def calcula_estatisticas(data):\n",
        "  mean = round(np.mean(data),2)\n",
        "  mode = round(stats.mode(data,)[0][0],2)\n",
        "  median = round(np.median(data),2)\n",
        "  var = round(np.var(data),2)\n",
        "  std = round(np.std(data),2)\n",
        "  coef_pearson = round(stats.skew(data),2)\n",
        "  coef_kurtosis = round(kurtosis(data),2)\n",
        "  msg = print(\"Media: {}\\nModa: {}\\nMediana: {}\\nVariância: {}\\nDesvio Padrão: {}\\nCoeficiente Person: {}\\nCoeficiente de Kurtosi: {}\".format(mean,median,mode,var,std,coef_pearson,coef_kurtosis))\n",
        "  return msg"
      ],
      "execution_count": null,
      "outputs": []
    },
    {
      "cell_type": "markdown",
      "metadata": {
        "id": "Za5Hltx1l3pR"
      },
      "source": [
        "Considere a seguinte amostra."
      ]
    },
    {
      "cell_type": "code",
      "metadata": {
        "id": "NbLEtUIGbazs"
      },
      "source": [
        "s0 = [4,5,6,5,5,6,6,5,4,5,5,5]"
      ],
      "execution_count": null,
      "outputs": []
    },
    {
      "cell_type": "code",
      "metadata": {
        "id": "ULWk2vH8e0Wp"
      },
      "source": [
        "calcula_estatisticas(s0)"
      ],
      "execution_count": null,
      "outputs": []
    },
    {
      "cell_type": "markdown",
      "metadata": {
        "id": "yyj7LY2Y3SCB"
      },
      "source": [
        "Distribuição Simétrica - Média = Moda = Mediana."
      ]
    },
    {
      "cell_type": "code",
      "metadata": {
        "id": "Fa1M1i4grycB"
      },
      "source": [
        "fig = plt.figure(figsize=(12, 4))\n",
        "ax = sns.distplot(s0,rug=True,kde=True,hist=False)\n",
        "\n",
        "ax.annotate('Mode', xy=(5, 0.4), xytext=(4.7, 0.7),arrowprops={'arrowstyle': '-'})         \n",
        "ax.annotate('Median', xy=(5, 0.4), xytext=(5.3, 0.7),arrowprops={'arrowstyle': '-'})\n",
        "ax.annotate('Média', xy=(5, 0.4), xytext=(5.0, 1), arrowprops={'arrowstyle': '-'})\n",
        "plt.show()"
      ],
      "execution_count": null,
      "outputs": []
    },
    {
      "cell_type": "markdown",
      "metadata": {
        "id": "vZR0Ev4eFouu"
      },
      "source": [
        "Coeficiente de Pearson - O valor é próximo de zero a distribuição é simétrica.\n",
        "\n",
        "Coeficiente de Curtose - O valor é menor que 3 o grau de achatamento da distribuição normal é platicúrtica (mais achatada no platô)"
      ]
    },
    {
      "cell_type": "markdown",
      "metadata": {
        "id": "UKXix0t2V7C1"
      },
      "source": [
        "Considere a segunda amostra."
      ]
    },
    {
      "cell_type": "code",
      "metadata": {
        "id": "lb-A7Psve_sz"
      },
      "source": [
        "s1 = [12,8.0, 4, 3, 2,1,1]"
      ],
      "execution_count": null,
      "outputs": []
    },
    {
      "cell_type": "code",
      "metadata": {
        "id": "_3GVdsIpfDrM"
      },
      "source": [
        "calcula_estatisticas(s1)"
      ],
      "execution_count": null,
      "outputs": []
    },
    {
      "cell_type": "markdown",
      "metadata": {
        "id": "9GiXm6p73teq"
      },
      "source": [
        "Asimétrica Positiva / à direita - Média > Moda > Mediana"
      ]
    },
    {
      "cell_type": "code",
      "metadata": {
        "id": "_MFULXorva1t"
      },
      "source": [
        "fig = plt.figure(figsize=(12, 4))\n",
        "ax = sns.distplot(s1,rug=True,kde=True,hist=False)\n",
        "\n",
        "ax.annotate('Moda', xy=(1,0.01), xytext=(1, 0.02),arrowprops={'arrowstyle': '-'})         \n",
        "ax.annotate('Mediana', xy=(3, 0.01), xytext=(3, 0.03),arrowprops={'arrowstyle': '-'})\n",
        "ax.annotate('Média', xy=(4.4, 0.01), xytext=(4.5, 0.02),arrowprops={'arrowstyle': '-'})\n",
        "plt.show()"
      ],
      "execution_count": null,
      "outputs": []
    },
    {
      "cell_type": "markdown",
      "metadata": {
        "id": "YgT3LUb0nu5S"
      },
      "source": [
        "Coeficiente de Pearson - O valor é próximo de 1 a distribuição é assimétrica positiva"
      ]
    },
    {
      "cell_type": "markdown",
      "metadata": {
        "id": "yM13rLkhjj1W"
      },
      "source": [
        "Considere a terceira amostra"
      ]
    },
    {
      "cell_type": "code",
      "metadata": {
        "id": "2Z6WDSsEfQtB"
      },
      "source": [
        "s2 = [-3,-1,4,2.5,4,3]"
      ],
      "execution_count": null,
      "outputs": []
    },
    {
      "cell_type": "code",
      "metadata": {
        "id": "o9BhWeTCfTab"
      },
      "source": [
        "calcula_estatisticas(s2)"
      ],
      "execution_count": null,
      "outputs": []
    },
    {
      "cell_type": "markdown",
      "metadata": {
        "id": "cH_kVyzP36gf"
      },
      "source": [
        "Asimétrica negativa / à esquerda - Média < Moda < Mediana"
      ]
    },
    {
      "cell_type": "code",
      "metadata": {
        "id": "CMMlyXFt1Zsc"
      },
      "source": [
        "fig = plt.figure(figsize=(12, 4))\n",
        "ax = sns.distplot(s2,rug=True,kde=True,hist=False)\n",
        "\n",
        "ax.annotate('Moda', xy=(4,0.01), xytext=(5, 0.05),arrowprops={'arrowstyle': '-'})         \n",
        "ax.annotate('Mediana', xy=(2.75, 0.01), xytext=(3, 0.03),arrowprops={'arrowstyle': '-'})\n",
        "ax.annotate('Média', xy=(1.5, 0.01), xytext=(0.5, 0.05),arrowprops={'arrowstyle': '-'})\n",
        "plt.show()"
      ],
      "execution_count": null,
      "outputs": []
    },
    {
      "cell_type": "markdown",
      "metadata": {
        "id": "UKyKH5yLUClJ"
      },
      "source": [
        "Coeficiente de Pearson - O valor é próximo de -1 a distribuição é assimétrica negativa."
      ]
    },
    {
      "cell_type": "markdown",
      "metadata": {
        "id": "oF8uzpKnb3Rp"
      },
      "source": [
        "### Gerando dados aleatórios"
      ]
    },
    {
      "cell_type": "markdown",
      "metadata": {
        "id": "J6NW6-MxcAu-"
      },
      "source": [
        "Amostra seguindo uma distribuição normal"
      ]
    },
    {
      "cell_type": "code",
      "metadata": {
        "id": "6BfqAwCWb8yV"
      },
      "source": [
        "sample_normal = np.random.normal(1,0.5,500)"
      ],
      "execution_count": null,
      "outputs": []
    },
    {
      "cell_type": "code",
      "metadata": {
        "id": "zchoS29UcbyG"
      },
      "source": [
        "sample_normal[:10]"
      ],
      "execution_count": null,
      "outputs": []
    },
    {
      "cell_type": "code",
      "metadata": {
        "id": "_CYgTuMLccQG"
      },
      "source": [
        "calcula_estatisticas(sample_normal)"
      ],
      "execution_count": null,
      "outputs": []
    },
    {
      "cell_type": "markdown",
      "metadata": {
        "id": "0Q6_3QoVquiP"
      },
      "source": [
        "Visualizando a distribuição"
      ]
    },
    {
      "cell_type": "code",
      "metadata": {
        "id": "JrsQJ1Zecvbi"
      },
      "source": [
        "fig = plt.figure(figsize=(12, 4))\n",
        "sns.distplot(sample_normal)"
      ],
      "execution_count": null,
      "outputs": []
    },
    {
      "cell_type": "markdown",
      "metadata": {
        "id": "FV7S-RxqkKZV"
      },
      "source": [
        "Distribuição simétrica, com o coeficiente de pearson próximo a zero."
      ]
    },
    {
      "cell_type": "markdown",
      "metadata": {
        "id": "mAxxYa8gkbX7"
      },
      "source": [
        "Considere o seguinte exemplo"
      ]
    },
    {
      "cell_type": "code",
      "metadata": {
        "id": "uW3QO11DdQav"
      },
      "source": [
        "exp = np.arange(2,len(sample_normal),2)"
      ],
      "execution_count": null,
      "outputs": []
    },
    {
      "cell_type": "markdown",
      "metadata": {
        "id": "asXn1lqKp8y1"
      },
      "source": [
        "Verificando os expoentes"
      ]
    },
    {
      "cell_type": "code",
      "metadata": {
        "id": "46Qu1pdHqAB6"
      },
      "source": [
        "exp[:10]"
      ],
      "execution_count": null,
      "outputs": []
    },
    {
      "cell_type": "markdown",
      "metadata": {
        "id": "fMJhS8TXqUWh"
      },
      "source": [
        "Gerando uma distribuição assimétrica positiva"
      ]
    },
    {
      "cell_type": "code",
      "metadata": {
        "id": "sbVpQLxFqY0D"
      },
      "source": [
        "sample_assimetrica_positiva = []\n",
        "for s,e in zip(sample_normal,exp):\n",
        "    sample_assimetrica_positiva.append(s*e)"
      ],
      "execution_count": null,
      "outputs": []
    },
    {
      "cell_type": "code",
      "metadata": {
        "id": "I0LFL3ZidTvS"
      },
      "source": [
        "calcula_estatisticas(sample_assimetrica_positiva)"
      ],
      "execution_count": null,
      "outputs": []
    },
    {
      "cell_type": "markdown",
      "metadata": {
        "id": "oH0wf72Iq8zE"
      },
      "source": [
        "Visualizando a distribuição"
      ]
    },
    {
      "cell_type": "code",
      "metadata": {
        "id": "mxr5jPv0dg8F"
      },
      "source": [
        "sns.distplot(sample_assimetrica_positiva)"
      ],
      "execution_count": null,
      "outputs": []
    },
    {
      "cell_type": "markdown",
      "metadata": {
        "id": "_xvT6EIErDOz"
      },
      "source": [
        "Gerando uma distribuição assimétrica negativa."
      ]
    },
    {
      "cell_type": "code",
      "metadata": {
        "id": "myDjnY8ldt41"
      },
      "source": [
        "exp = (np.arange(2,len(sample_normal),2))*-1"
      ],
      "execution_count": null,
      "outputs": []
    },
    {
      "cell_type": "markdown",
      "metadata": {
        "id": "biub1ntFrONb"
      },
      "source": [
        "Verificando os expoêntes"
      ]
    },
    {
      "cell_type": "code",
      "metadata": {
        "id": "yDf_W-EfsbRx"
      },
      "source": [
        "exp[:10]"
      ],
      "execution_count": null,
      "outputs": []
    },
    {
      "cell_type": "code",
      "metadata": {
        "id": "c4wOPyxXrTmC"
      },
      "source": [
        "sample_assimetrica_negativa = []\n",
        "for s,e in zip(sample_normal,exp):\n",
        "    sample_assimetrica_negativa.append(s*e)"
      ],
      "execution_count": null,
      "outputs": []
    },
    {
      "cell_type": "code",
      "metadata": {
        "id": "HViRSD3cdzMu"
      },
      "source": [
        "calcula_estatisticas(sample_assimetrica_negativa)"
      ],
      "execution_count": null,
      "outputs": []
    },
    {
      "cell_type": "markdown",
      "metadata": {
        "id": "hHgdoCI4tAku"
      },
      "source": [
        "Visualizando a distribuição"
      ]
    },
    {
      "cell_type": "code",
      "metadata": {
        "id": "1uG0y8oRd-OH"
      },
      "source": [
        "sns.distplot(sample_assimetrica_negativa)"
      ],
      "execution_count": null,
      "outputs": []
    },
    {
      "cell_type": "markdown",
      "metadata": {
        "id": "ebLUdedG7BfB"
      },
      "source": [
        "Verificando graficamente as distribuições dos atributos do Dataframe"
      ]
    },
    {
      "cell_type": "code",
      "metadata": {
        "id": "kxPwresA9ZbP"
      },
      "source": [
        "import matplotlib.pyplot as plt\n",
        "\n",
        "fig, axes = plt.subplots(nrows=3, ncols=3,figsize=(16, 12))\n",
        "for i, column in enumerate(df.select_dtypes(include=np.number).columns.tolist()):\n",
        "    sns.distplot(df[column],ax=axes[i//3,i%3])"
      ],
      "execution_count": null,
      "outputs": []
    },
    {
      "cell_type": "markdown",
      "metadata": {
        "id": "0LUU8dMwzp7Q"
      },
      "source": [
        "Verificando a distribuição de probabilidade e a diferença entre a média e a mediana."
      ]
    },
    {
      "cell_type": "code",
      "metadata": {
        "id": "CIFmuOANerLw"
      },
      "source": [
        "for i, column in enumerate(df.select_dtypes(include=np.number).columns.tolist()):\n",
        "    media = round(df[column].mean(),2)\n",
        "    std = df[column].std()\n",
        "    cvar = round(std/media*100,2)\n",
        "    median = df[column].median()\n",
        "    print(\"Atributo: {}, Coeficiente de Variação: {} %, Media: {}, Mediana: {}\".format(column,cvar,media,median))"
      ],
      "execution_count": null,
      "outputs": []
    },
    {
      "cell_type": "markdown",
      "source": [
        "# <b>Exercício</b>\n",
        "\n",
        "## Faça a avaliação de quatro datasets atualmente recuperados pela biblioteca sktlearn, como segue:\n",
        "\n",
        "- Iris: https://scikit-learn.org/stable/datasets/toy_dataset.html#iris-plants-dataset\n",
        "- Diabetes: https://scikit-learn.org/stable/datasets/toy_dataset.html#diabetes-dataset\n",
        "- Wine (Vinhos): https://scikit-learn.org/stable/datasets/toy_dataset.html#wine-recognition-dataset\n",
        "- California Housing (imóveis na California): https://scikit-learn.org/stable/datasets/real_world.html#california-housing-dataset\n",
        "\n",
        "Observe como se comporta a distribuição dos dados em cada atributo e suas correspondentes estatíticas descritivas."
      ],
      "metadata": {
        "id": "bBu4Vd5naf9j"
      }
    },
    {
      "cell_type": "code",
      "source": [
        "# sugestões de como recuperar os datasets através da biblioteca scikit-learn\n",
        "# carregando dataset Iris\n",
        "from sklearn.datasets import load_iris\n",
        "dataIris = load_iris()\n",
        "\n",
        "# carregando dataset Diabetes\n",
        "from sklearn.datasets import load_diabetes\n",
        "dataDiabetes = load_diabetes()\n",
        "\n",
        "# carregando dataset Wine\n",
        "from sklearn.datasets import load_wine\n",
        "dataWine = load_wine()\n",
        "\n",
        "# carregando dataset California Housing\n",
        "from sklearn.datasets import fetch_california_housing\n",
        "dataCalifornia = fetch_california_housing()"
      ],
      "metadata": {
        "id": "NxEeIqvtJGxz"
      },
      "execution_count": null,
      "outputs": []
    }
  ]
}